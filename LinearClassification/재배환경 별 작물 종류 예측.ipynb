{
 "cells": [
  {
   "cell_type": "code",
   "execution_count": 1,
   "id": "e26f8cca",
   "metadata": {
    "_cell_guid": "b1076dfc-b9ad-4769-8c92-a6c4dae69d19",
    "_uuid": "8f2839f25d086af736a60e9eeb907d3b93b6e0e5",
    "execution": {
     "iopub.execute_input": "2021-10-03T02:03:44.841351Z",
     "iopub.status.busy": "2021-10-03T02:03:44.840622Z",
     "iopub.status.idle": "2021-10-03T02:03:44.847167Z",
     "shell.execute_reply": "2021-10-03T02:03:44.846571Z",
     "shell.execute_reply.started": "2021-09-29T07:51:33.542247Z"
    },
    "papermill": {
     "duration": 0.036751,
     "end_time": "2021-10-03T02:03:44.847335",
     "exception": false,
     "start_time": "2021-10-03T02:03:44.810584",
     "status": "completed"
    },
    "tags": []
   },
   "outputs": [
    {
     "name": "stdout",
     "output_type": "stream",
     "text": [
      "/kaggle/input/2021-ai-w4-p2/sample.csv\n",
      "/kaggle/input/2021-ai-w4-p2/train.csv\n",
      "/kaggle/input/2021-ai-w4-p2/test.csv\n"
     ]
    }
   ],
   "source": [
    "# This Python 3 environment comes with many helpful analytics libraries installed\n",
    "# It is defined by the kaggle/python Docker image: https://github.com/kaggle/docker-python\n",
    "# For example, here's several helpful packages to load\n",
    "\n",
    "import numpy as np # linear algebra\n",
    "import pandas as pd # data processing, CSV file I/O (e.g. pd.read_csv)\n",
    "\n",
    "# Input data files are available in the read-only \"../input/\" directory\n",
    "# For example, running this (by clicking run or pressing Shift+Enter) will list all files under the input directory\n",
    "\n",
    "import os\n",
    "for dirname, _, filenames in os.walk('/kaggle/input'):\n",
    "    for filename in filenames:\n",
    "        print(os.path.join(dirname, filename))\n",
    "\n",
    "# You can write up to 20GB to the current directory (/kaggle/working/) that gets preserved as output when you create a version using \"Save & Run All\" \n",
    "# You can also write temporary files to /kaggle/temp/, but they won't be saved outside of the current session"
   ]
  },
  {
   "cell_type": "code",
   "execution_count": 2,
   "id": "1f17fa5b",
   "metadata": {
    "execution": {
     "iopub.execute_input": "2021-10-03T02:03:44.895255Z",
     "iopub.status.busy": "2021-10-03T02:03:44.894216Z",
     "iopub.status.idle": "2021-10-03T02:03:44.950987Z",
     "shell.execute_reply": "2021-10-03T02:03:44.951492Z",
     "shell.execute_reply.started": "2021-09-29T08:31:16.542214Z"
    },
    "papermill": {
     "duration": 0.081706,
     "end_time": "2021-10-03T02:03:44.951694",
     "exception": false,
     "start_time": "2021-10-03T02:03:44.869988",
     "status": "completed"
    },
    "tags": []
   },
   "outputs": [
    {
     "data": {
      "text/html": [
       "<div>\n",
       "<style scoped>\n",
       "    .dataframe tbody tr th:only-of-type {\n",
       "        vertical-align: middle;\n",
       "    }\n",
       "\n",
       "    .dataframe tbody tr th {\n",
       "        vertical-align: top;\n",
       "    }\n",
       "\n",
       "    .dataframe thead th {\n",
       "        text-align: right;\n",
       "    }\n",
       "</style>\n",
       "<table border=\"1\" class=\"dataframe\">\n",
       "  <thead>\n",
       "    <tr style=\"text-align: right;\">\n",
       "      <th></th>\n",
       "      <th>N</th>\n",
       "      <th>P</th>\n",
       "      <th>K</th>\n",
       "      <th>temperature</th>\n",
       "      <th>humidity</th>\n",
       "      <th>ph</th>\n",
       "      <th>rainfall</th>\n",
       "      <th>label</th>\n",
       "    </tr>\n",
       "  </thead>\n",
       "  <tbody>\n",
       "    <tr>\n",
       "      <th>0</th>\n",
       "      <td>22</td>\n",
       "      <td>36</td>\n",
       "      <td>16</td>\n",
       "      <td>30.581395</td>\n",
       "      <td>50.771481</td>\n",
       "      <td>8.184229</td>\n",
       "      <td>64.585596</td>\n",
       "      <td>mothbeans</td>\n",
       "    </tr>\n",
       "    <tr>\n",
       "      <th>1</th>\n",
       "      <td>18</td>\n",
       "      <td>27</td>\n",
       "      <td>41</td>\n",
       "      <td>22.365094</td>\n",
       "      <td>92.308824</td>\n",
       "      <td>7.175344</td>\n",
       "      <td>104.821633</td>\n",
       "      <td>pomegranate</td>\n",
       "    </tr>\n",
       "    <tr>\n",
       "      <th>2</th>\n",
       "      <td>61</td>\n",
       "      <td>68</td>\n",
       "      <td>50</td>\n",
       "      <td>35.214628</td>\n",
       "      <td>91.497251</td>\n",
       "      <td>6.793245</td>\n",
       "      <td>243.074507</td>\n",
       "      <td>papaya</td>\n",
       "    </tr>\n",
       "    <tr>\n",
       "      <th>3</th>\n",
       "      <td>26</td>\n",
       "      <td>72</td>\n",
       "      <td>22</td>\n",
       "      <td>28.767949</td>\n",
       "      <td>37.577921</td>\n",
       "      <td>4.674942</td>\n",
       "      <td>91.720849</td>\n",
       "      <td>pigeonpeas</td>\n",
       "    </tr>\n",
       "    <tr>\n",
       "      <th>4</th>\n",
       "      <td>2</td>\n",
       "      <td>140</td>\n",
       "      <td>197</td>\n",
       "      <td>22.697801</td>\n",
       "      <td>92.822234</td>\n",
       "      <td>5.534567</td>\n",
       "      <td>105.050823</td>\n",
       "      <td>apple</td>\n",
       "    </tr>\n",
       "  </tbody>\n",
       "</table>\n",
       "</div>"
      ],
      "text/plain": [
       "    N    P    K  temperature   humidity        ph    rainfall        label\n",
       "0  22   36   16    30.581395  50.771481  8.184229   64.585596    mothbeans\n",
       "1  18   27   41    22.365094  92.308824  7.175344  104.821633  pomegranate\n",
       "2  61   68   50    35.214628  91.497251  6.793245  243.074507       papaya\n",
       "3  26   72   22    28.767949  37.577921  4.674942   91.720849   pigeonpeas\n",
       "4   2  140  197    22.697801  92.822234  5.534567  105.050823        apple"
      ]
     },
     "execution_count": 2,
     "metadata": {},
     "output_type": "execute_result"
    }
   ],
   "source": [
    "train = pd.read_csv(\"/kaggle/input/2021-ai-w4-p2/train.csv\")\n",
    "test = pd.read_csv(\"/kaggle/input/2021-ai-w4-p2/test.csv\")\n",
    "submit = pd.read_csv(\"/kaggle/input/2021-ai-w4-p2/sample.csv\")\n",
    "\n",
    "train.head(5)"
   ]
  },
  {
   "cell_type": "code",
   "execution_count": 3,
   "id": "3a6e0532",
   "metadata": {
    "execution": {
     "iopub.execute_input": "2021-10-03T02:03:45.011827Z",
     "iopub.status.busy": "2021-10-03T02:03:45.011132Z",
     "iopub.status.idle": "2021-10-03T02:03:45.019453Z",
     "shell.execute_reply": "2021-10-03T02:03:45.020080Z",
     "shell.execute_reply.started": "2021-09-29T08:31:17.476581Z"
    },
    "papermill": {
     "duration": 0.04967,
     "end_time": "2021-10-03T02:03:45.020252",
     "exception": false,
     "start_time": "2021-10-03T02:03:44.970582",
     "status": "completed"
    },
    "tags": []
   },
   "outputs": [
    {
     "name": "stdout",
     "output_type": "stream",
     "text": [
      "<class 'pandas.core.frame.DataFrame'>\n",
      "RangeIndex: 1650 entries, 0 to 1649\n",
      "Data columns (total 8 columns):\n",
      " #   Column       Non-Null Count  Dtype  \n",
      "---  ------       --------------  -----  \n",
      " 0   N            1650 non-null   int64  \n",
      " 1   P            1650 non-null   int64  \n",
      " 2   K            1650 non-null   int64  \n",
      " 3   temperature  1650 non-null   float64\n",
      " 4   humidity     1650 non-null   float64\n",
      " 5   ph           1650 non-null   float64\n",
      " 6   rainfall     1650 non-null   float64\n",
      " 7   label        1650 non-null   object \n",
      "dtypes: float64(4), int64(3), object(1)\n",
      "memory usage: 103.2+ KB\n",
      "None\n",
      "\n",
      "<class 'pandas.core.frame.DataFrame'>\n",
      "RangeIndex: 550 entries, 0 to 549\n",
      "Data columns (total 7 columns):\n",
      " #   Column       Non-Null Count  Dtype  \n",
      "---  ------       --------------  -----  \n",
      " 0   N            550 non-null    int64  \n",
      " 1   P            550 non-null    int64  \n",
      " 2   K            550 non-null    int64  \n",
      " 3   temperature  550 non-null    float64\n",
      " 4   humidity     550 non-null    float64\n",
      " 5   ph           550 non-null    float64\n",
      " 6   rainfall     550 non-null    float64\n",
      "dtypes: float64(4), int64(3)\n",
      "memory usage: 30.2 KB\n",
      "None\n"
     ]
    }
   ],
   "source": [
    "print(train.info())\n",
    "print()\n",
    "print(test.info())"
   ]
  },
  {
   "cell_type": "code",
   "execution_count": 4,
   "id": "79b16218",
   "metadata": {
    "execution": {
     "iopub.execute_input": "2021-10-03T02:03:45.059240Z",
     "iopub.status.busy": "2021-10-03T02:03:45.058564Z",
     "iopub.status.idle": "2021-10-03T02:03:45.090378Z",
     "shell.execute_reply": "2021-10-03T02:03:45.090955Z",
     "shell.execute_reply.started": "2021-09-29T08:31:18.554807Z"
    },
    "papermill": {
     "duration": 0.052882,
     "end_time": "2021-10-03T02:03:45.091136",
     "exception": false,
     "start_time": "2021-10-03T02:03:45.038254",
     "status": "completed"
    },
    "tags": []
   },
   "outputs": [
    {
     "data": {
      "text/html": [
       "<div>\n",
       "<style scoped>\n",
       "    .dataframe tbody tr th:only-of-type {\n",
       "        vertical-align: middle;\n",
       "    }\n",
       "\n",
       "    .dataframe tbody tr th {\n",
       "        vertical-align: top;\n",
       "    }\n",
       "\n",
       "    .dataframe thead th {\n",
       "        text-align: right;\n",
       "    }\n",
       "</style>\n",
       "<table border=\"1\" class=\"dataframe\">\n",
       "  <thead>\n",
       "    <tr style=\"text-align: right;\">\n",
       "      <th></th>\n",
       "      <th>N</th>\n",
       "      <th>P</th>\n",
       "      <th>K</th>\n",
       "      <th>temperature</th>\n",
       "      <th>humidity</th>\n",
       "      <th>ph</th>\n",
       "      <th>rainfall</th>\n",
       "    </tr>\n",
       "  </thead>\n",
       "  <tbody>\n",
       "    <tr>\n",
       "      <th>count</th>\n",
       "      <td>1650.000000</td>\n",
       "      <td>1650.000000</td>\n",
       "      <td>1650.000000</td>\n",
       "      <td>1650.000000</td>\n",
       "      <td>1650.000000</td>\n",
       "      <td>1650.000000</td>\n",
       "      <td>1650.000000</td>\n",
       "    </tr>\n",
       "    <tr>\n",
       "      <th>mean</th>\n",
       "      <td>50.873333</td>\n",
       "      <td>53.345455</td>\n",
       "      <td>48.026667</td>\n",
       "      <td>25.515033</td>\n",
       "      <td>71.665353</td>\n",
       "      <td>6.474123</td>\n",
       "      <td>102.509781</td>\n",
       "    </tr>\n",
       "    <tr>\n",
       "      <th>std</th>\n",
       "      <td>37.314088</td>\n",
       "      <td>33.200469</td>\n",
       "      <td>50.954520</td>\n",
       "      <td>5.035143</td>\n",
       "      <td>21.971147</td>\n",
       "      <td>0.777618</td>\n",
       "      <td>55.298782</td>\n",
       "    </tr>\n",
       "    <tr>\n",
       "      <th>min</th>\n",
       "      <td>0.000000</td>\n",
       "      <td>5.000000</td>\n",
       "      <td>5.000000</td>\n",
       "      <td>8.825675</td>\n",
       "      <td>14.273280</td>\n",
       "      <td>3.504752</td>\n",
       "      <td>20.360011</td>\n",
       "    </tr>\n",
       "    <tr>\n",
       "      <th>25%</th>\n",
       "      <td>20.250000</td>\n",
       "      <td>28.000000</td>\n",
       "      <td>20.000000</td>\n",
       "      <td>22.713912</td>\n",
       "      <td>60.521146</td>\n",
       "      <td>5.956121</td>\n",
       "      <td>63.659862</td>\n",
       "    </tr>\n",
       "    <tr>\n",
       "      <th>50%</th>\n",
       "      <td>37.000000</td>\n",
       "      <td>51.000000</td>\n",
       "      <td>31.000000</td>\n",
       "      <td>25.546615</td>\n",
       "      <td>80.519728</td>\n",
       "      <td>6.431830</td>\n",
       "      <td>93.516755</td>\n",
       "    </tr>\n",
       "    <tr>\n",
       "      <th>75%</th>\n",
       "      <td>85.000000</td>\n",
       "      <td>68.000000</td>\n",
       "      <td>48.000000</td>\n",
       "      <td>28.435373</td>\n",
       "      <td>89.894716</td>\n",
       "      <td>6.921558</td>\n",
       "      <td>122.340263</td>\n",
       "    </tr>\n",
       "    <tr>\n",
       "      <th>max</th>\n",
       "      <td>140.000000</td>\n",
       "      <td>145.000000</td>\n",
       "      <td>205.000000</td>\n",
       "      <td>43.675493</td>\n",
       "      <td>99.981876</td>\n",
       "      <td>9.935091</td>\n",
       "      <td>298.560117</td>\n",
       "    </tr>\n",
       "  </tbody>\n",
       "</table>\n",
       "</div>"
      ],
      "text/plain": [
       "                 N            P            K  temperature     humidity  \\\n",
       "count  1650.000000  1650.000000  1650.000000  1650.000000  1650.000000   \n",
       "mean     50.873333    53.345455    48.026667    25.515033    71.665353   \n",
       "std      37.314088    33.200469    50.954520     5.035143    21.971147   \n",
       "min       0.000000     5.000000     5.000000     8.825675    14.273280   \n",
       "25%      20.250000    28.000000    20.000000    22.713912    60.521146   \n",
       "50%      37.000000    51.000000    31.000000    25.546615    80.519728   \n",
       "75%      85.000000    68.000000    48.000000    28.435373    89.894716   \n",
       "max     140.000000   145.000000   205.000000    43.675493    99.981876   \n",
       "\n",
       "                ph     rainfall  \n",
       "count  1650.000000  1650.000000  \n",
       "mean      6.474123   102.509781  \n",
       "std       0.777618    55.298782  \n",
       "min       3.504752    20.360011  \n",
       "25%       5.956121    63.659862  \n",
       "50%       6.431830    93.516755  \n",
       "75%       6.921558   122.340263  \n",
       "max       9.935091   298.560117  "
      ]
     },
     "execution_count": 4,
     "metadata": {},
     "output_type": "execute_result"
    }
   ],
   "source": [
    "train.describe()"
   ]
  },
  {
   "cell_type": "code",
   "execution_count": 5,
   "id": "478afcce",
   "metadata": {
    "execution": {
     "iopub.execute_input": "2021-10-03T02:03:45.131550Z",
     "iopub.status.busy": "2021-10-03T02:03:45.130872Z",
     "iopub.status.idle": "2021-10-03T02:03:45.135367Z",
     "shell.execute_reply": "2021-10-03T02:03:45.135931Z",
     "shell.execute_reply.started": "2021-09-29T08:31:20.37549Z"
    },
    "papermill": {
     "duration": 0.026136,
     "end_time": "2021-10-03T02:03:45.136105",
     "exception": false,
     "start_time": "2021-10-03T02:03:45.109969",
     "status": "completed"
    },
    "tags": []
   },
   "outputs": [],
   "source": [
    "X_train = train.drop('label', axis = 1)\n",
    "y_train = train['label']\n",
    "X_test = test"
   ]
  },
  {
   "cell_type": "code",
   "execution_count": 6,
   "id": "3d1d97bb",
   "metadata": {
    "execution": {
     "iopub.execute_input": "2021-10-03T02:03:45.175918Z",
     "iopub.status.busy": "2021-10-03T02:03:45.175237Z",
     "iopub.status.idle": "2021-10-03T02:03:45.180108Z",
     "shell.execute_reply": "2021-10-03T02:03:45.180596Z",
     "shell.execute_reply.started": "2021-09-29T08:31:21.697026Z"
    },
    "papermill": {
     "duration": 0.026308,
     "end_time": "2021-10-03T02:03:45.180761",
     "exception": false,
     "start_time": "2021-10-03T02:03:45.154453",
     "status": "completed"
    },
    "tags": []
   },
   "outputs": [
    {
     "data": {
      "text/plain": [
       "Index(['N', 'P', 'K', 'temperature', 'humidity', 'ph', 'rainfall'], dtype='object')"
      ]
     },
     "execution_count": 6,
     "metadata": {},
     "output_type": "execute_result"
    }
   ],
   "source": [
    "X_train.columns"
   ]
  },
  {
   "cell_type": "code",
   "execution_count": 7,
   "id": "2a5d3bac",
   "metadata": {
    "execution": {
     "iopub.execute_input": "2021-10-03T02:03:45.224019Z",
     "iopub.status.busy": "2021-10-03T02:03:45.223285Z",
     "iopub.status.idle": "2021-10-03T02:03:46.154156Z",
     "shell.execute_reply": "2021-10-03T02:03:46.154665Z",
     "shell.execute_reply.started": "2021-09-29T08:31:22.443055Z"
    },
    "papermill": {
     "duration": 0.952623,
     "end_time": "2021-10-03T02:03:46.154846",
     "exception": false,
     "start_time": "2021-10-03T02:03:45.202223",
     "status": "completed"
    },
    "tags": []
   },
   "outputs": [],
   "source": [
    "from sklearn.preprocessing import MinMaxScaler\n",
    "\n",
    "# sc_cols = ['N', 'P', 'K','temperature', 'humidity', 'rainfall']\n",
    "# sc = MinMaxScaler()\n",
    "# X_train[sc_cols] = sc.fit_transform(X_train[sc_cols])\n",
    "# X_test[sc_cols] = sc.transform(X_test[sc_cols])\n",
    "\n",
    "sc = MinMaxScaler()\n",
    "X_train = sc.fit_transform(X_train)\n",
    "X_test = sc.transform(X_test)"
   ]
  },
  {
   "cell_type": "code",
   "execution_count": 8,
   "id": "059fe448",
   "metadata": {
    "execution": {
     "iopub.execute_input": "2021-10-03T02:03:46.204740Z",
     "iopub.status.busy": "2021-10-03T02:03:46.203611Z",
     "iopub.status.idle": "2021-10-03T02:03:46.205928Z",
     "shell.execute_reply": "2021-10-03T02:03:46.206709Z",
     "shell.execute_reply.started": "2021-09-29T08:31:29.766772Z"
    },
    "papermill": {
     "duration": 0.032261,
     "end_time": "2021-10-03T02:03:46.206967",
     "exception": false,
     "start_time": "2021-10-03T02:03:46.174706",
     "status": "completed"
    },
    "tags": []
   },
   "outputs": [],
   "source": [
    "from sklearn.preprocessing import LabelEncoder\n",
    "le = LabelEncoder()\n",
    "y_train = le.fit_transform(y_train)"
   ]
  },
  {
   "cell_type": "code",
   "execution_count": 9,
   "id": "a80e9127",
   "metadata": {
    "execution": {
     "iopub.execute_input": "2021-10-03T02:03:46.261595Z",
     "iopub.status.busy": "2021-10-03T02:03:46.260783Z",
     "iopub.status.idle": "2021-10-03T02:03:47.455045Z",
     "shell.execute_reply": "2021-10-03T02:03:47.455583Z",
     "shell.execute_reply.started": "2021-09-29T08:31:30.949941Z"
    },
    "papermill": {
     "duration": 1.22571,
     "end_time": "2021-10-03T02:03:47.455757",
     "exception": false,
     "start_time": "2021-10-03T02:03:46.230047",
     "status": "completed"
    },
    "tags": []
   },
   "outputs": [
    {
     "data": {
      "text/plain": [
       "<torch._C.Generator at 0x7fa3fd15cf30>"
      ]
     },
     "execution_count": 9,
     "metadata": {},
     "output_type": "execute_result"
    }
   ],
   "source": [
    "import torch\n",
    "import torch.optim as optim\n",
    "import torch.nn.functional as F\n",
    "\n",
    "torch.manual_seed(1)"
   ]
  },
  {
   "cell_type": "code",
   "execution_count": 10,
   "id": "8cf3375e",
   "metadata": {
    "execution": {
     "iopub.execute_input": "2021-10-03T02:03:47.499063Z",
     "iopub.status.busy": "2021-10-03T02:03:47.498393Z",
     "iopub.status.idle": "2021-10-03T02:03:47.525056Z",
     "shell.execute_reply": "2021-10-03T02:03:47.525617Z",
     "shell.execute_reply.started": "2021-09-29T08:31:36.803069Z"
    },
    "papermill": {
     "duration": 0.050856,
     "end_time": "2021-10-03T02:03:47.525822",
     "exception": false,
     "start_time": "2021-10-03T02:03:47.474966",
     "status": "completed"
    },
    "tags": []
   },
   "outputs": [],
   "source": [
    "X_train = torch.FloatTensor(X_train)\n",
    "X_test = torch.FloatTensor(X_test)\n",
    "y_train = torch.LongTensor(y_train) #label encoding -> array, argmax 때문에 long"
   ]
  },
  {
   "cell_type": "markdown",
   "id": "c5b7cbeb",
   "metadata": {
    "papermill": {
     "duration": 0.018716,
     "end_time": "2021-10-03T02:03:47.563996",
     "exception": false,
     "start_time": "2021-10-03T02:03:47.545280",
     "status": "completed"
    },
    "tags": []
   },
   "source": [
    "### multi class classification\n",
    "\n",
    "H = softmax(XW+b)<br/>\n",
    "cost = cross_entropy(H, y)<br/>\n",
    "\n",
    "y_pred = argmax(softmax(X_test@W+b))"
   ]
  },
  {
   "cell_type": "code",
   "execution_count": 11,
   "id": "b7614df6",
   "metadata": {
    "execution": {
     "iopub.execute_input": "2021-10-03T02:03:47.605428Z",
     "iopub.status.busy": "2021-10-03T02:03:47.604813Z",
     "iopub.status.idle": "2021-10-03T02:07:07.784082Z",
     "shell.execute_reply": "2021-10-03T02:07:07.784637Z",
     "shell.execute_reply.started": "2021-09-29T09:02:54.279814Z"
    },
    "papermill": {
     "duration": 200.201425,
     "end_time": "2021-10-03T02:07:07.784866",
     "exception": false,
     "start_time": "2021-10-03T02:03:47.583441",
     "status": "completed"
    },
    "tags": []
   },
   "outputs": [
    {
     "name": "stdout",
     "output_type": "stream",
     "text": [
      "0: 3.0910 4.303%\n",
      "1000: 2.3123 58.485%\n",
      "2000: 1.9185 69.818%\n",
      "3000: 1.6656 73.758%\n",
      "4000: 1.4876 77.091%\n",
      "5000: 1.3546 80.182%\n",
      "6000: 1.2507 82.606%\n",
      "7000: 1.1670 84.303%\n",
      "8000: 1.0979 86.242%\n",
      "9000: 1.0395 87.636%\n",
      "10000: 0.9895 88.667%\n",
      "11000: 0.9461 89.515%\n",
      "12000: 0.9079 89.879%\n",
      "13000: 0.8740 90.364%\n",
      "14000: 0.8436 90.545%\n",
      "15000: 0.8162 90.848%\n",
      "16000: 0.7913 91.212%\n",
      "17000: 0.7686 91.455%\n",
      "18000: 0.7478 91.758%\n",
      "19000: 0.7286 91.879%\n",
      "20000: 0.7108 92.242%\n",
      "21000: 0.6943 92.545%\n",
      "22000: 0.6789 92.667%\n",
      "23000: 0.6645 92.848%\n",
      "24000: 0.6510 93.091%\n",
      "25000: 0.6383 93.212%\n",
      "26000: 0.6264 93.394%\n",
      "27000: 0.6151 93.394%\n",
      "28000: 0.6044 93.515%\n",
      "29000: 0.5943 93.515%\n",
      "30000: 0.5846 93.697%\n",
      "31000: 0.5755 93.576%\n",
      "32000: 0.5667 93.576%\n",
      "33000: 0.5584 93.697%\n",
      "34000: 0.5504 93.758%\n",
      "35000: 0.5428 93.758%\n",
      "36000: 0.5355 93.758%\n",
      "37000: 0.5285 93.879%\n",
      "38000: 0.5218 93.879%\n",
      "39000: 0.5153 94.000%\n",
      "40000: 0.5091 94.000%\n",
      "41000: 0.5031 94.121%\n",
      "42000: 0.4973 94.242%\n",
      "43000: 0.4918 94.303%\n",
      "44000: 0.4864 94.303%\n",
      "45000: 0.4812 94.303%\n",
      "46000: 0.4761 94.485%\n",
      "47000: 0.4713 94.485%\n",
      "48000: 0.4666 94.485%\n",
      "49000: 0.4620 94.485%\n",
      "50000: 0.4576 94.485%\n",
      "51000: 0.4533 94.545%\n",
      "52000: 0.4491 94.545%\n",
      "53000: 0.4450 94.485%\n",
      "54000: 0.4411 94.606%\n",
      "55000: 0.4373 94.727%\n",
      "56000: 0.4335 94.667%\n",
      "57000: 0.4299 94.606%\n",
      "58000: 0.4264 94.606%\n",
      "59000: 0.4229 94.606%\n",
      "60000: 0.4196 94.606%\n",
      "61000: 0.4163 94.545%\n",
      "62000: 0.4131 94.545%\n",
      "63000: 0.4100 94.545%\n",
      "64000: 0.4069 94.545%\n",
      "65000: 0.4039 94.485%\n",
      "66000: 0.4010 94.485%\n",
      "67000: 0.3982 94.485%\n",
      "68000: 0.3954 94.545%\n",
      "69000: 0.3927 94.545%\n",
      "70000: 0.3901 94.545%\n",
      "71000: 0.3875 94.545%\n",
      "72000: 0.3849 94.545%\n",
      "73000: 0.3824 94.545%\n",
      "74000: 0.3800 94.606%\n",
      "75000: 0.3776 94.606%\n",
      "76000: 0.3753 94.545%\n",
      "77000: 0.3730 94.545%\n",
      "78000: 0.3707 94.606%\n",
      "79000: 0.3685 94.606%\n",
      "80000: 0.3664 94.667%\n",
      "81000: 0.3642 94.667%\n",
      "82000: 0.3621 94.788%\n",
      "83000: 0.3601 94.848%\n",
      "84000: 0.3581 94.848%\n",
      "85000: 0.3561 94.848%\n",
      "86000: 0.3542 94.848%\n",
      "87000: 0.3523 94.909%\n",
      "88000: 0.3504 94.909%\n",
      "89000: 0.3486 94.909%\n",
      "90000: 0.3468 94.909%\n",
      "91000: 0.3450 94.848%\n",
      "92000: 0.3432 94.848%\n",
      "93000: 0.3415 94.848%\n",
      "94000: 0.3398 94.848%\n",
      "95000: 0.3382 94.848%\n",
      "96000: 0.3365 94.848%\n",
      "97000: 0.3349 94.848%\n",
      "98000: 0.3333 94.848%\n",
      "99000: 0.3318 94.788%\n",
      "100000: 0.3302 94.788%\n",
      "101000: 0.3287 94.848%\n",
      "102000: 0.3272 94.848%\n",
      "103000: 0.3258 94.848%\n",
      "104000: 0.3243 94.848%\n",
      "105000: 0.3229 94.848%\n",
      "106000: 0.3215 94.848%\n",
      "107000: 0.3201 94.848%\n",
      "108000: 0.3187 94.909%\n",
      "109000: 0.3174 95.030%\n",
      "110000: 0.3161 95.030%\n",
      "111000: 0.3148 95.030%\n",
      "112000: 0.3135 95.091%\n",
      "113000: 0.3122 95.091%\n",
      "114000: 0.3109 95.091%\n",
      "115000: 0.3097 95.091%\n",
      "116000: 0.3085 95.091%\n",
      "117000: 0.3073 95.091%\n",
      "118000: 0.3061 95.091%\n",
      "119000: 0.3049 95.091%\n",
      "120000: 0.3038 95.091%\n",
      "121000: 0.3026 95.091%\n",
      "122000: 0.3015 95.091%\n",
      "123000: 0.3004 95.091%\n",
      "124000: 0.2993 95.152%\n",
      "125000: 0.2982 95.152%\n",
      "126000: 0.2971 95.152%\n",
      "127000: 0.2960 95.152%\n",
      "128000: 0.2950 95.152%\n",
      "129000: 0.2940 95.152%\n",
      "130000: 0.2929 95.152%\n",
      "131000: 0.2919 95.152%\n",
      "132000: 0.2909 95.152%\n",
      "133000: 0.2899 95.152%\n",
      "134000: 0.2890 95.152%\n",
      "135000: 0.2880 95.091%\n",
      "136000: 0.2870 95.091%\n",
      "137000: 0.2861 95.091%\n",
      "138000: 0.2852 95.091%\n",
      "139000: 0.2842 95.091%\n",
      "140000: 0.2833 95.091%\n",
      "141000: 0.2824 95.091%\n",
      "142000: 0.2815 95.091%\n",
      "143000: 0.2806 95.091%\n",
      "144000: 0.2798 95.091%\n",
      "145000: 0.2789 95.091%\n",
      "146000: 0.2780 95.091%\n",
      "147000: 0.2772 95.091%\n",
      "148000: 0.2764 95.091%\n",
      "149000: 0.2755 95.091%\n",
      "150000: 0.2747 95.091%\n",
      "151000: 0.2739 95.091%\n",
      "152000: 0.2731 95.091%\n",
      "153000: 0.2723 95.091%\n",
      "154000: 0.2715 95.091%\n",
      "155000: 0.2707 95.091%\n",
      "156000: 0.2700 95.091%\n",
      "157000: 0.2692 95.091%\n",
      "158000: 0.2684 95.091%\n",
      "159000: 0.2677 95.152%\n",
      "160000: 0.2670 95.152%\n",
      "161000: 0.2662 95.152%\n",
      "162000: 0.2655 95.152%\n",
      "163000: 0.2648 95.152%\n",
      "164000: 0.2641 95.152%\n",
      "165000: 0.2634 95.152%\n",
      "166000: 0.2627 95.212%\n",
      "167000: 0.2620 95.212%\n",
      "168000: 0.2613 95.212%\n",
      "169000: 0.2606 95.212%\n",
      "170000: 0.2599 95.212%\n",
      "171000: 0.2593 95.212%\n",
      "172000: 0.2586 95.212%\n",
      "173000: 0.2579 95.212%\n",
      "174000: 0.2573 95.212%\n",
      "175000: 0.2566 95.212%\n",
      "176000: 0.2560 95.212%\n",
      "177000: 0.2554 95.212%\n",
      "178000: 0.2547 95.212%\n",
      "179000: 0.2541 95.212%\n",
      "180000: 0.2535 95.212%\n",
      "181000: 0.2529 95.212%\n",
      "182000: 0.2523 95.212%\n",
      "183000: 0.2517 95.212%\n",
      "184000: 0.2511 95.212%\n",
      "185000: 0.2505 95.212%\n",
      "186000: 0.2499 95.212%\n",
      "187000: 0.2493 95.212%\n",
      "188000: 0.2488 95.212%\n",
      "189000: 0.2482 95.212%\n",
      "190000: 0.2476 95.212%\n",
      "191000: 0.2471 95.212%\n",
      "192000: 0.2465 95.212%\n",
      "193000: 0.2459 95.273%\n",
      "194000: 0.2454 95.273%\n",
      "195000: 0.2449 95.273%\n",
      "196000: 0.2443 95.273%\n",
      "197000: 0.2438 95.273%\n",
      "198000: 0.2432 95.273%\n",
      "199000: 0.2427 95.273%\n",
      "200000: 0.2422 95.333%\n"
     ]
    }
   ],
   "source": [
    "nb_feature = X_train.size()[1]\n",
    "nb_class = nb_class = y_train.unique().size()[0]\n",
    "W = torch.zeros((nb_feature, nb_class),requires_grad = True)\n",
    "b = torch.zeros(1,requires_grad = True)  # b = tensor.zeros((1, nb_class),requires_grad = True)\n",
    "optimizer = optim.SGD([W, b], lr=0.1)\n",
    "\n",
    "nb_ephocs = 200000\n",
    "for ephoc in range(nb_ephocs + 1):\n",
    "    H = F.softmax(X_train@W+b, dim = 1)\n",
    "    cost = F.cross_entropy(X_train@W+b, y_train)\n",
    "    \n",
    "    optimizer.zero_grad()\n",
    "    cost.backward()\n",
    "    optimizer.step()\n",
    "    \n",
    "    if ephoc % 1000 == 0 :\n",
    "        predict = torch.argmax(H, dim = 1)\n",
    "        correct_pred = predict.float() == y_train\n",
    "        accuracy = correct_pred.sum().item() / len(correct_pred) * 100\n",
    "        print(\"{}: {:.4f} {:.3f}%\".format(ephoc, cost.item(), accuracy))\n"
   ]
  },
  {
   "cell_type": "code",
   "execution_count": 12,
   "id": "c288426e",
   "metadata": {
    "execution": {
     "iopub.execute_input": "2021-10-03T02:07:07.949924Z",
     "iopub.status.busy": "2021-10-03T02:07:07.949236Z",
     "iopub.status.idle": "2021-10-03T02:07:07.963809Z",
     "shell.execute_reply": "2021-10-03T02:07:07.964342Z",
     "shell.execute_reply.started": "2021-09-29T09:07:26.678024Z"
    },
    "papermill": {
     "duration": 0.098554,
     "end_time": "2021-10-03T02:07:07.964551",
     "exception": false,
     "start_time": "2021-10-03T02:07:07.865997",
     "status": "completed"
    },
    "tags": []
   },
   "outputs": [
    {
     "data": {
      "text/plain": [
       "array(['muskmelon', 'watermelon', 'papaya', 'papaya', 'apple', 'mango',\n",
       "       'apple', 'blackgram', 'mungbean', 'lentil', 'blackgram', 'coconut',\n",
       "       'pomegranate', 'jute', 'coconut', 'pomegranate', 'apple', 'cotton',\n",
       "       'papaya', 'muskmelon', 'coffee', 'papaya', 'orange', 'papaya',\n",
       "       'chickpea', 'jute', 'mungbean', 'orange', 'pigeonpeas', 'rice',\n",
       "       'pomegranate', 'mothbeans', 'jute', 'lentil', 'jute', 'blackgram',\n",
       "       'jute', 'chickpea', 'chickpea', 'kidneybeans', 'papaya', 'mango',\n",
       "       'blackgram', 'maize', 'mungbean', 'maize', 'pigeonpeas', 'coconut',\n",
       "       'muskmelon', 'maize', 'mothbeans', 'coffee', 'grapes', 'mungbean',\n",
       "       'coffee', 'kidneybeans', 'cotton', 'apple', 'banana', 'lentil',\n",
       "       'watermelon', 'coconut', 'lentil', 'orange', 'mungbean',\n",
       "       'blackgram', 'orange', 'rice', 'muskmelon', 'pigeonpeas',\n",
       "       'muskmelon', 'coconut', 'jute', 'banana', 'blackgram', 'papaya',\n",
       "       'banana', 'cotton', 'watermelon', 'orange', 'coffee', 'chickpea',\n",
       "       'jute', 'mothbeans', 'orange', 'mango', 'coffee', 'blackgram',\n",
       "       'blackgram', 'pomegranate', 'maize', 'mothbeans', 'cotton',\n",
       "       'papaya', 'pigeonpeas', 'mothbeans', 'kidneybeans', 'coffee',\n",
       "       'blackgram', 'lentil', 'coconut', 'jute', 'orange', 'muskmelon',\n",
       "       'watermelon', 'kidneybeans', 'watermelon', 'banana', 'pigeonpeas',\n",
       "       'mothbeans', 'banana', 'jute', 'cotton', 'pomegranate',\n",
       "       'pigeonpeas', 'chickpea', 'maize', 'coconut', 'pomegranate',\n",
       "       'rice', 'pigeonpeas', 'grapes', 'blackgram', 'coconut', 'chickpea',\n",
       "       'mothbeans', 'coconut', 'maize', 'banana', 'mothbeans', 'banana',\n",
       "       'kidneybeans', 'pomegranate', 'chickpea', 'coconut', 'orange',\n",
       "       'pigeonpeas', 'banana', 'banana', 'apple', 'kidneybeans',\n",
       "       'muskmelon', 'mungbean', 'mothbeans', 'coconut', 'maize', 'apple',\n",
       "       'coconut', 'kidneybeans', 'papaya', 'mungbean', 'lentil',\n",
       "       'watermelon', 'mungbean', 'papaya', 'pigeonpeas', 'pigeonpeas',\n",
       "       'kidneybeans', 'maize', 'jute', 'chickpea', 'apple', 'orange',\n",
       "       'cotton', 'rice', 'coconut', 'grapes', 'lentil', 'watermelon',\n",
       "       'grapes', 'grapes', 'blackgram', 'pomegranate', 'chickpea',\n",
       "       'coconut', 'maize', 'lentil', 'grapes', 'watermelon', 'jute',\n",
       "       'coffee', 'coffee', 'kidneybeans', 'jute', 'banana', 'kidneybeans',\n",
       "       'banana', 'kidneybeans', 'coconut', 'papaya', 'papaya', 'mungbean',\n",
       "       'mango', 'pomegranate', 'watermelon', 'kidneybeans', 'maize',\n",
       "       'apple', 'blackgram', 'chickpea', 'grapes', 'grapes', 'banana',\n",
       "       'cotton', 'rice', 'pomegranate', 'mungbean', 'banana', 'jute',\n",
       "       'mungbean', 'maize', 'chickpea', 'chickpea', 'chickpea', 'apple',\n",
       "       'jute', 'kidneybeans', 'papaya', 'coffee', 'blackgram',\n",
       "       'kidneybeans', 'mango', 'mango', 'coconut', 'papaya', 'apple',\n",
       "       'chickpea', 'pomegranate', 'chickpea', 'muskmelon', 'apple',\n",
       "       'muskmelon', 'muskmelon', 'mango', 'mango', 'cotton', 'coconut',\n",
       "       'pomegranate', 'rice', 'muskmelon', 'coffee', 'mango', 'lentil',\n",
       "       'maize', 'mango', 'muskmelon', 'blackgram', 'mungbean', 'coffee',\n",
       "       'grapes', 'coconut', 'cotton', 'pigeonpeas', 'rice', 'apple',\n",
       "       'pomegranate', 'coffee', 'chickpea', 'cotton', 'jute', 'mango',\n",
       "       'banana', 'papaya', 'apple', 'chickpea', 'rice', 'pigeonpeas',\n",
       "       'mothbeans', 'mungbean', 'papaya', 'pomegranate', 'grapes',\n",
       "       'mothbeans', 'papaya', 'cotton', 'coconut', 'cotton', 'chickpea',\n",
       "       'banana', 'jute', 'coconut', 'coffee', 'mango', 'muskmelon',\n",
       "       'apple', 'banana', 'pigeonpeas', 'mothbeans', 'orange', 'chickpea',\n",
       "       'watermelon', 'banana', 'apple', 'chickpea', 'coffee',\n",
       "       'pigeonpeas', 'orange', 'apple', 'coconut', 'papaya', 'watermelon',\n",
       "       'mothbeans', 'rice', 'chickpea', 'pomegranate', 'chickpea',\n",
       "       'mungbean', 'lentil', 'apple', 'pomegranate', 'chickpea', 'mango',\n",
       "       'chickpea', 'pomegranate', 'watermelon', 'kidneybeans', 'mungbean',\n",
       "       'muskmelon', 'watermelon', 'kidneybeans', 'muskmelon', 'mango',\n",
       "       'jute', 'blackgram', 'chickpea', 'banana', 'lentil', 'pigeonpeas',\n",
       "       'papaya', 'kidneybeans', 'mungbean', 'coconut', 'cotton', 'grapes',\n",
       "       'apple', 'lentil', 'banana', 'jute', 'apple', 'pomegranate',\n",
       "       'apple', 'mungbean', 'muskmelon', 'coffee', 'coffee', 'pigeonpeas',\n",
       "       'jute', 'kidneybeans', 'banana', 'maize', 'jute', 'cotton',\n",
       "       'pigeonpeas', 'mango', 'kidneybeans', 'pomegranate', 'watermelon',\n",
       "       'blackgram', 'maize', 'rice', 'mungbean', 'kidneybeans', 'mango',\n",
       "       'cotton', 'papaya', 'mothbeans', 'cotton', 'mungbean', 'orange',\n",
       "       'rice', 'blackgram', 'mungbean', 'coffee', 'banana', 'pigeonpeas',\n",
       "       'pigeonpeas', 'apple', 'pomegranate', 'maize', 'mango', 'coconut',\n",
       "       'apple', 'lentil', 'jute', 'mothbeans', 'lentil', 'coconut',\n",
       "       'blackgram', 'jute', 'mungbean', 'cotton', 'watermelon', 'apple',\n",
       "       'grapes', 'coconut', 'grapes', 'watermelon', 'rice', 'mango',\n",
       "       'mango', 'coffee', 'pomegranate', 'banana', 'grapes', 'jute',\n",
       "       'orange', 'cotton', 'mango', 'papaya', 'muskmelon', 'mothbeans',\n",
       "       'jute', 'chickpea', 'papaya', 'pomegranate', 'watermelon',\n",
       "       'blackgram', 'cotton', 'papaya', 'watermelon', 'mothbeans', 'rice',\n",
       "       'coconut', 'banana', 'mothbeans', 'maize', 'rice', 'maize',\n",
       "       'coconut', 'orange', 'pomegranate', 'kidneybeans', 'watermelon',\n",
       "       'mungbean', 'blackgram', 'rice', 'rice', 'cotton', 'cotton',\n",
       "       'pigeonpeas', 'orange', 'lentil', 'lentil', 'banana', 'mango',\n",
       "       'maize', 'apple', 'pomegranate', 'mango', 'cotton', 'mungbean',\n",
       "       'pigeonpeas', 'chickpea', 'apple', 'coffee', 'pigeonpeas', 'jute',\n",
       "       'jute', 'jute', 'papaya', 'lentil', 'grapes', 'rice', 'orange',\n",
       "       'mungbean', 'mango', 'kidneybeans', 'grapes', 'mungbean', 'orange',\n",
       "       'pigeonpeas', 'banana', 'jute', 'pigeonpeas', 'pomegranate',\n",
       "       'coffee', 'muskmelon', 'blackgram', 'papaya', 'mothbeans',\n",
       "       'pomegranate', 'kidneybeans', 'chickpea', 'mungbean', 'mungbean',\n",
       "       'mango', 'blackgram', 'muskmelon', 'mango', 'mothbeans',\n",
       "       'pigeonpeas', 'muskmelon', 'rice', 'pomegranate', 'muskmelon',\n",
       "       'kidneybeans', 'apple', 'mungbean', 'jute', 'kidneybeans', 'apple',\n",
       "       'rice', 'mango', 'papaya', 'banana', 'cotton', 'pomegranate',\n",
       "       'pigeonpeas', 'papaya', 'lentil', 'maize', 'chickpea', 'muskmelon',\n",
       "       'cotton', 'kidneybeans', 'chickpea', 'mungbean', 'coffee',\n",
       "       'coffee', 'orange', 'watermelon', 'orange', 'grapes', 'coffee',\n",
       "       'pigeonpeas', 'mango', 'apple', 'mango', 'pomegranate', 'coffee',\n",
       "       'pigeonpeas', 'coffee', 'grapes', 'cotton', 'pomegranate',\n",
       "       'papaya', 'apple', 'blackgram', 'pigeonpeas', 'watermelon',\n",
       "       'papaya', 'blackgram', 'grapes', 'lentil', 'jute', 'coffee',\n",
       "       'papaya', 'chickpea', 'coffee', 'jute'], dtype=object)"
      ]
     },
     "execution_count": 12,
     "metadata": {},
     "output_type": "execute_result"
    }
   ],
   "source": [
    "predict = torch.argmax(F.softmax(X_test@W+b, dim = 1), dim = 1)\n",
    "predict = predict.detach().numpy()\n",
    "predict = le.inverse_transform(predict)\n",
    "predict"
   ]
  },
  {
   "cell_type": "code",
   "execution_count": 13,
   "id": "b409fd35",
   "metadata": {
    "execution": {
     "iopub.execute_input": "2021-10-03T02:07:08.133850Z",
     "iopub.status.busy": "2021-10-03T02:07:08.133209Z",
     "iopub.status.idle": "2021-10-03T02:07:08.140259Z",
     "shell.execute_reply": "2021-10-03T02:07:08.140773Z",
     "shell.execute_reply.started": "2021-09-29T09:07:28.533927Z"
    },
    "papermill": {
     "duration": 0.094791,
     "end_time": "2021-10-03T02:07:08.140972",
     "exception": false,
     "start_time": "2021-10-03T02:07:08.046181",
     "status": "completed"
    },
    "tags": []
   },
   "outputs": [],
   "source": [
    "submit['label'] = predict\n",
    "submit.to_csv(\"submit.csv\", mode = 'w', index = False)"
   ]
  },
  {
   "cell_type": "code",
   "execution_count": null,
   "id": "2b9afabf",
   "metadata": {
    "papermill": {
     "duration": 0.080611,
     "end_time": "2021-10-03T02:07:08.301069",
     "exception": false,
     "start_time": "2021-10-03T02:07:08.220458",
     "status": "completed"
    },
    "tags": []
   },
   "outputs": [],
   "source": []
  },
  {
   "cell_type": "code",
   "execution_count": null,
   "id": "db4186bc",
   "metadata": {
    "papermill": {
     "duration": 0.078594,
     "end_time": "2021-10-03T02:07:08.459725",
     "exception": false,
     "start_time": "2021-10-03T02:07:08.381131",
     "status": "completed"
    },
    "tags": []
   },
   "outputs": [],
   "source": []
  },
  {
   "cell_type": "code",
   "execution_count": null,
   "id": "beac4747",
   "metadata": {
    "papermill": {
     "duration": 0.081419,
     "end_time": "2021-10-03T02:07:08.621717",
     "exception": false,
     "start_time": "2021-10-03T02:07:08.540298",
     "status": "completed"
    },
    "tags": []
   },
   "outputs": [],
   "source": []
  },
  {
   "cell_type": "code",
   "execution_count": null,
   "id": "43122689",
   "metadata": {
    "papermill": {
     "duration": 0.078997,
     "end_time": "2021-10-03T02:07:08.782167",
     "exception": false,
     "start_time": "2021-10-03T02:07:08.703170",
     "status": "completed"
    },
    "tags": []
   },
   "outputs": [],
   "source": []
  },
  {
   "cell_type": "code",
   "execution_count": null,
   "id": "381e59d6",
   "metadata": {
    "papermill": {
     "duration": 0.079158,
     "end_time": "2021-10-03T02:07:08.942323",
     "exception": false,
     "start_time": "2021-10-03T02:07:08.863165",
     "status": "completed"
    },
    "tags": []
   },
   "outputs": [],
   "source": []
  },
  {
   "cell_type": "code",
   "execution_count": null,
   "id": "b13a1ad9",
   "metadata": {
    "papermill": {
     "duration": 0.083647,
     "end_time": "2021-10-03T02:07:09.110037",
     "exception": false,
     "start_time": "2021-10-03T02:07:09.026390",
     "status": "completed"
    },
    "tags": []
   },
   "outputs": [],
   "source": []
  },
  {
   "cell_type": "code",
   "execution_count": null,
   "id": "bad630e3",
   "metadata": {
    "papermill": {
     "duration": 0.079705,
     "end_time": "2021-10-03T02:07:09.269166",
     "exception": false,
     "start_time": "2021-10-03T02:07:09.189461",
     "status": "completed"
    },
    "tags": []
   },
   "outputs": [],
   "source": []
  }
 ],
 "metadata": {
  "kernelspec": {
   "display_name": "Python 3",
   "language": "python",
   "name": "python3"
  },
  "language_info": {
   "codemirror_mode": {
    "name": "ipython",
    "version": 3
   },
   "file_extension": ".py",
   "mimetype": "text/x-python",
   "name": "python",
   "nbconvert_exporter": "python",
   "pygments_lexer": "ipython3",
   "version": "3.7.10"
  },
  "papermill": {
   "default_parameters": {},
   "duration": 213.532615,
   "end_time": "2021-10-03T02:07:10.057104",
   "environment_variables": {},
   "exception": null,
   "input_path": "__notebook__.ipynb",
   "output_path": "__notebook__.ipynb",
   "parameters": {},
   "start_time": "2021-10-03T02:03:36.524489",
   "version": "2.3.3"
  }
 },
 "nbformat": 4,
 "nbformat_minor": 5
}
