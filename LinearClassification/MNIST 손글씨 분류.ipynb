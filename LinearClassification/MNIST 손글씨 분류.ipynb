{
 "cells": [
  {
   "cell_type": "code",
   "execution_count": 1,
   "id": "7ad1d336",
   "metadata": {
    "_cell_guid": "b1076dfc-b9ad-4769-8c92-a6c4dae69d19",
    "_uuid": "8f2839f25d086af736a60e9eeb907d3b93b6e0e5",
    "execution": {
     "iopub.execute_input": "2021-10-03T08:37:13.590185Z",
     "iopub.status.busy": "2021-10-03T08:37:13.589182Z",
     "iopub.status.idle": "2021-10-03T08:37:13.603155Z",
     "shell.execute_reply": "2021-10-03T08:37:13.603730Z",
     "shell.execute_reply.started": "2021-10-03T05:35:21.856401Z"
    },
    "papermill": {
     "duration": 0.031992,
     "end_time": "2021-10-03T08:37:13.604020",
     "exception": false,
     "start_time": "2021-10-03T08:37:13.572028",
     "status": "completed"
    },
    "tags": []
   },
   "outputs": [
    {
     "name": "stdout",
     "output_type": "stream",
     "text": [
      "/kaggle/input/2021-ai-w5-p1/train.csv\n",
      "/kaggle/input/2021-ai-w5-p1/test.csv\n",
      "/kaggle/input/2021-ai-w5-p1/sample_submit.csv\n"
     ]
    }
   ],
   "source": [
    "# This Python 3 environment comes with many helpful analytics libraries installed\n",
    "# It is defined by the kaggle/python Docker image: https://github.com/kaggle/docker-python\n",
    "# For example, here's several helpful packages to load\n",
    "\n",
    "import numpy as np # linear algebra\n",
    "import pandas as pd # data processing, CSV file I/O (e.g. pd.read_csv)\n",
    "\n",
    "# Input data files are available in the read-only \"../input/\" directory\n",
    "# For example, running this (by clicking run or pressing Shift+Enter) will list all files under the input directory\n",
    "\n",
    "import os\n",
    "for dirname, _, filenames in os.walk('/kaggle/input'):\n",
    "    for filename in filenames:\n",
    "        print(os.path.join(dirname, filename))\n",
    "\n",
    "# You can write up to 20GB to the current directory (/kaggle/working/) that gets preserved as output when you create a version using \"Save & Run All\" \n",
    "# You can also write temporary files to /kaggle/temp/, but they won't be saved outside of the current session"
   ]
  },
  {
   "cell_type": "code",
   "execution_count": 2,
   "id": "33081aae",
   "metadata": {
    "execution": {
     "iopub.execute_input": "2021-10-03T08:37:13.633265Z",
     "iopub.status.busy": "2021-10-03T08:37:13.632165Z",
     "iopub.status.idle": "2021-10-03T08:37:18.895873Z",
     "shell.execute_reply": "2021-10-03T08:37:18.896566Z",
     "shell.execute_reply.started": "2021-10-03T05:35:21.866571Z"
    },
    "papermill": {
     "duration": 5.280105,
     "end_time": "2021-10-03T08:37:18.896777",
     "exception": false,
     "start_time": "2021-10-03T08:37:13.616672",
     "status": "completed"
    },
    "tags": []
   },
   "outputs": [
    {
     "name": "stdout",
     "output_type": "stream",
     "text": [
      "<class 'pandas.core.frame.DataFrame'>\n",
      "RangeIndex: 60000 entries, 0 to 59999\n",
      "Columns: 785 entries, label to 28x28\n",
      "dtypes: int64(785)\n",
      "memory usage: 359.3 MB\n",
      "None\n",
      "\n",
      "<class 'pandas.core.frame.DataFrame'>\n",
      "RangeIndex: 10000 entries, 0 to 9999\n",
      "Columns: 784 entries, 1x1 to 28x28\n",
      "dtypes: int64(784)\n",
      "memory usage: 59.8 MB\n",
      "None\n"
     ]
    }
   ],
   "source": [
    "train = pd.read_csv(\"/kaggle/input/2021-ai-w5-p1/train.csv\")\n",
    "test = pd.read_csv(\"/kaggle/input/2021-ai-w5-p1/test.csv\")\n",
    "submit = pd.read_csv(\"/kaggle/input/2021-ai-w5-p1/sample_submit.csv\")\n",
    "print(train.info())\n",
    "print()\n",
    "print(test.info())"
   ]
  },
  {
   "cell_type": "code",
   "execution_count": 3,
   "id": "5ad10ee6",
   "metadata": {
    "execution": {
     "iopub.execute_input": "2021-10-03T08:37:18.926768Z",
     "iopub.status.busy": "2021-10-03T08:37:18.926107Z",
     "iopub.status.idle": "2021-10-03T08:37:18.947049Z",
     "shell.execute_reply": "2021-10-03T08:37:18.947510Z",
     "shell.execute_reply.started": "2021-10-03T05:35:27.803493Z"
    },
    "papermill": {
     "duration": 0.03734,
     "end_time": "2021-10-03T08:37:18.947722",
     "exception": false,
     "start_time": "2021-10-03T08:37:18.910382",
     "status": "completed"
    },
    "tags": []
   },
   "outputs": [
    {
     "data": {
      "text/html": [
       "<div>\n",
       "<style scoped>\n",
       "    .dataframe tbody tr th:only-of-type {\n",
       "        vertical-align: middle;\n",
       "    }\n",
       "\n",
       "    .dataframe tbody tr th {\n",
       "        vertical-align: top;\n",
       "    }\n",
       "\n",
       "    .dataframe thead th {\n",
       "        text-align: right;\n",
       "    }\n",
       "</style>\n",
       "<table border=\"1\" class=\"dataframe\">\n",
       "  <thead>\n",
       "    <tr style=\"text-align: right;\">\n",
       "      <th></th>\n",
       "      <th>label</th>\n",
       "      <th>1x1</th>\n",
       "      <th>1x2</th>\n",
       "      <th>1x3</th>\n",
       "      <th>1x4</th>\n",
       "      <th>1x5</th>\n",
       "      <th>1x6</th>\n",
       "      <th>1x7</th>\n",
       "      <th>1x8</th>\n",
       "      <th>1x9</th>\n",
       "      <th>...</th>\n",
       "      <th>28x19</th>\n",
       "      <th>28x20</th>\n",
       "      <th>28x21</th>\n",
       "      <th>28x22</th>\n",
       "      <th>28x23</th>\n",
       "      <th>28x24</th>\n",
       "      <th>28x25</th>\n",
       "      <th>28x26</th>\n",
       "      <th>28x27</th>\n",
       "      <th>28x28</th>\n",
       "    </tr>\n",
       "  </thead>\n",
       "  <tbody>\n",
       "    <tr>\n",
       "      <th>0</th>\n",
       "      <td>5</td>\n",
       "      <td>0</td>\n",
       "      <td>0</td>\n",
       "      <td>0</td>\n",
       "      <td>0</td>\n",
       "      <td>0</td>\n",
       "      <td>0</td>\n",
       "      <td>0</td>\n",
       "      <td>0</td>\n",
       "      <td>0</td>\n",
       "      <td>...</td>\n",
       "      <td>0</td>\n",
       "      <td>0</td>\n",
       "      <td>0</td>\n",
       "      <td>0</td>\n",
       "      <td>0</td>\n",
       "      <td>0</td>\n",
       "      <td>0</td>\n",
       "      <td>0</td>\n",
       "      <td>0</td>\n",
       "      <td>0</td>\n",
       "    </tr>\n",
       "    <tr>\n",
       "      <th>1</th>\n",
       "      <td>0</td>\n",
       "      <td>0</td>\n",
       "      <td>0</td>\n",
       "      <td>0</td>\n",
       "      <td>0</td>\n",
       "      <td>0</td>\n",
       "      <td>0</td>\n",
       "      <td>0</td>\n",
       "      <td>0</td>\n",
       "      <td>0</td>\n",
       "      <td>...</td>\n",
       "      <td>0</td>\n",
       "      <td>0</td>\n",
       "      <td>0</td>\n",
       "      <td>0</td>\n",
       "      <td>0</td>\n",
       "      <td>0</td>\n",
       "      <td>0</td>\n",
       "      <td>0</td>\n",
       "      <td>0</td>\n",
       "      <td>0</td>\n",
       "    </tr>\n",
       "    <tr>\n",
       "      <th>2</th>\n",
       "      <td>3</td>\n",
       "      <td>0</td>\n",
       "      <td>0</td>\n",
       "      <td>0</td>\n",
       "      <td>0</td>\n",
       "      <td>0</td>\n",
       "      <td>0</td>\n",
       "      <td>0</td>\n",
       "      <td>0</td>\n",
       "      <td>0</td>\n",
       "      <td>...</td>\n",
       "      <td>0</td>\n",
       "      <td>0</td>\n",
       "      <td>0</td>\n",
       "      <td>0</td>\n",
       "      <td>0</td>\n",
       "      <td>0</td>\n",
       "      <td>0</td>\n",
       "      <td>0</td>\n",
       "      <td>0</td>\n",
       "      <td>0</td>\n",
       "    </tr>\n",
       "    <tr>\n",
       "      <th>3</th>\n",
       "      <td>3</td>\n",
       "      <td>0</td>\n",
       "      <td>0</td>\n",
       "      <td>0</td>\n",
       "      <td>0</td>\n",
       "      <td>0</td>\n",
       "      <td>0</td>\n",
       "      <td>0</td>\n",
       "      <td>0</td>\n",
       "      <td>0</td>\n",
       "      <td>...</td>\n",
       "      <td>0</td>\n",
       "      <td>0</td>\n",
       "      <td>0</td>\n",
       "      <td>0</td>\n",
       "      <td>0</td>\n",
       "      <td>0</td>\n",
       "      <td>0</td>\n",
       "      <td>0</td>\n",
       "      <td>0</td>\n",
       "      <td>0</td>\n",
       "    </tr>\n",
       "    <tr>\n",
       "      <th>4</th>\n",
       "      <td>6</td>\n",
       "      <td>0</td>\n",
       "      <td>0</td>\n",
       "      <td>0</td>\n",
       "      <td>0</td>\n",
       "      <td>0</td>\n",
       "      <td>0</td>\n",
       "      <td>0</td>\n",
       "      <td>0</td>\n",
       "      <td>0</td>\n",
       "      <td>...</td>\n",
       "      <td>0</td>\n",
       "      <td>0</td>\n",
       "      <td>0</td>\n",
       "      <td>0</td>\n",
       "      <td>0</td>\n",
       "      <td>0</td>\n",
       "      <td>0</td>\n",
       "      <td>0</td>\n",
       "      <td>0</td>\n",
       "      <td>0</td>\n",
       "    </tr>\n",
       "  </tbody>\n",
       "</table>\n",
       "<p>5 rows × 785 columns</p>\n",
       "</div>"
      ],
      "text/plain": [
       "   label  1x1  1x2  1x3  1x4  1x5  1x6  1x7  1x8  1x9  ...  28x19  28x20  \\\n",
       "0      5    0    0    0    0    0    0    0    0    0  ...      0      0   \n",
       "1      0    0    0    0    0    0    0    0    0    0  ...      0      0   \n",
       "2      3    0    0    0    0    0    0    0    0    0  ...      0      0   \n",
       "3      3    0    0    0    0    0    0    0    0    0  ...      0      0   \n",
       "4      6    0    0    0    0    0    0    0    0    0  ...      0      0   \n",
       "\n",
       "   28x21  28x22  28x23  28x24  28x25  28x26  28x27  28x28  \n",
       "0      0      0      0      0      0      0      0      0  \n",
       "1      0      0      0      0      0      0      0      0  \n",
       "2      0      0      0      0      0      0      0      0  \n",
       "3      0      0      0      0      0      0      0      0  \n",
       "4      0      0      0      0      0      0      0      0  \n",
       "\n",
       "[5 rows x 785 columns]"
      ]
     },
     "execution_count": 3,
     "metadata": {},
     "output_type": "execute_result"
    }
   ],
   "source": [
    "train.head(5)"
   ]
  },
  {
   "cell_type": "code",
   "execution_count": 4,
   "id": "28dc0ee5",
   "metadata": {
    "execution": {
     "iopub.execute_input": "2021-10-03T08:37:18.977330Z",
     "iopub.status.busy": "2021-10-03T08:37:18.976712Z",
     "iopub.status.idle": "2021-10-03T08:37:19.122892Z",
     "shell.execute_reply": "2021-10-03T08:37:19.122308Z",
     "shell.execute_reply.started": "2021-10-03T05:35:27.831095Z"
    },
    "papermill": {
     "duration": 0.16201,
     "end_time": "2021-10-03T08:37:19.123045",
     "exception": false,
     "start_time": "2021-10-03T08:37:18.961035",
     "status": "completed"
    },
    "tags": []
   },
   "outputs": [],
   "source": [
    "X = train.drop('label', axis = 1)\n",
    "y = train['label']"
   ]
  },
  {
   "cell_type": "code",
   "execution_count": 5,
   "id": "d29c24c8",
   "metadata": {
    "execution": {
     "iopub.execute_input": "2021-10-03T08:37:19.155951Z",
     "iopub.status.busy": "2021-10-03T08:37:19.155212Z",
     "iopub.status.idle": "2021-10-03T08:37:20.480294Z",
     "shell.execute_reply": "2021-10-03T08:37:20.479730Z",
     "shell.execute_reply.started": "2021-10-03T05:35:27.981459Z"
    },
    "papermill": {
     "duration": 1.343825,
     "end_time": "2021-10-03T08:37:20.480447",
     "exception": false,
     "start_time": "2021-10-03T08:37:19.136622",
     "status": "completed"
    },
    "tags": []
   },
   "outputs": [],
   "source": [
    "from sklearn.model_selection import train_test_split\n",
    "X_train, X_val, y_train, y_val = train_test_split(X, y, test_size=0.3, random_state = 1, stratify = y)"
   ]
  },
  {
   "cell_type": "code",
   "execution_count": 6,
   "id": "382ba7f3",
   "metadata": {
    "execution": {
     "iopub.execute_input": "2021-10-03T08:37:20.511752Z",
     "iopub.status.busy": "2021-10-03T08:37:20.511017Z",
     "iopub.status.idle": "2021-10-03T08:37:21.606558Z",
     "shell.execute_reply": "2021-10-03T08:37:21.606042Z",
     "shell.execute_reply.started": "2021-10-03T05:35:29.388249Z"
    },
    "papermill": {
     "duration": 1.112264,
     "end_time": "2021-10-03T08:37:21.606720",
     "exception": false,
     "start_time": "2021-10-03T08:37:20.494456",
     "status": "completed"
    },
    "tags": []
   },
   "outputs": [
    {
     "data": {
      "text/plain": [
       "<torch._C.Generator at 0x7f6466c701b0>"
      ]
     },
     "execution_count": 6,
     "metadata": {},
     "output_type": "execute_result"
    }
   ],
   "source": [
    "import torch\n",
    "import torch.optim as optim\n",
    "import torch.nn.functional as F\n",
    "\n",
    "torch.manual_seed(1)"
   ]
  },
  {
   "cell_type": "code",
   "execution_count": 7,
   "id": "8b8bb737",
   "metadata": {
    "execution": {
     "iopub.execute_input": "2021-10-03T08:37:21.647287Z",
     "iopub.status.busy": "2021-10-03T08:37:21.646689Z",
     "iopub.status.idle": "2021-10-03T08:37:21.793797Z",
     "shell.execute_reply": "2021-10-03T08:37:21.793128Z",
     "shell.execute_reply.started": "2021-10-03T05:35:30.500284Z"
    },
    "papermill": {
     "duration": 0.173677,
     "end_time": "2021-10-03T08:37:21.793941",
     "exception": false,
     "start_time": "2021-10-03T08:37:21.620264",
     "status": "completed"
    },
    "tags": []
   },
   "outputs": [],
   "source": [
    "X_train = torch.FloatTensor(X_train.to_numpy())\n",
    "X_val = torch.FloatTensor(X_val.to_numpy())\n",
    "y_train = torch.LongTensor(y_train.to_numpy())\n",
    "y_val = torch.LongTensor(y_val.to_numpy())\n",
    "\n",
    "X_test = torch.FloatTensor(test.to_numpy())"
   ]
  },
  {
   "cell_type": "code",
   "execution_count": 8,
   "id": "7b7d9ac0",
   "metadata": {
    "execution": {
     "iopub.execute_input": "2021-10-03T08:37:21.826141Z",
     "iopub.status.busy": "2021-10-03T08:37:21.825228Z",
     "iopub.status.idle": "2021-10-03T08:37:21.828627Z",
     "shell.execute_reply": "2021-10-03T08:37:21.828058Z",
     "shell.execute_reply.started": "2021-10-03T04:34:59.49456Z"
    },
    "papermill": {
     "duration": 0.021593,
     "end_time": "2021-10-03T08:37:21.828781",
     "exception": false,
     "start_time": "2021-10-03T08:37:21.807188",
     "status": "completed"
    },
    "tags": []
   },
   "outputs": [],
   "source": [
    "# import torch.cuda\n",
    "# print(torch.cuda.is_available())\n",
    "# torch.cuda.init()\n",
    "# torch.cuda.manual_seed(1)\n",
    "\n",
    "# X_train.cuda()\n",
    "# y_train.cuda()\n",
    "# X_val.cuda()\n",
    "# y_val.cuda()\n",
    "# X_test.cuda()"
   ]
  },
  {
   "cell_type": "code",
   "execution_count": 9,
   "id": "dc91fd4b",
   "metadata": {
    "execution": {
     "iopub.execute_input": "2021-10-03T08:37:21.862919Z",
     "iopub.status.busy": "2021-10-03T08:37:21.862264Z",
     "iopub.status.idle": "2021-10-03T08:37:21.866399Z",
     "shell.execute_reply": "2021-10-03T08:37:21.866880Z",
     "shell.execute_reply.started": "2021-10-03T04:35:08.217331Z"
    },
    "papermill": {
     "duration": 0.023624,
     "end_time": "2021-10-03T08:37:21.867082",
     "exception": false,
     "start_time": "2021-10-03T08:37:21.843458",
     "status": "completed"
    },
    "tags": []
   },
   "outputs": [
    {
     "data": {
      "text/plain": [
       "torch.Size([42000, 784])"
      ]
     },
     "execution_count": 9,
     "metadata": {},
     "output_type": "execute_result"
    }
   ],
   "source": [
    "X_train.shape"
   ]
  },
  {
   "cell_type": "code",
   "execution_count": 10,
   "id": "615bcdd8",
   "metadata": {
    "execution": {
     "iopub.execute_input": "2021-10-03T08:37:21.899968Z",
     "iopub.status.busy": "2021-10-03T08:37:21.899310Z",
     "iopub.status.idle": "2021-10-03T08:37:21.903811Z",
     "shell.execute_reply": "2021-10-03T08:37:21.904220Z",
     "shell.execute_reply.started": "2021-10-03T04:35:21.501715Z"
    },
    "papermill": {
     "duration": 0.022319,
     "end_time": "2021-10-03T08:37:21.904415",
     "exception": false,
     "start_time": "2021-10-03T08:37:21.882096",
     "status": "completed"
    },
    "tags": []
   },
   "outputs": [
    {
     "data": {
      "text/plain": [
       "10"
      ]
     },
     "execution_count": 10,
     "metadata": {},
     "output_type": "execute_result"
    }
   ],
   "source": [
    "y.nunique()"
   ]
  },
  {
   "cell_type": "code",
   "execution_count": 11,
   "id": "e0f20a6a",
   "metadata": {
    "execution": {
     "iopub.execute_input": "2021-10-03T08:37:21.937163Z",
     "iopub.status.busy": "2021-10-03T08:37:21.936430Z",
     "iopub.status.idle": "2021-10-03T08:43:38.826491Z",
     "shell.execute_reply": "2021-10-03T08:43:38.827002Z",
     "shell.execute_reply.started": "2021-10-03T05:36:48.074682Z"
    },
    "papermill": {
     "duration": 376.908872,
     "end_time": "2021-10-03T08:43:38.827381",
     "exception": false,
     "start_time": "2021-10-03T08:37:21.918509",
     "status": "completed"
    },
    "tags": []
   },
   "outputs": [
    {
     "name": "stdout",
     "output_type": "stream",
     "text": [
      "lr:0.1, epoch:0, cost:2.3026933670043945\n",
      "lr:0.1, epoch:100, cost:1506.9742431640625\n",
      "lr:0.1, epoch:200, cost:3357.922607421875\n",
      "lr:0.1, epoch:300, cost:420.6086730957031\n",
      "lr:0.1, epoch:400, cost:1707.70703125\n",
      "lr:0.1, epoch:500, cost:474.9587097167969\n",
      "lr:0.1, epoch:600, cost:398.2598571777344\n",
      "lr:0.1, epoch:700, cost:467.3810119628906\n",
      "lr:0.1, epoch:800, cost:1103.6129150390625\n",
      "lr:0.1, epoch:900, cost:866.5687866210938\n",
      "lr:0.1, epoch:1000, cost:347.08905029296875\n",
      "lr:0.1, train_acc:92.28333333333333, val_acc:90.87222222222222\n",
      "\n",
      "\n",
      "\n",
      "lr:0.01, epoch:0, cost:2.3026933670043945\n",
      "lr:0.01, epoch:100, cost:297.418701171875\n",
      "lr:0.01, epoch:200, cost:54.85395812988281\n",
      "lr:0.01, epoch:300, cost:45.57455825805664\n",
      "lr:0.01, epoch:400, cost:45.766944885253906\n",
      "lr:0.01, epoch:500, cost:85.80814361572266\n",
      "lr:0.01, epoch:600, cost:50.542232513427734\n",
      "lr:0.01, epoch:700, cost:48.0660285949707\n",
      "lr:0.01, epoch:800, cost:42.271278381347656\n",
      "lr:0.01, epoch:900, cost:37.01537322998047\n",
      "lr:0.01, epoch:1000, cost:651.0580444335938\n",
      "lr:0.01, train_acc:81.08809523809524, val_acc:80.91111111111111\n",
      "\n",
      "\n",
      "\n",
      "lr:0.001, epoch:0, cost:2.3026933670043945\n",
      "lr:0.001, epoch:100, cost:33.55516815185547\n",
      "lr:0.001, epoch:200, cost:15.080796241760254\n",
      "lr:0.001, epoch:300, cost:5.028608322143555\n",
      "lr:0.001, epoch:400, cost:4.452979564666748\n",
      "lr:0.001, epoch:500, cost:18.249563217163086\n",
      "lr:0.001, epoch:600, cost:4.071498870849609\n",
      "lr:0.001, epoch:700, cost:4.668514728546143\n",
      "lr:0.001, epoch:800, cost:5.298608779907227\n",
      "lr:0.001, epoch:900, cost:4.037652969360352\n",
      "lr:0.001, epoch:1000, cost:3.993048667907715\n",
      "lr:0.001, train_acc:92.36190476190477, val_acc:90.88888888888889\n",
      "\n",
      "\n",
      "\n",
      "lr:0.0001, epoch:0, cost:2.3026933670043945\n",
      "lr:0.0001, epoch:100, cost:2.3323371410369873\n",
      "lr:0.0001, epoch:200, cost:0.7305653691291809\n",
      "lr:0.0001, epoch:300, cost:0.4556606709957123\n",
      "lr:0.0001, epoch:400, cost:0.45425283908843994\n",
      "lr:0.0001, epoch:500, cost:0.5636345148086548\n",
      "lr:0.0001, epoch:600, cost:0.4214705526828766\n",
      "lr:0.0001, epoch:700, cost:0.48817163705825806\n",
      "lr:0.0001, epoch:800, cost:0.5682008266448975\n",
      "lr:0.0001, epoch:900, cost:0.472389280796051\n",
      "lr:0.0001, epoch:1000, cost:0.4316437840461731\n",
      "lr:0.0001, train_acc:92.75, val_acc:91.4388888888889\n",
      "\n",
      "\n",
      "\n"
     ]
    }
   ],
   "source": [
    "# 1. learnig rate\n",
    "nb_epoch = 1000\n",
    "lrs = [0.1, 0.01,0.001,0.0001]\n",
    "\n",
    "for lr in lrs:\n",
    "    W = torch.zeros((784,10), requires_grad = True)\n",
    "    b = torch.zeros(1, requires_grad = True)\n",
    "    optimizer = optim.SGD([W,b], lr = lr)\n",
    "    for epoch in range(nb_epoch + 1):\n",
    "        H = torch.softmax(X_train@W + b, dim = 1)   \n",
    "        cost = F.cross_entropy(X_train@W + b, y_train)\n",
    "\n",
    "        optimizer.zero_grad()\n",
    "        cost.backward()\n",
    "        optimizer.step()\n",
    "\n",
    "        if epoch % 100 == 0 :\n",
    "            print('lr:{}, epoch:{}, cost:{}'.format(lr, epoch, cost.item()))\n",
    "            \n",
    "    pred = torch.argmax(torch.softmax(X_train@W + b, dim = 1), dim=1)\n",
    "    correct_pred = pred.float() == y_train\n",
    "    train_acc = correct_pred.sum().item() / len(correct_pred) * 100\n",
    "\n",
    "    pred = torch.argmax(torch.softmax(X_val@W + b,dim=1), dim=1)\n",
    "    correct_pred = pred.float() == y_val\n",
    "    val_acc = correct_pred.sum().item() / len(correct_pred) * 100\n",
    "\n",
    "    print('lr:{}, train_acc:{}, val_acc:{}'.format(lr, train_acc, val_acc), end = '\\n\\n\\n\\n')"
   ]
  },
  {
   "cell_type": "code",
   "execution_count": 12,
   "id": "b0a0c845",
   "metadata": {
    "execution": {
     "iopub.execute_input": "2021-10-03T08:43:38.884897Z",
     "iopub.status.busy": "2021-10-03T08:43:38.877340Z",
     "iopub.status.idle": "2021-10-03T08:45:03.563980Z",
     "shell.execute_reply": "2021-10-03T08:45:03.564598Z",
     "shell.execute_reply.started": "2021-10-03T05:42:50.527892Z"
    },
    "papermill": {
     "duration": 84.714925,
     "end_time": "2021-10-03T08:45:03.564838",
     "exception": false,
     "start_time": "2021-10-03T08:43:38.849913",
     "status": "completed"
    },
    "tags": []
   },
   "outputs": [
    {
     "name": "stdout",
     "output_type": "stream",
     "text": [
      "lr:[0.1], epoch:0, cost:2.3026933670043945\n",
      "lr:[0.05], epoch:100, cost:1506.9742431640625\n",
      "lr:[0.025], epoch:200, cost:326.66815185546875\n",
      "lr:[0.0125], epoch:300, cost:259.806396484375\n",
      "lr:[0.00625], epoch:400, cost:233.75823974609375\n",
      "lr:[0.003125], epoch:500, cost:222.1692352294922\n",
      "lr:[0.0015625], epoch:600, cost:216.70199584960938\n",
      "lr:[0.00078125], epoch:700, cost:214.04006958007812\n",
      "lr:[0.000390625], epoch:800, cost:212.72386169433594\n",
      "lr:[0.0001953125], epoch:900, cost:212.072021484375\n",
      "lr:[9.765625e-05], epoch:1000, cost:211.74655151367188\n",
      "lr:StepLR, train_acc:92.09285714285714, val_acc:91.08333333333334\n",
      "\n",
      "\n",
      "\n"
     ]
    }
   ],
   "source": [
    "W = torch.zeros((784,10), requires_grad = True)\n",
    "b = torch.zeros(1, requires_grad = True)\n",
    "optimizer = optim.SGD([W,b], lr = 0.1)\n",
    "scheduler = optim.lr_scheduler.StepLR(optimizer, step_size=100, gamma=0.5)\n",
    "\n",
    "for epoch in range(nb_epoch + 1):\n",
    "    H = torch.softmax(X_train@W + b, dim = 1)   \n",
    "    cost = F.cross_entropy(X_train@W + b, y_train)\n",
    "\n",
    "    optimizer.zero_grad()\n",
    "    cost.backward()\n",
    "    optimizer.step()\n",
    "    scheduler.step()\n",
    "\n",
    "    \n",
    "    if epoch % 100 == 0 :\n",
    "        print('lr:{}, epoch:{}, cost:{}'.format(scheduler.get_last_lr(), epoch, cost.item()))\n",
    "\n",
    "pred = torch.argmax(torch.softmax(X_train@W + b, dim = 1) , dim=1)\n",
    "correct_pred = pred.float() == y_train\n",
    "train_acc = correct_pred.sum().item() / len(correct_pred) * 100\n",
    "\n",
    "pred = torch.argmax(torch.softmax(X_val@W + b,dim=1), dim=1)\n",
    "correct_pred = pred.float() == y_val\n",
    "val_acc = correct_pred.sum().item() / len(correct_pred) * 100\n",
    "print('lr:{}, train_acc:{}, val_acc:{}'.format('StepLR', train_acc, val_acc), end = '\\n\\n\\n\\n')"
   ]
  },
  {
   "cell_type": "code",
   "execution_count": 13,
   "id": "25bb5845",
   "metadata": {
    "execution": {
     "iopub.execute_input": "2021-10-03T08:45:03.627919Z",
     "iopub.status.busy": "2021-10-03T08:45:03.623454Z",
     "iopub.status.idle": "2021-10-03T08:46:27.735606Z",
     "shell.execute_reply": "2021-10-03T08:46:27.736120Z",
     "shell.execute_reply.started": "2021-10-03T05:53:01.378676Z"
    },
    "papermill": {
     "duration": 84.143214,
     "end_time": "2021-10-03T08:46:27.736343",
     "exception": false,
     "start_time": "2021-10-03T08:45:03.593129",
     "status": "completed"
    },
    "tags": []
   },
   "outputs": [
    {
     "data": {
      "text/html": [
       "<div>\n",
       "<style scoped>\n",
       "    .dataframe tbody tr th:only-of-type {\n",
       "        vertical-align: middle;\n",
       "    }\n",
       "\n",
       "    .dataframe tbody tr th {\n",
       "        vertical-align: top;\n",
       "    }\n",
       "\n",
       "    .dataframe thead th {\n",
       "        text-align: right;\n",
       "    }\n",
       "</style>\n",
       "<table border=\"1\" class=\"dataframe\">\n",
       "  <thead>\n",
       "    <tr style=\"text-align: right;\">\n",
       "      <th></th>\n",
       "      <th>id</th>\n",
       "      <th>label</th>\n",
       "    </tr>\n",
       "  </thead>\n",
       "  <tbody>\n",
       "    <tr>\n",
       "      <th>0</th>\n",
       "      <td>1</td>\n",
       "      <td>6</td>\n",
       "    </tr>\n",
       "    <tr>\n",
       "      <th>1</th>\n",
       "      <td>2</td>\n",
       "      <td>1</td>\n",
       "    </tr>\n",
       "    <tr>\n",
       "      <th>2</th>\n",
       "      <td>3</td>\n",
       "      <td>0</td>\n",
       "    </tr>\n",
       "    <tr>\n",
       "      <th>3</th>\n",
       "      <td>4</td>\n",
       "      <td>0</td>\n",
       "    </tr>\n",
       "    <tr>\n",
       "      <th>4</th>\n",
       "      <td>5</td>\n",
       "      <td>9</td>\n",
       "    </tr>\n",
       "    <tr>\n",
       "      <th>...</th>\n",
       "      <td>...</td>\n",
       "      <td>...</td>\n",
       "    </tr>\n",
       "    <tr>\n",
       "      <th>9995</th>\n",
       "      <td>9996</td>\n",
       "      <td>3</td>\n",
       "    </tr>\n",
       "    <tr>\n",
       "      <th>9996</th>\n",
       "      <td>9997</td>\n",
       "      <td>7</td>\n",
       "    </tr>\n",
       "    <tr>\n",
       "      <th>9997</th>\n",
       "      <td>9998</td>\n",
       "      <td>2</td>\n",
       "    </tr>\n",
       "    <tr>\n",
       "      <th>9998</th>\n",
       "      <td>9999</td>\n",
       "      <td>8</td>\n",
       "    </tr>\n",
       "    <tr>\n",
       "      <th>9999</th>\n",
       "      <td>10000</td>\n",
       "      <td>3</td>\n",
       "    </tr>\n",
       "  </tbody>\n",
       "</table>\n",
       "<p>10000 rows × 2 columns</p>\n",
       "</div>"
      ],
      "text/plain": [
       "         id  label\n",
       "0         1      6\n",
       "1         2      1\n",
       "2         3      0\n",
       "3         4      0\n",
       "4         5      9\n",
       "...     ...    ...\n",
       "9995   9996      3\n",
       "9996   9997      7\n",
       "9997   9998      2\n",
       "9998   9999      8\n",
       "9999  10000      3\n",
       "\n",
       "[10000 rows x 2 columns]"
      ]
     },
     "execution_count": 13,
     "metadata": {},
     "output_type": "execute_result"
    }
   ],
   "source": [
    "# 1. learnig rate 결과 : StepLR을 사용했을 때 test와 가장 비슷하다\n",
    "nb_epoch = 1000\n",
    "W = torch.zeros((784,10), requires_grad = True)\n",
    "b = torch.zeros(1, requires_grad = True)\n",
    "optimizer = optim.SGD([W,b], lr = 0.1)\n",
    "scheduler = optim.lr_scheduler.StepLR(optimizer, step_size=100, gamma=0.5)\n",
    "\n",
    "for epoch in range(nb_epoch + 1):\n",
    "    H = torch.softmax(X_train@W + b, dim = 1)   \n",
    "    cost = F.cross_entropy(X_train@W + b, y_train)\n",
    "\n",
    "    optimizer.zero_grad()\n",
    "    cost.backward()\n",
    "    optimizer.step()\n",
    "    scheduler.step()\n",
    "\n",
    "y_pred = torch.argmax(torch.softmax(X_test@W+b, dim = 1), dim = 1)\n",
    "submit['label'] = y_pred.detach().numpy()\n",
    "submit.to_csv('submit_lr.csv', mode = 'w', index = False)\n",
    "submit"
   ]
  },
  {
   "cell_type": "code",
   "execution_count": 14,
   "id": "a9cb0dc7",
   "metadata": {
    "execution": {
     "iopub.execute_input": "2021-10-03T08:46:27.799617Z",
     "iopub.status.busy": "2021-10-03T08:46:27.798022Z",
     "iopub.status.idle": "2021-10-03T08:52:32.152960Z",
     "shell.execute_reply": "2021-10-03T08:52:32.154907Z",
     "shell.execute_reply.started": "2021-10-03T07:37:30.55049Z"
    },
    "papermill": {
     "duration": 364.392623,
     "end_time": "2021-10-03T08:52:32.155278",
     "exception": false,
     "start_time": "2021-10-03T08:46:27.762655",
     "status": "completed"
    },
    "tags": []
   },
   "outputs": [
    {
     "name": "stdout",
     "output_type": "stream",
     "text": [
      "batch_size:100, train_acc:85.0, val_acc:80.9388888888889\n",
      "batch_size:1000, train_acc:91.4, val_acc:90.08333333333334\n",
      "batch_size:10000, train_acc:92.10000000000001, val_acc:91.03333333333333\n"
     ]
    }
   ],
   "source": [
    "# 2. batch size\n",
    "\n",
    "from torch.utils.data import TensorDataset, DataLoader\n",
    "\n",
    "batch_sizes = [100,1000,10000]\n",
    "dataset = TensorDataset(X_train, y_train)\n",
    "\n",
    "for batch_size in batch_sizes:\n",
    "    \n",
    "    dataloader = DataLoader(dataset, batch_size = batch_size, shuffle = True)\n",
    "    W = torch.zeros((784,10), requires_grad = True)\n",
    "    b = torch.zeros(1, requires_grad = True)\n",
    "    optimizer = optim.SGD([W,b], lr = 0.01)\n",
    "\n",
    "    nb_epoch = 100\n",
    "    for epoch in range(nb_epoch + 1):\n",
    "        for batch_idx, samples in enumerate(dataloader):\n",
    "            X_mini, y_mini = samples\n",
    "            H = torch.softmax(X_mini@W + b, dim = 1)   \n",
    "            cost = F.cross_entropy(X_mini@W + b, y_mini)\n",
    "\n",
    "            optimizer.zero_grad()\n",
    "            cost.backward()\n",
    "            optimizer.step()\n",
    "            \n",
    "    pred = torch.argmax(H, dim=1)\n",
    "    correct_pred = pred.float() == y_mini\n",
    "    train_acc = correct_pred.sum().item() / len(correct_pred) * 100\n",
    "\n",
    "    pred = torch.argmax(torch.softmax(X_val@W + b,dim=1), dim=1)\n",
    "    correct_pred = pred.float() == y_val\n",
    "    val_acc = correct_pred.sum().item() / len(correct_pred) * 100\n",
    "\n",
    "    print('batch_size:{}, train_acc:{}, val_acc:{}'.format(batch_size, train_acc, val_acc))"
   ]
  },
  {
   "cell_type": "code",
   "execution_count": 15,
   "id": "2614ac2a",
   "metadata": {
    "execution": {
     "iopub.execute_input": "2021-10-03T08:52:32.223827Z",
     "iopub.status.busy": "2021-10-03T08:52:32.222867Z",
     "iopub.status.idle": "2021-10-03T08:54:45.970512Z",
     "shell.execute_reply": "2021-10-03T08:54:45.970967Z",
     "shell.execute_reply.started": "2021-10-03T07:46:39.62689Z"
    },
    "papermill": {
     "duration": 133.782895,
     "end_time": "2021-10-03T08:54:45.971160",
     "exception": false,
     "start_time": "2021-10-03T08:52:32.188265",
     "status": "completed"
    },
    "tags": []
   },
   "outputs": [
    {
     "data": {
      "text/html": [
       "<div>\n",
       "<style scoped>\n",
       "    .dataframe tbody tr th:only-of-type {\n",
       "        vertical-align: middle;\n",
       "    }\n",
       "\n",
       "    .dataframe tbody tr th {\n",
       "        vertical-align: top;\n",
       "    }\n",
       "\n",
       "    .dataframe thead th {\n",
       "        text-align: right;\n",
       "    }\n",
       "</style>\n",
       "<table border=\"1\" class=\"dataframe\">\n",
       "  <thead>\n",
       "    <tr style=\"text-align: right;\">\n",
       "      <th></th>\n",
       "      <th>id</th>\n",
       "      <th>label</th>\n",
       "    </tr>\n",
       "  </thead>\n",
       "  <tbody>\n",
       "    <tr>\n",
       "      <th>0</th>\n",
       "      <td>1</td>\n",
       "      <td>6</td>\n",
       "    </tr>\n",
       "    <tr>\n",
       "      <th>1</th>\n",
       "      <td>2</td>\n",
       "      <td>1</td>\n",
       "    </tr>\n",
       "    <tr>\n",
       "      <th>2</th>\n",
       "      <td>3</td>\n",
       "      <td>0</td>\n",
       "    </tr>\n",
       "    <tr>\n",
       "      <th>3</th>\n",
       "      <td>4</td>\n",
       "      <td>5</td>\n",
       "    </tr>\n",
       "    <tr>\n",
       "      <th>4</th>\n",
       "      <td>5</td>\n",
       "      <td>9</td>\n",
       "    </tr>\n",
       "    <tr>\n",
       "      <th>...</th>\n",
       "      <td>...</td>\n",
       "      <td>...</td>\n",
       "    </tr>\n",
       "    <tr>\n",
       "      <th>9995</th>\n",
       "      <td>9996</td>\n",
       "      <td>3</td>\n",
       "    </tr>\n",
       "    <tr>\n",
       "      <th>9996</th>\n",
       "      <td>9997</td>\n",
       "      <td>7</td>\n",
       "    </tr>\n",
       "    <tr>\n",
       "      <th>9997</th>\n",
       "      <td>9998</td>\n",
       "      <td>2</td>\n",
       "    </tr>\n",
       "    <tr>\n",
       "      <th>9998</th>\n",
       "      <td>9999</td>\n",
       "      <td>8</td>\n",
       "    </tr>\n",
       "    <tr>\n",
       "      <th>9999</th>\n",
       "      <td>10000</td>\n",
       "      <td>3</td>\n",
       "    </tr>\n",
       "  </tbody>\n",
       "</table>\n",
       "<p>10000 rows × 2 columns</p>\n",
       "</div>"
      ],
      "text/plain": [
       "         id  label\n",
       "0         1      6\n",
       "1         2      1\n",
       "2         3      0\n",
       "3         4      5\n",
       "4         5      9\n",
       "...     ...    ...\n",
       "9995   9996      3\n",
       "9996   9997      7\n",
       "9997   9998      2\n",
       "9998   9999      8\n",
       "9999  10000      3\n",
       "\n",
       "[10000 rows x 2 columns]"
      ]
     },
     "execution_count": 15,
     "metadata": {},
     "output_type": "execute_result"
    }
   ],
   "source": [
    "#2 실험결과 batch size가 100일 때 가장 정확도가 높았음(적용안한 SGD보다는 대체로 낮았음)\n",
    "\n",
    "dataloader = DataLoader(dataset, batch_size = 100, shuffle = True)\n",
    "W = torch.zeros((784,10), requires_grad = True)\n",
    "b = torch.zeros(1, requires_grad = True)\n",
    "optimizer = optim.SGD([W,b], lr = 0.01)\n",
    "\n",
    "nb_epoch = 100\n",
    "for epoch in range(nb_epoch + 1):\n",
    "    for batch_idx, samples in enumerate(dataloader):\n",
    "        X_mini, y_mini = samples\n",
    "        H = torch.softmax(X_mini@W + b, dim = 1)   \n",
    "        cost = F.cross_entropy(X_mini@W + b, y_mini)\n",
    "\n",
    "        optimizer.zero_grad()\n",
    "        cost.backward()\n",
    "        optimizer.step()\n",
    "\n",
    "y_pred = torch.argmax(torch.softmax(X_test@W+b, dim = 1), dim = 1)\n",
    "submit['label'] = y_pred.detach().numpy()\n",
    "submit.to_csv('submit_batch.csv', mode = 'w', index = False)\n",
    "submit        "
   ]
  },
  {
   "cell_type": "code",
   "execution_count": null,
   "id": "5bf787ec",
   "metadata": {
    "papermill": {
     "duration": 0.025862,
     "end_time": "2021-10-03T08:54:46.023586",
     "exception": false,
     "start_time": "2021-10-03T08:54:45.997724",
     "status": "completed"
    },
    "tags": []
   },
   "outputs": [],
   "source": []
  },
  {
   "cell_type": "code",
   "execution_count": 16,
   "id": "2305f3d3",
   "metadata": {
    "execution": {
     "iopub.execute_input": "2021-10-03T08:54:46.079530Z",
     "iopub.status.busy": "2021-10-03T08:54:46.078652Z",
     "iopub.status.idle": "2021-10-03T09:11:23.031818Z",
     "shell.execute_reply": "2021-10-03T09:11:23.032672Z",
     "shell.execute_reply.started": "2021-10-03T07:17:42.157581Z"
    },
    "papermill": {
     "duration": 996.982984,
     "end_time": "2021-10-03T09:11:23.032934",
     "exception": false,
     "start_time": "2021-10-03T08:54:46.049950",
     "status": "completed"
    },
    "tags": []
   },
   "outputs": [
    {
     "name": "stdout",
     "output_type": "stream",
     "text": [
      "epochs:0, cost:2.3027 train_acc:67.21, val_acc:67.58\n",
      "epochs:1000, cost:0.4316 train_acc:92.75, val_acc:91.44\n",
      "update W, b\n",
      "epochs:2000, cost:2.0310 train_acc:87.46, val_acc:86.34\n",
      "epochs:3000, cost:0.3540 train_acc:93.58, val_acc:91.45\n",
      "epochs:4000, cost:0.6654 train_acc:90.89, val_acc:89.24\n",
      "epochs:5000, cost:0.3614 train_acc:93.43, val_acc:91.20\n",
      "epochs:6000, cost:0.9395 train_acc:88.80, val_acc:87.16\n",
      "epochs:7000, cost:0.3514 train_acc:93.16, val_acc:90.67\n",
      "epochs:8000, cost:0.3315 train_acc:93.86, val_acc:91.08\n",
      "epochs:9000, cost:0.3429 train_acc:93.80, val_acc:91.12\n",
      "epochs:10000, cost:0.3441 train_acc:93.81, val_acc:91.12\n"
     ]
    }
   ],
   "source": [
    "# 3. epochs\n",
    "W = torch.zeros((784,10), requires_grad = True)\n",
    "b = torch.zeros(1, requires_grad = True)\n",
    "optimizer = optim.SGD([W,b], lr = 0.0001)\n",
    "\n",
    "acc_diff = 100\n",
    "nb_epoch = 10000\n",
    "\n",
    "for epoch in range(nb_epoch + 1):\n",
    "    H = torch.softmax(X_train@W + b, dim = 1)   \n",
    "    cost = F.cross_entropy(X_train@W + b, y_train)\n",
    "\n",
    "    optimizer.zero_grad()\n",
    "    cost.backward()\n",
    "    optimizer.step()\n",
    "\n",
    "    if (epoch % 1000) == 0:\n",
    "        pred = torch.argmax(torch.softmax(X_train@W + b, dim = 1), dim=1)\n",
    "        correct_pred = pred.float() == y_train\n",
    "        train_acc = correct_pred.sum().item() / len(correct_pred) * 100\n",
    "        \n",
    "        pred = torch.argmax(torch.softmax(X_val@W + b,dim=1), dim=1)\n",
    "        correct_pred = pred.float() == y_val\n",
    "        val_acc = correct_pred.sum().item() / len(correct_pred) * 100\n",
    "        print('epochs:{}, cost:{:.4f} train_acc:{:.2f}, val_acc:{:.2f}'.format(epoch, cost.item(),train_acc, val_acc))\n",
    "\n",
    "        if acc_diff > abs(train_acc - val_acc) and train_acc > 90:\n",
    "            acc_diff = abs(train_acc - val_acc) \n",
    "            W_save = W.clone()\n",
    "            b_save = b.clone()\n",
    "            print('update W, b')\n",
    "    "
   ]
  },
  {
   "cell_type": "code",
   "execution_count": 17,
   "id": "133d9562",
   "metadata": {
    "execution": {
     "iopub.execute_input": "2021-10-03T09:11:23.118654Z",
     "iopub.status.busy": "2021-10-03T09:11:23.117609Z",
     "iopub.status.idle": "2021-10-03T09:11:23.157057Z",
     "shell.execute_reply": "2021-10-03T09:11:23.157462Z",
     "shell.execute_reply.started": "2021-10-03T07:34:10.917763Z"
    },
    "papermill": {
     "duration": 0.086708,
     "end_time": "2021-10-03T09:11:23.157679",
     "exception": false,
     "start_time": "2021-10-03T09:11:23.070971",
     "status": "completed"
    },
    "tags": []
   },
   "outputs": [
    {
     "data": {
      "text/html": [
       "<div>\n",
       "<style scoped>\n",
       "    .dataframe tbody tr th:only-of-type {\n",
       "        vertical-align: middle;\n",
       "    }\n",
       "\n",
       "    .dataframe tbody tr th {\n",
       "        vertical-align: top;\n",
       "    }\n",
       "\n",
       "    .dataframe thead th {\n",
       "        text-align: right;\n",
       "    }\n",
       "</style>\n",
       "<table border=\"1\" class=\"dataframe\">\n",
       "  <thead>\n",
       "    <tr style=\"text-align: right;\">\n",
       "      <th></th>\n",
       "      <th>id</th>\n",
       "      <th>label</th>\n",
       "    </tr>\n",
       "  </thead>\n",
       "  <tbody>\n",
       "    <tr>\n",
       "      <th>0</th>\n",
       "      <td>1</td>\n",
       "      <td>6</td>\n",
       "    </tr>\n",
       "    <tr>\n",
       "      <th>1</th>\n",
       "      <td>2</td>\n",
       "      <td>1</td>\n",
       "    </tr>\n",
       "    <tr>\n",
       "      <th>2</th>\n",
       "      <td>3</td>\n",
       "      <td>0</td>\n",
       "    </tr>\n",
       "    <tr>\n",
       "      <th>3</th>\n",
       "      <td>4</td>\n",
       "      <td>0</td>\n",
       "    </tr>\n",
       "    <tr>\n",
       "      <th>4</th>\n",
       "      <td>5</td>\n",
       "      <td>9</td>\n",
       "    </tr>\n",
       "    <tr>\n",
       "      <th>...</th>\n",
       "      <td>...</td>\n",
       "      <td>...</td>\n",
       "    </tr>\n",
       "    <tr>\n",
       "      <th>9995</th>\n",
       "      <td>9996</td>\n",
       "      <td>3</td>\n",
       "    </tr>\n",
       "    <tr>\n",
       "      <th>9996</th>\n",
       "      <td>9997</td>\n",
       "      <td>7</td>\n",
       "    </tr>\n",
       "    <tr>\n",
       "      <th>9997</th>\n",
       "      <td>9998</td>\n",
       "      <td>2</td>\n",
       "    </tr>\n",
       "    <tr>\n",
       "      <th>9998</th>\n",
       "      <td>9999</td>\n",
       "      <td>8</td>\n",
       "    </tr>\n",
       "    <tr>\n",
       "      <th>9999</th>\n",
       "      <td>10000</td>\n",
       "      <td>3</td>\n",
       "    </tr>\n",
       "  </tbody>\n",
       "</table>\n",
       "<p>10000 rows × 2 columns</p>\n",
       "</div>"
      ],
      "text/plain": [
       "         id  label\n",
       "0         1      6\n",
       "1         2      1\n",
       "2         3      0\n",
       "3         4      0\n",
       "4         5      9\n",
       "...     ...    ...\n",
       "9995   9996      3\n",
       "9996   9997      7\n",
       "9997   9998      2\n",
       "9998   9999      8\n",
       "9999  10000      3\n",
       "\n",
       "[10000 rows x 2 columns]"
      ]
     },
     "execution_count": 17,
     "metadata": {},
     "output_type": "execute_result"
    }
   ],
   "source": [
    "# 3 실험결과 epoch = 1000일 때 train, val 의 정확도가 차이가 가장 작았음. \n",
    "\n",
    "y_pred = torch.argmax(torch.softmax(X_test@W_save+b_save, dim = 1), dim = 1)\n",
    "submit['label'] = y_pred.detach().numpy()\n",
    "submit.to_csv('submit_epoch.csv', mode = 'w', index = False)\n",
    "submit"
   ]
  },
  {
   "cell_type": "code",
   "execution_count": null,
   "id": "c2cb9e46",
   "metadata": {
    "papermill": {
     "duration": 0.031023,
     "end_time": "2021-10-03T09:11:23.220863",
     "exception": false,
     "start_time": "2021-10-03T09:11:23.189840",
     "status": "completed"
    },
    "tags": []
   },
   "outputs": [],
   "source": []
  }
 ],
 "metadata": {
  "kernelspec": {
   "display_name": "Python 3",
   "language": "python",
   "name": "python3"
  },
  "language_info": {
   "codemirror_mode": {
    "name": "ipython",
    "version": 3
   },
   "file_extension": ".py",
   "mimetype": "text/x-python",
   "name": "python",
   "nbconvert_exporter": "python",
   "pygments_lexer": "ipython3",
   "version": "3.7.10"
  },
  "papermill": {
   "default_parameters": {},
   "duration": 2057.524389,
   "end_time": "2021-10-03T09:11:24.064834",
   "environment_variables": {},
   "exception": null,
   "input_path": "__notebook__.ipynb",
   "output_path": "__notebook__.ipynb",
   "parameters": {},
   "start_time": "2021-10-03T08:37:06.540445",
   "version": "2.3.3"
  }
 },
 "nbformat": 4,
 "nbformat_minor": 5
}
