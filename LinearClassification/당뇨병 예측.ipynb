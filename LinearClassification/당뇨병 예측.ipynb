{
 "cells": [
  {
   "cell_type": "code",
   "execution_count": 1,
   "id": "165e3aca",
   "metadata": {
    "_cell_guid": "b1076dfc-b9ad-4769-8c92-a6c4dae69d19",
    "_uuid": "8f2839f25d086af736a60e9eeb907d3b93b6e0e5",
    "execution": {
     "iopub.execute_input": "2021-10-03T02:01:18.052164Z",
     "iopub.status.busy": "2021-10-03T02:01:18.051470Z",
     "iopub.status.idle": "2021-10-03T02:01:18.057284Z",
     "shell.execute_reply": "2021-10-03T02:01:18.057832Z",
     "shell.execute_reply.started": "2021-10-03T01:59:51.245022Z"
    },
    "papermill": {
     "duration": 0.033504,
     "end_time": "2021-10-03T02:01:18.058127",
     "exception": false,
     "start_time": "2021-10-03T02:01:18.024623",
     "status": "completed"
    },
    "tags": []
   },
   "outputs": [
    {
     "name": "stdout",
     "output_type": "stream",
     "text": [
      "/kaggle/input/2021-ai-w4-p1/submit.csv\n",
      "/kaggle/input/2021-ai-w4-p1/train.csv\n",
      "/kaggle/input/2021-ai-w4-p1/test.csv\n"
     ]
    }
   ],
   "source": [
    "# This Python 3 environment comes with many helpful analytics libraries installed\n",
    "# It is defined by the kaggle/python Docker image: https://github.com/kaggle/docker-python\n",
    "# For example, here's several helpful packages to load\n",
    "\n",
    "import numpy as np # linear algebra\n",
    "import pandas as pd # data processing, CSV file I/O (e.g. pd.read_csv)\n",
    "\n",
    "# Input data files are available in the read-only \"../input/\" directory\n",
    "# For example, running this (by clicking run or pressing Shift+Enter) will list all files under the input directory\n",
    "\n",
    "import os\n",
    "for dirname, _, filenames in os.walk('/kaggle/input'):\n",
    "    for filename in filenames:\n",
    "        print(os.path.join(dirname, filename))\n",
    "\n",
    "# You can write up to 20GB to the current directory (/kaggle/working/) that gets preserved as output when you create a version using \"Save & Run All\" \n",
    "# You can also write temporary files to /kaggle/temp/, but they won't be saved outside of the current session"
   ]
  },
  {
   "cell_type": "code",
   "execution_count": 2,
   "id": "0274e514",
   "metadata": {
    "execution": {
     "iopub.execute_input": "2021-10-03T02:01:18.092887Z",
     "iopub.status.busy": "2021-10-03T02:01:18.092236Z",
     "iopub.status.idle": "2021-10-03T02:01:18.144978Z",
     "shell.execute_reply": "2021-10-03T02:01:18.145481Z",
     "shell.execute_reply.started": "2021-09-28T10:20:33.109847Z"
    },
    "papermill": {
     "duration": 0.072327,
     "end_time": "2021-10-03T02:01:18.145658",
     "exception": false,
     "start_time": "2021-10-03T02:01:18.073331",
     "status": "completed"
    },
    "tags": []
   },
   "outputs": [
    {
     "data": {
      "text/html": [
       "<div>\n",
       "<style scoped>\n",
       "    .dataframe tbody tr th:only-of-type {\n",
       "        vertical-align: middle;\n",
       "    }\n",
       "\n",
       "    .dataframe tbody tr th {\n",
       "        vertical-align: top;\n",
       "    }\n",
       "\n",
       "    .dataframe thead th {\n",
       "        text-align: right;\n",
       "    }\n",
       "</style>\n",
       "<table border=\"1\" class=\"dataframe\">\n",
       "  <thead>\n",
       "    <tr style=\"text-align: right;\">\n",
       "      <th></th>\n",
       "      <th>Pregnancies</th>\n",
       "      <th>Glucose</th>\n",
       "      <th>BloodPressure</th>\n",
       "      <th>SkinThickness</th>\n",
       "      <th>Insulin</th>\n",
       "      <th>BMI</th>\n",
       "      <th>DiabetesPedigreeFunction</th>\n",
       "      <th>Age</th>\n",
       "      <th>Diabetes</th>\n",
       "    </tr>\n",
       "  </thead>\n",
       "  <tbody>\n",
       "    <tr>\n",
       "      <th>0</th>\n",
       "      <td>1</td>\n",
       "      <td>95</td>\n",
       "      <td>60</td>\n",
       "      <td>18</td>\n",
       "      <td>58</td>\n",
       "      <td>23.9</td>\n",
       "      <td>0.260</td>\n",
       "      <td>22</td>\n",
       "      <td>0</td>\n",
       "    </tr>\n",
       "    <tr>\n",
       "      <th>1</th>\n",
       "      <td>5</td>\n",
       "      <td>105</td>\n",
       "      <td>72</td>\n",
       "      <td>29</td>\n",
       "      <td>325</td>\n",
       "      <td>36.9</td>\n",
       "      <td>0.159</td>\n",
       "      <td>28</td>\n",
       "      <td>0</td>\n",
       "    </tr>\n",
       "    <tr>\n",
       "      <th>2</th>\n",
       "      <td>0</td>\n",
       "      <td>135</td>\n",
       "      <td>68</td>\n",
       "      <td>42</td>\n",
       "      <td>250</td>\n",
       "      <td>42.3</td>\n",
       "      <td>0.365</td>\n",
       "      <td>24</td>\n",
       "      <td>1</td>\n",
       "    </tr>\n",
       "    <tr>\n",
       "      <th>3</th>\n",
       "      <td>4</td>\n",
       "      <td>131</td>\n",
       "      <td>68</td>\n",
       "      <td>21</td>\n",
       "      <td>166</td>\n",
       "      <td>33.1</td>\n",
       "      <td>0.160</td>\n",
       "      <td>28</td>\n",
       "      <td>0</td>\n",
       "    </tr>\n",
       "    <tr>\n",
       "      <th>4</th>\n",
       "      <td>1</td>\n",
       "      <td>103</td>\n",
       "      <td>30</td>\n",
       "      <td>38</td>\n",
       "      <td>83</td>\n",
       "      <td>43.3</td>\n",
       "      <td>0.183</td>\n",
       "      <td>33</td>\n",
       "      <td>0</td>\n",
       "    </tr>\n",
       "  </tbody>\n",
       "</table>\n",
       "</div>"
      ],
      "text/plain": [
       "   Pregnancies  Glucose  BloodPressure  SkinThickness  Insulin   BMI  \\\n",
       "0            1       95             60             18       58  23.9   \n",
       "1            5      105             72             29      325  36.9   \n",
       "2            0      135             68             42      250  42.3   \n",
       "3            4      131             68             21      166  33.1   \n",
       "4            1      103             30             38       83  43.3   \n",
       "\n",
       "   DiabetesPedigreeFunction  Age  Diabetes  \n",
       "0                     0.260   22         0  \n",
       "1                     0.159   28         0  \n",
       "2                     0.365   24         1  \n",
       "3                     0.160   28         0  \n",
       "4                     0.183   33         0  "
      ]
     },
     "execution_count": 2,
     "metadata": {},
     "output_type": "execute_result"
    }
   ],
   "source": [
    "train = pd.read_csv(\"/kaggle/input/2021-ai-w4-p1/train.csv\")\n",
    "test = pd.read_csv(\"/kaggle/input/2021-ai-w4-p1/test.csv\")\n",
    "submit = pd.read_csv(\"/kaggle/input/2021-ai-w4-p1/submit.csv\")\n",
    "\n",
    "train.head(5)"
   ]
  },
  {
   "cell_type": "code",
   "execution_count": 3,
   "id": "d15b9158",
   "metadata": {
    "execution": {
     "iopub.execute_input": "2021-10-03T02:01:18.204618Z",
     "iopub.status.busy": "2021-10-03T02:01:18.203811Z",
     "iopub.status.idle": "2021-10-03T02:01:18.207977Z",
     "shell.execute_reply": "2021-10-03T02:01:18.207272Z",
     "shell.execute_reply.started": "2021-09-28T09:37:54.911414Z"
    },
    "papermill": {
     "duration": 0.047623,
     "end_time": "2021-10-03T02:01:18.208163",
     "exception": false,
     "start_time": "2021-10-03T02:01:18.160540",
     "status": "completed"
    },
    "tags": []
   },
   "outputs": [
    {
     "name": "stdout",
     "output_type": "stream",
     "text": [
      "<class 'pandas.core.frame.DataFrame'>\n",
      "RangeIndex: 537 entries, 0 to 536\n",
      "Data columns (total 9 columns):\n",
      " #   Column                    Non-Null Count  Dtype  \n",
      "---  ------                    --------------  -----  \n",
      " 0   Pregnancies               537 non-null    int64  \n",
      " 1   Glucose                   537 non-null    int64  \n",
      " 2   BloodPressure             537 non-null    int64  \n",
      " 3   SkinThickness             537 non-null    int64  \n",
      " 4   Insulin                   537 non-null    int64  \n",
      " 5   BMI                       537 non-null    float64\n",
      " 6   DiabetesPedigreeFunction  537 non-null    float64\n",
      " 7   Age                       537 non-null    int64  \n",
      " 8   Diabetes                  537 non-null    int64  \n",
      "dtypes: float64(2), int64(7)\n",
      "memory usage: 37.9 KB\n",
      "None\n",
      "<class 'pandas.core.frame.DataFrame'>\n",
      "RangeIndex: 231 entries, 0 to 230\n",
      "Data columns (total 8 columns):\n",
      " #   Column                    Non-Null Count  Dtype  \n",
      "---  ------                    --------------  -----  \n",
      " 0   Pregnancies               231 non-null    int64  \n",
      " 1   Glucose                   231 non-null    int64  \n",
      " 2   BloodPressure             231 non-null    int64  \n",
      " 3   SkinThickness             231 non-null    int64  \n",
      " 4   Insulin                   231 non-null    int64  \n",
      " 5   BMI                       231 non-null    float64\n",
      " 6   DiabetesPedigreeFunction  231 non-null    float64\n",
      " 7   Age                       231 non-null    int64  \n",
      "dtypes: float64(2), int64(6)\n",
      "memory usage: 14.6 KB\n",
      "None\n"
     ]
    }
   ],
   "source": [
    "print(train.info())\n",
    "print(test.info())"
   ]
  },
  {
   "cell_type": "code",
   "execution_count": 4,
   "id": "e4b8e86b",
   "metadata": {
    "execution": {
     "iopub.execute_input": "2021-10-03T02:01:18.246846Z",
     "iopub.status.busy": "2021-10-03T02:01:18.246186Z",
     "iopub.status.idle": "2021-10-03T02:01:18.277519Z",
     "shell.execute_reply": "2021-10-03T02:01:18.277995Z",
     "shell.execute_reply.started": "2021-09-28T09:37:56.750706Z"
    },
    "papermill": {
     "duration": 0.053814,
     "end_time": "2021-10-03T02:01:18.278178",
     "exception": false,
     "start_time": "2021-10-03T02:01:18.224364",
     "status": "completed"
    },
    "tags": []
   },
   "outputs": [
    {
     "data": {
      "text/html": [
       "<div>\n",
       "<style scoped>\n",
       "    .dataframe tbody tr th:only-of-type {\n",
       "        vertical-align: middle;\n",
       "    }\n",
       "\n",
       "    .dataframe tbody tr th {\n",
       "        vertical-align: top;\n",
       "    }\n",
       "\n",
       "    .dataframe thead th {\n",
       "        text-align: right;\n",
       "    }\n",
       "</style>\n",
       "<table border=\"1\" class=\"dataframe\">\n",
       "  <thead>\n",
       "    <tr style=\"text-align: right;\">\n",
       "      <th></th>\n",
       "      <th>Pregnancies</th>\n",
       "      <th>Glucose</th>\n",
       "      <th>BloodPressure</th>\n",
       "      <th>SkinThickness</th>\n",
       "      <th>Insulin</th>\n",
       "      <th>BMI</th>\n",
       "      <th>DiabetesPedigreeFunction</th>\n",
       "      <th>Age</th>\n",
       "      <th>Diabetes</th>\n",
       "    </tr>\n",
       "  </thead>\n",
       "  <tbody>\n",
       "    <tr>\n",
       "      <th>count</th>\n",
       "      <td>537.000000</td>\n",
       "      <td>537.000000</td>\n",
       "      <td>537.000000</td>\n",
       "      <td>537.000000</td>\n",
       "      <td>537.000000</td>\n",
       "      <td>537.000000</td>\n",
       "      <td>537.000000</td>\n",
       "      <td>537.000000</td>\n",
       "      <td>537.000000</td>\n",
       "    </tr>\n",
       "    <tr>\n",
       "      <th>mean</th>\n",
       "      <td>3.726257</td>\n",
       "      <td>120.849162</td>\n",
       "      <td>69.685289</td>\n",
       "      <td>20.432030</td>\n",
       "      <td>79.836127</td>\n",
       "      <td>31.975605</td>\n",
       "      <td>0.469920</td>\n",
       "      <td>33.074488</td>\n",
       "      <td>0.350093</td>\n",
       "    </tr>\n",
       "    <tr>\n",
       "      <th>std</th>\n",
       "      <td>3.262965</td>\n",
       "      <td>32.339523</td>\n",
       "      <td>18.094374</td>\n",
       "      <td>15.490715</td>\n",
       "      <td>115.196730</td>\n",
       "      <td>7.624495</td>\n",
       "      <td>0.342087</td>\n",
       "      <td>11.685319</td>\n",
       "      <td>0.477444</td>\n",
       "    </tr>\n",
       "    <tr>\n",
       "      <th>min</th>\n",
       "      <td>0.000000</td>\n",
       "      <td>0.000000</td>\n",
       "      <td>0.000000</td>\n",
       "      <td>0.000000</td>\n",
       "      <td>0.000000</td>\n",
       "      <td>0.000000</td>\n",
       "      <td>0.078000</td>\n",
       "      <td>21.000000</td>\n",
       "      <td>0.000000</td>\n",
       "    </tr>\n",
       "    <tr>\n",
       "      <th>25%</th>\n",
       "      <td>1.000000</td>\n",
       "      <td>99.000000</td>\n",
       "      <td>64.000000</td>\n",
       "      <td>0.000000</td>\n",
       "      <td>0.000000</td>\n",
       "      <td>26.800000</td>\n",
       "      <td>0.241000</td>\n",
       "      <td>24.000000</td>\n",
       "      <td>0.000000</td>\n",
       "    </tr>\n",
       "    <tr>\n",
       "      <th>50%</th>\n",
       "      <td>3.000000</td>\n",
       "      <td>117.000000</td>\n",
       "      <td>72.000000</td>\n",
       "      <td>23.000000</td>\n",
       "      <td>36.000000</td>\n",
       "      <td>32.000000</td>\n",
       "      <td>0.374000</td>\n",
       "      <td>29.000000</td>\n",
       "      <td>0.000000</td>\n",
       "    </tr>\n",
       "    <tr>\n",
       "      <th>75%</th>\n",
       "      <td>6.000000</td>\n",
       "      <td>139.000000</td>\n",
       "      <td>80.000000</td>\n",
       "      <td>32.000000</td>\n",
       "      <td>129.000000</td>\n",
       "      <td>36.500000</td>\n",
       "      <td>0.612000</td>\n",
       "      <td>41.000000</td>\n",
       "      <td>1.000000</td>\n",
       "    </tr>\n",
       "    <tr>\n",
       "      <th>max</th>\n",
       "      <td>17.000000</td>\n",
       "      <td>199.000000</td>\n",
       "      <td>122.000000</td>\n",
       "      <td>63.000000</td>\n",
       "      <td>846.000000</td>\n",
       "      <td>67.100000</td>\n",
       "      <td>2.420000</td>\n",
       "      <td>81.000000</td>\n",
       "      <td>1.000000</td>\n",
       "    </tr>\n",
       "  </tbody>\n",
       "</table>\n",
       "</div>"
      ],
      "text/plain": [
       "       Pregnancies     Glucose  BloodPressure  SkinThickness     Insulin  \\\n",
       "count   537.000000  537.000000     537.000000     537.000000  537.000000   \n",
       "mean      3.726257  120.849162      69.685289      20.432030   79.836127   \n",
       "std       3.262965   32.339523      18.094374      15.490715  115.196730   \n",
       "min       0.000000    0.000000       0.000000       0.000000    0.000000   \n",
       "25%       1.000000   99.000000      64.000000       0.000000    0.000000   \n",
       "50%       3.000000  117.000000      72.000000      23.000000   36.000000   \n",
       "75%       6.000000  139.000000      80.000000      32.000000  129.000000   \n",
       "max      17.000000  199.000000     122.000000      63.000000  846.000000   \n",
       "\n",
       "              BMI  DiabetesPedigreeFunction         Age    Diabetes  \n",
       "count  537.000000                537.000000  537.000000  537.000000  \n",
       "mean    31.975605                  0.469920   33.074488    0.350093  \n",
       "std      7.624495                  0.342087   11.685319    0.477444  \n",
       "min      0.000000                  0.078000   21.000000    0.000000  \n",
       "25%     26.800000                  0.241000   24.000000    0.000000  \n",
       "50%     32.000000                  0.374000   29.000000    0.000000  \n",
       "75%     36.500000                  0.612000   41.000000    1.000000  \n",
       "max     67.100000                  2.420000   81.000000    1.000000  "
      ]
     },
     "execution_count": 4,
     "metadata": {},
     "output_type": "execute_result"
    }
   ],
   "source": [
    "train.describe()"
   ]
  },
  {
   "cell_type": "code",
   "execution_count": 5,
   "id": "ea84cdb3",
   "metadata": {
    "execution": {
     "iopub.execute_input": "2021-10-03T02:01:18.313671Z",
     "iopub.status.busy": "2021-10-03T02:01:18.313045Z",
     "iopub.status.idle": "2021-10-03T02:01:18.317323Z",
     "shell.execute_reply": "2021-10-03T02:01:18.317796Z",
     "shell.execute_reply.started": "2021-09-28T10:20:36.78132Z"
    },
    "papermill": {
     "duration": 0.023533,
     "end_time": "2021-10-03T02:01:18.317978",
     "exception": false,
     "start_time": "2021-10-03T02:01:18.294445",
     "status": "completed"
    },
    "tags": []
   },
   "outputs": [],
   "source": [
    "X_train = train.drop('Diabetes', axis = 1)\n",
    "y_train = train['Diabetes']"
   ]
  },
  {
   "cell_type": "code",
   "execution_count": 6,
   "id": "c22b5be0",
   "metadata": {
    "execution": {
     "iopub.execute_input": "2021-10-03T02:01:18.352892Z",
     "iopub.status.busy": "2021-10-03T02:01:18.352272Z",
     "iopub.status.idle": "2021-10-03T02:01:19.249320Z",
     "shell.execute_reply": "2021-10-03T02:01:19.249884Z",
     "shell.execute_reply.started": "2021-09-28T10:22:01.807912Z"
    },
    "papermill": {
     "duration": 0.916299,
     "end_time": "2021-10-03T02:01:19.250068",
     "exception": false,
     "start_time": "2021-10-03T02:01:18.333769",
     "status": "completed"
    },
    "tags": []
   },
   "outputs": [],
   "source": [
    "from sklearn.preprocessing import MinMaxScaler\n",
    "sc = MinMaxScaler()\n",
    "X_train['Insulin'] = sc.fit_transform(X_train['Insulin'].to_numpy().reshape(-1,1))\n",
    "test['Insulin'] = sc.transform(test['Insulin'].to_numpy().reshape(-1,1))"
   ]
  },
  {
   "cell_type": "code",
   "execution_count": 7,
   "id": "dc93d511",
   "metadata": {
    "execution": {
     "iopub.execute_input": "2021-10-03T02:01:19.287424Z",
     "iopub.status.busy": "2021-10-03T02:01:19.286770Z",
     "iopub.status.idle": "2021-10-03T02:01:20.402936Z",
     "shell.execute_reply": "2021-10-03T02:01:20.403414Z",
     "shell.execute_reply.started": "2021-09-28T10:23:08.744909Z"
    },
    "papermill": {
     "duration": 1.137625,
     "end_time": "2021-10-03T02:01:20.403607",
     "exception": false,
     "start_time": "2021-10-03T02:01:19.265982",
     "status": "completed"
    },
    "tags": []
   },
   "outputs": [],
   "source": [
    "import torch \n",
    "torch.manual_seed(1)\n",
    "X_train = torch.FloatTensor(X_train.to_numpy())\n",
    "test = torch.FloatTensor(test.to_numpy())\n",
    "y_train = torch.FloatTensor(y_train.to_numpy())"
   ]
  },
  {
   "cell_type": "code",
   "execution_count": 8,
   "id": "cf0d7ae5",
   "metadata": {
    "execution": {
     "iopub.execute_input": "2021-10-03T02:01:20.439311Z",
     "iopub.status.busy": "2021-10-03T02:01:20.438458Z",
     "iopub.status.idle": "2021-10-03T02:01:20.442349Z",
     "shell.execute_reply": "2021-10-03T02:01:20.441785Z",
     "shell.execute_reply.started": "2021-09-28T10:23:13.392889Z"
    },
    "papermill": {
     "duration": 0.023041,
     "end_time": "2021-10-03T02:01:20.442494",
     "exception": false,
     "start_time": "2021-10-03T02:01:20.419453",
     "status": "completed"
    },
    "tags": []
   },
   "outputs": [],
   "source": [
    "import torch.optim as optim"
   ]
  },
  {
   "cell_type": "markdown",
   "id": "c2c18fd4",
   "metadata": {
    "papermill": {
     "duration": 0.015559,
     "end_time": "2021-10-03T02:01:20.474006",
     "exception": false,
     "start_time": "2021-10-03T02:01:20.458447",
     "status": "completed"
    },
    "tags": []
   },
   "source": [
    "binary classification <br/>\n",
    " H = sigmoid(X@W+b) <br/>\n",
    " y_pred = sigmoid(test@W + b) >= torch.Float(0.5) ??"
   ]
  },
  {
   "cell_type": "code",
   "execution_count": 9,
   "id": "f220bcef",
   "metadata": {
    "execution": {
     "iopub.execute_input": "2021-10-03T02:01:20.514558Z",
     "iopub.status.busy": "2021-10-03T02:01:20.513892Z",
     "iopub.status.idle": "2021-10-03T02:05:56.075242Z",
     "shell.execute_reply": "2021-10-03T02:05:56.074449Z",
     "shell.execute_reply.started": "2021-09-28T10:25:11.694816Z"
    },
    "papermill": {
     "duration": 275.585663,
     "end_time": "2021-10-03T02:05:56.075454",
     "exception": false,
     "start_time": "2021-10-03T02:01:20.489791",
     "status": "completed"
    },
    "tags": []
   },
   "outputs": [
    {
     "name": "stdout",
     "output_type": "stream",
     "text": [
      "0 :  0.6931473016738892\n",
      "10000 :  0.6175767779350281\n",
      "20000 :  0.6157830953598022\n",
      "30000 :  0.614215075969696\n",
      "40000 :  0.6126732230186462\n",
      "50000 :  0.6111482381820679\n",
      "60000 :  0.6096410751342773\n",
      "70000 :  0.6081499457359314\n",
      "80000 :  0.606675386428833\n",
      "90000 :  0.605215847492218\n",
      "100000 :  0.6037742495536804\n",
      "110000 :  0.6023486852645874\n",
      "120000 :  0.6009374856948853\n",
      "130000 :  0.5995427966117859\n",
      "140000 :  0.5981665253639221\n",
      "150000 :  0.5967980623245239\n",
      "160000 :  0.5954516530036926\n",
      "170000 :  0.5941203832626343\n",
      "180000 :  0.5927965641021729\n",
      "190000 :  0.59149569272995\n",
      "200000 :  0.5902082920074463\n",
      "210000 :  0.5889281630516052\n",
      "220000 :  0.5876708626747131\n",
      "230000 :  0.5864262580871582\n",
      "240000 :  0.5851885676383972\n",
      "250000 :  0.5839729309082031\n",
      "260000 :  0.5827701091766357\n",
      "270000 :  0.5815740823745728\n",
      "280000 :  0.5803848505020142\n",
      "290000 :  0.5792071223258972\n",
      "300000 :  0.5780717730522156\n",
      "310000 :  0.5769428610801697\n",
      "320000 :  0.5758204460144043\n",
      "330000 :  0.5747044086456299\n",
      "340000 :  0.5735947489738464\n",
      "350000 :  0.572491466999054\n",
      "360000 :  0.5714243054389954\n",
      "370000 :  0.5703722834587097\n",
      "380000 :  0.5693263411521912\n",
      "390000 :  0.5682861804962158\n",
      "400000 :  0.5672518610954285\n",
      "410000 :  0.5662235617637634\n",
      "420000 :  0.5652082562446594\n",
      "430000 :  0.5642291307449341\n",
      "440000 :  0.5632556080818176\n",
      "450000 :  0.5622873902320862\n",
      "460000 :  0.5613247752189636\n",
      "470000 :  0.5603676438331604\n",
      "480000 :  0.5594159364700317\n",
      "490000 :  0.5584819316864014\n",
      "500000 :  0.5575770735740662\n",
      "510000 :  0.5566771626472473\n",
      "520000 :  0.5557823181152344\n",
      "530000 :  0.5548926591873169\n",
      "540000 :  0.5540080070495605\n",
      "550000 :  0.5531283020973206\n",
      "560000 :  0.5522598624229431\n",
      "570000 :  0.5514247417449951\n",
      "580000 :  0.5505942702293396\n",
      "590000 :  0.5497684478759766\n",
      "600000 :  0.5489472150802612\n",
      "610000 :  0.5481305122375488\n",
      "620000 :  0.5473185181617737\n",
      "630000 :  0.5465110540390015\n",
      "640000 :  0.5457081198692322\n",
      "650000 :  0.5449097156524658\n",
      "660000 :  0.5441159605979919\n",
      "670000 :  0.5433269143104553\n",
      "680000 :  0.5426008701324463\n",
      "690000 :  0.541885256767273\n",
      "700000 :  0.5411732792854309\n",
      "710000 :  0.540465235710144\n",
      "720000 :  0.539760947227478\n",
      "730000 :  0.5390604734420776\n",
      "740000 :  0.5383636951446533\n",
      "750000 :  0.537670910358429\n",
      "760000 :  0.5369818210601807\n",
      "770000 :  0.536296546459198\n",
      "780000 :  0.5356150269508362\n",
      "790000 :  0.5349372029304504\n",
      "800000 :  0.5342632532119751\n",
      "810000 :  0.533592939376831\n",
      "820000 :  0.5329263806343079\n",
      "830000 :  0.5322635769844055\n",
      "840000 :  0.5316163301467896\n",
      "850000 :  0.5310201644897461\n",
      "860000 :  0.530427098274231\n",
      "870000 :  0.5298371315002441\n",
      "880000 :  0.5292502641677856\n",
      "890000 :  0.5286664962768555\n",
      "900000 :  0.5280858278274536\n",
      "910000 :  0.5275081992149353\n",
      "920000 :  0.5269335508346558\n",
      "930000 :  0.5263620018959045\n",
      "940000 :  0.5257934331893921\n",
      "950000 :  0.5252278447151184\n",
      "960000 :  0.524665355682373\n",
      "970000 :  0.5241058468818665\n",
      "980000 :  0.5235493183135986\n",
      "990000 :  0.5229958295822144\n",
      "1000000 :  0.5224452614784241\n"
     ]
    }
   ],
   "source": [
    "W = torch.zeros((8,1), requires_grad = True)\n",
    "b = torch.zeros(1, requires_grad = True)\n",
    "optimizer = optim.SGD([W, b], lr=0.0001)\n",
    "loss = torch.nn.BCELoss()\n",
    "# loss = torch.nn.BCELoss(H, y_train) : Error (Boolean value of Tensor with more than one value is ambiguous)\n",
    "\n",
    "nb_epochs = 1000000\n",
    "for epoch in range(nb_epochs + 1):\n",
    "    H = torch.sigmoid(X_train@W + b)   \n",
    "    cost = loss(H, y_train.unsqueeze(1))\n",
    "\n",
    "    \n",
    "    optimizer.zero_grad()\n",
    "    cost.backward()\n",
    "    optimizer.step()\n",
    "    \n",
    "    if epoch % 10000 == 0 :\n",
    "        print(epoch, \": \", cost.item())"
   ]
  },
  {
   "cell_type": "code",
   "execution_count": 10,
   "id": "5d6cecd4",
   "metadata": {
    "execution": {
     "iopub.execute_input": "2021-10-03T02:05:56.173966Z",
     "iopub.status.busy": "2021-10-03T02:05:56.172042Z",
     "iopub.status.idle": "2021-10-03T02:05:56.183121Z",
     "shell.execute_reply": "2021-10-03T02:05:56.182565Z",
     "shell.execute_reply.started": "2021-09-28T10:30:02.172462Z"
    },
    "papermill": {
     "duration": 0.061274,
     "end_time": "2021-10-03T02:05:56.183262",
     "exception": false,
     "start_time": "2021-10-03T02:05:56.121988",
     "status": "completed"
    },
    "tags": []
   },
   "outputs": [
    {
     "data": {
      "text/plain": [
       "tensor([[0],\n",
       "        [0],\n",
       "        [0],\n",
       "        [0],\n",
       "        [0]], dtype=torch.int32)"
      ]
     },
     "execution_count": 10,
     "metadata": {},
     "output_type": "execute_result"
    }
   ],
   "source": [
    "y_pred = torch.sigmoid(test@W + b) >= 0.5\n",
    "y_pred = y_pred.int()\n",
    "y_pred[:5]"
   ]
  },
  {
   "cell_type": "code",
   "execution_count": 11,
   "id": "ef5dcbf0",
   "metadata": {
    "execution": {
     "iopub.execute_input": "2021-10-03T02:05:56.291602Z",
     "iopub.status.busy": "2021-10-03T02:05:56.290692Z",
     "iopub.status.idle": "2021-10-03T02:05:56.294826Z",
     "shell.execute_reply": "2021-10-03T02:05:56.294194Z",
     "shell.execute_reply.started": "2021-09-28T10:30:05.683507Z"
    },
    "papermill": {
     "duration": 0.064792,
     "end_time": "2021-10-03T02:05:56.294989",
     "exception": false,
     "start_time": "2021-10-03T02:05:56.230197",
     "status": "completed"
    },
    "tags": []
   },
   "outputs": [
    {
     "data": {
      "text/html": [
       "<div>\n",
       "<style scoped>\n",
       "    .dataframe tbody tr th:only-of-type {\n",
       "        vertical-align: middle;\n",
       "    }\n",
       "\n",
       "    .dataframe tbody tr th {\n",
       "        vertical-align: top;\n",
       "    }\n",
       "\n",
       "    .dataframe thead th {\n",
       "        text-align: right;\n",
       "    }\n",
       "</style>\n",
       "<table border=\"1\" class=\"dataframe\">\n",
       "  <thead>\n",
       "    <tr style=\"text-align: right;\">\n",
       "      <th></th>\n",
       "      <th>ID</th>\n",
       "      <th>Diabetes</th>\n",
       "    </tr>\n",
       "  </thead>\n",
       "  <tbody>\n",
       "    <tr>\n",
       "      <th>0</th>\n",
       "      <td>0</td>\n",
       "      <td>0</td>\n",
       "    </tr>\n",
       "    <tr>\n",
       "      <th>1</th>\n",
       "      <td>1</td>\n",
       "      <td>0</td>\n",
       "    </tr>\n",
       "    <tr>\n",
       "      <th>2</th>\n",
       "      <td>2</td>\n",
       "      <td>0</td>\n",
       "    </tr>\n",
       "    <tr>\n",
       "      <th>3</th>\n",
       "      <td>3</td>\n",
       "      <td>0</td>\n",
       "    </tr>\n",
       "    <tr>\n",
       "      <th>4</th>\n",
       "      <td>4</td>\n",
       "      <td>0</td>\n",
       "    </tr>\n",
       "    <tr>\n",
       "      <th>...</th>\n",
       "      <td>...</td>\n",
       "      <td>...</td>\n",
       "    </tr>\n",
       "    <tr>\n",
       "      <th>226</th>\n",
       "      <td>226</td>\n",
       "      <td>1</td>\n",
       "    </tr>\n",
       "    <tr>\n",
       "      <th>227</th>\n",
       "      <td>227</td>\n",
       "      <td>0</td>\n",
       "    </tr>\n",
       "    <tr>\n",
       "      <th>228</th>\n",
       "      <td>228</td>\n",
       "      <td>0</td>\n",
       "    </tr>\n",
       "    <tr>\n",
       "      <th>229</th>\n",
       "      <td>229</td>\n",
       "      <td>0</td>\n",
       "    </tr>\n",
       "    <tr>\n",
       "      <th>230</th>\n",
       "      <td>230</td>\n",
       "      <td>0</td>\n",
       "    </tr>\n",
       "  </tbody>\n",
       "</table>\n",
       "<p>231 rows × 2 columns</p>\n",
       "</div>"
      ],
      "text/plain": [
       "      ID  Diabetes\n",
       "0      0         0\n",
       "1      1         0\n",
       "2      2         0\n",
       "3      3         0\n",
       "4      4         0\n",
       "..   ...       ...\n",
       "226  226         1\n",
       "227  227         0\n",
       "228  228         0\n",
       "229  229         0\n",
       "230  230         0\n",
       "\n",
       "[231 rows x 2 columns]"
      ]
     },
     "execution_count": 11,
     "metadata": {},
     "output_type": "execute_result"
    }
   ],
   "source": [
    "submit['Diabetes'] = y_pred.detach().numpy()\n",
    "submit"
   ]
  },
  {
   "cell_type": "code",
   "execution_count": 12,
   "id": "8d5acf55",
   "metadata": {
    "execution": {
     "iopub.execute_input": "2021-10-03T02:05:56.395377Z",
     "iopub.status.busy": "2021-10-03T02:05:56.394683Z",
     "iopub.status.idle": "2021-10-03T02:05:56.401972Z",
     "shell.execute_reply": "2021-10-03T02:05:56.401347Z",
     "shell.execute_reply.started": "2021-09-28T10:30:18.70143Z"
    },
    "papermill": {
     "duration": 0.060031,
     "end_time": "2021-10-03T02:05:56.402123",
     "exception": false,
     "start_time": "2021-10-03T02:05:56.342092",
     "status": "completed"
    },
    "tags": []
   },
   "outputs": [],
   "source": [
    "submit.to_csv(\"submit_InsulinmMIter.csv\", mode = 'w', index = False)"
   ]
  },
  {
   "cell_type": "code",
   "execution_count": null,
   "id": "12e41189",
   "metadata": {
    "papermill": {
     "duration": 0.048783,
     "end_time": "2021-10-03T02:05:56.498080",
     "exception": false,
     "start_time": "2021-10-03T02:05:56.449297",
     "status": "completed"
    },
    "tags": []
   },
   "outputs": [],
   "source": []
  },
  {
   "cell_type": "code",
   "execution_count": null,
   "id": "cfabce37",
   "metadata": {
    "papermill": {
     "duration": 0.047785,
     "end_time": "2021-10-03T02:05:56.593749",
     "exception": false,
     "start_time": "2021-10-03T02:05:56.545964",
     "status": "completed"
    },
    "tags": []
   },
   "outputs": [],
   "source": []
  },
  {
   "cell_type": "code",
   "execution_count": null,
   "id": "9fb0cc68",
   "metadata": {
    "papermill": {
     "duration": 0.047329,
     "end_time": "2021-10-03T02:05:56.688354",
     "exception": false,
     "start_time": "2021-10-03T02:05:56.641025",
     "status": "completed"
    },
    "tags": []
   },
   "outputs": [],
   "source": []
  },
  {
   "cell_type": "code",
   "execution_count": null,
   "id": "a4fc6190",
   "metadata": {
    "papermill": {
     "duration": 0.048245,
     "end_time": "2021-10-03T02:05:56.783953",
     "exception": false,
     "start_time": "2021-10-03T02:05:56.735708",
     "status": "completed"
    },
    "tags": []
   },
   "outputs": [],
   "source": []
  }
 ],
 "metadata": {
  "kernelspec": {
   "display_name": "Python 3",
   "language": "python",
   "name": "python3"
  },
  "language_info": {
   "codemirror_mode": {
    "name": "ipython",
    "version": 3
   },
   "file_extension": ".py",
   "mimetype": "text/x-python",
   "name": "python",
   "nbconvert_exporter": "python",
   "pygments_lexer": "ipython3",
   "version": "3.7.10"
  },
  "papermill": {
   "default_parameters": {},
   "duration": 288.902799,
   "end_time": "2021-10-03T02:05:58.486166",
   "environment_variables": {},
   "exception": null,
   "input_path": "__notebook__.ipynb",
   "output_path": "__notebook__.ipynb",
   "parameters": {},
   "start_time": "2021-10-03T02:01:09.583367",
   "version": "2.3.3"
  }
 },
 "nbformat": 4,
 "nbformat_minor": 5
}
