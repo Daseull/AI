{
 "cells": [
  {
   "cell_type": "code",
   "execution_count": 1,
   "id": "29b6f1f6",
   "metadata": {
    "_cell_guid": "b1076dfc-b9ad-4769-8c92-a6c4dae69d19",
    "_uuid": "8f2839f25d086af736a60e9eeb907d3b93b6e0e5",
    "execution": {
     "iopub.execute_input": "2021-10-13T10:49:11.976516Z",
     "iopub.status.busy": "2021-10-13T10:49:11.974104Z",
     "iopub.status.idle": "2021-10-13T10:49:11.979775Z",
     "shell.execute_reply": "2021-10-13T10:49:11.980365Z",
     "shell.execute_reply.started": "2021-10-13T10:25:47.641727Z"
    },
    "papermill": {
     "duration": 0.107219,
     "end_time": "2021-10-13T10:49:11.980684",
     "exception": false,
     "start_time": "2021-10-13T10:49:11.873465",
     "status": "completed"
    },
    "tags": []
   },
   "outputs": [
    {
     "name": "stdout",
     "output_type": "stream",
     "text": [
      "/kaggle/input/2021-ai-w7-p2/sample_submission.csv\n",
      "/kaggle/input/2021-ai-w7-p2/x_test.csv\n",
      "/kaggle/input/2021-ai-w7-p2/y_train.csv\n",
      "/kaggle/input/2021-ai-w7-p2/x_train.csv\n"
     ]
    }
   ],
   "source": [
    "# This Python 3 environment comes with many helpful analytics libraries installed\n",
    "# It is defined by the kaggle/python Docker image: https://github.com/kaggle/docker-python\n",
    "# For example, here's several helpful packages to load\n",
    "\n",
    "import numpy as np # linear algebra\n",
    "import pandas as pd # data processing, CSV file I/O (e.g. pd.read_csv)\n",
    "\n",
    "# Input data files are available in the read-only \"../input/\" directory\n",
    "# For example, running this (by clicking run or pressing Shift+Enter) will list all files under the input directory\n",
    "\n",
    "import os\n",
    "for dirname, _, filenames in os.walk('/kaggle/input'):\n",
    "    for filename in filenames:\n",
    "        print(os.path.join(dirname, filename))\n",
    "\n",
    "# You can write up to 20GB to the current directory (/kaggle/working/) that gets preserved as output when you create a version using \"Save & Run All\" \n",
    "# You can also write temporary files to /kaggle/temp/, but they won't be saved outside of the current session"
   ]
  },
  {
   "cell_type": "code",
   "execution_count": 2,
   "id": "f598940b",
   "metadata": {
    "execution": {
     "iopub.execute_input": "2021-10-13T10:49:12.016510Z",
     "iopub.status.busy": "2021-10-13T10:49:12.015908Z",
     "iopub.status.idle": "2021-10-13T10:49:12.651364Z",
     "shell.execute_reply": "2021-10-13T10:49:12.652042Z",
     "shell.execute_reply.started": "2021-10-13T10:44:11.370431Z"
    },
    "papermill": {
     "duration": 0.655358,
     "end_time": "2021-10-13T10:49:12.652246",
     "exception": false,
     "start_time": "2021-10-13T10:49:11.996888",
     "status": "completed"
    },
    "tags": []
   },
   "outputs": [
    {
     "name": "stdout",
     "output_type": "stream",
     "text": [
      "<class 'pandas.core.frame.DataFrame'>\n",
      "RangeIndex: 21486 entries, 0 to 21485\n",
      "Data columns (total 14 columns):\n",
      " #   Column    Non-Null Count  Dtype  \n",
      "---  ------    --------------  -----  \n",
      " 0   시도명       21486 non-null  int64  \n",
      " 1   읍면동명      21486 non-null  int64  \n",
      " 2   거주인구      21486 non-null  float64\n",
      " 3   근무인구      21486 non-null  float64\n",
      " 4   방문인구      21486 non-null  float64\n",
      " 5   총 유동인구    21486 non-null  float64\n",
      " 6   평균 속도     21486 non-null  float64\n",
      " 7   평균 소요 시간  21486 non-null  float64\n",
      " 8   평균 기온     21486 non-null  float64\n",
      " 9   일강수량      21486 non-null  float64\n",
      " 10  평균 풍속     21486 non-null  float64\n",
      " 11  월         21486 non-null  int64  \n",
      " 12  일         21486 non-null  int64  \n",
      " 13  년         21486 non-null  int64  \n",
      "dtypes: float64(9), int64(5)\n",
      "memory usage: 2.3 MB\n",
      "None\n",
      "<class 'pandas.core.frame.DataFrame'>\n",
      "RangeIndex: 10583 entries, 0 to 10582\n",
      "Data columns (total 14 columns):\n",
      " #   Column    Non-Null Count  Dtype  \n",
      "---  ------    --------------  -----  \n",
      " 0   시도명       10583 non-null  int64  \n",
      " 1   읍면동명      10583 non-null  int64  \n",
      " 2   거주인구      10583 non-null  float64\n",
      " 3   근무인구      10583 non-null  float64\n",
      " 4   방문인구      10583 non-null  float64\n",
      " 5   총 유동인구    10583 non-null  float64\n",
      " 6   평균 속도     10583 non-null  float64\n",
      " 7   평균 소요 시간  10583 non-null  float64\n",
      " 8   평균 기온     10583 non-null  float64\n",
      " 9   일강수량      10583 non-null  float64\n",
      " 10  평균 풍속     10583 non-null  float64\n",
      " 11  월         10583 non-null  int64  \n",
      " 12  일         10583 non-null  int64  \n",
      " 13  년         10583 non-null  int64  \n",
      "dtypes: float64(9), int64(5)\n",
      "memory usage: 1.1 MB\n",
      "None\n"
     ]
    }
   ],
   "source": [
    "X = pd.read_csv(\"/kaggle/input/2021-ai-w7-p2/x_train.csv\",engine='python',encoding='CP949')\n",
    "y = pd.read_csv(\"/kaggle/input/2021-ai-w7-p2/y_train.csv\",engine='python',encoding='CP949')\n",
    "X_test = pd.read_csv(\"/kaggle/input/2021-ai-w7-p2/x_test.csv\",engine='python',encoding='CP949')\n",
    "submit = pd.read_csv(\"/kaggle/input/2021-ai-w7-p2/sample_submission.csv\",engine='python',encoding='CP949')\n",
    "\n",
    "print(X.info())\n",
    "print(X_test.info())"
   ]
  },
  {
   "cell_type": "code",
   "execution_count": 3,
   "id": "78a9428b",
   "metadata": {
    "execution": {
     "iopub.execute_input": "2021-10-13T10:49:12.690904Z",
     "iopub.status.busy": "2021-10-13T10:49:12.689491Z",
     "iopub.status.idle": "2021-10-13T10:49:12.749852Z",
     "shell.execute_reply": "2021-10-13T10:49:12.749417Z",
     "shell.execute_reply.started": "2021-10-13T10:44:12.078864Z"
    },
    "papermill": {
     "duration": 0.080904,
     "end_time": "2021-10-13T10:49:12.749968",
     "exception": false,
     "start_time": "2021-10-13T10:49:12.669064",
     "status": "completed"
    },
    "tags": []
   },
   "outputs": [
    {
     "data": {
      "text/html": [
       "<div>\n",
       "<style scoped>\n",
       "    .dataframe tbody tr th:only-of-type {\n",
       "        vertical-align: middle;\n",
       "    }\n",
       "\n",
       "    .dataframe tbody tr th {\n",
       "        vertical-align: top;\n",
       "    }\n",
       "\n",
       "    .dataframe thead th {\n",
       "        text-align: right;\n",
       "    }\n",
       "</style>\n",
       "<table border=\"1\" class=\"dataframe\">\n",
       "  <thead>\n",
       "    <tr style=\"text-align: right;\">\n",
       "      <th></th>\n",
       "      <th>시도명</th>\n",
       "      <th>읍면동명</th>\n",
       "      <th>거주인구</th>\n",
       "      <th>근무인구</th>\n",
       "      <th>방문인구</th>\n",
       "      <th>총 유동인구</th>\n",
       "      <th>평균 속도</th>\n",
       "      <th>평균 소요 시간</th>\n",
       "      <th>평균 기온</th>\n",
       "      <th>일강수량</th>\n",
       "      <th>평균 풍속</th>\n",
       "      <th>월</th>\n",
       "      <th>일</th>\n",
       "      <th>년</th>\n",
       "    </tr>\n",
       "  </thead>\n",
       "  <tbody>\n",
       "    <tr>\n",
       "      <th>count</th>\n",
       "      <td>21486.000000</td>\n",
       "      <td>21486.000000</td>\n",
       "      <td>2.148600e+04</td>\n",
       "      <td>21486.000000</td>\n",
       "      <td>21486.000000</td>\n",
       "      <td>2.148600e+04</td>\n",
       "      <td>21486.000000</td>\n",
       "      <td>21486.000000</td>\n",
       "      <td>21486.000000</td>\n",
       "      <td>21486.000000</td>\n",
       "      <td>21486.000000</td>\n",
       "      <td>21486.000000</td>\n",
       "      <td>21486.000000</td>\n",
       "      <td>21486.000000</td>\n",
       "    </tr>\n",
       "    <tr>\n",
       "      <th>mean</th>\n",
       "      <td>0.596435</td>\n",
       "      <td>19.815322</td>\n",
       "      <td>3.173133e+05</td>\n",
       "      <td>35610.667755</td>\n",
       "      <td>196055.537429</td>\n",
       "      <td>5.489795e+05</td>\n",
       "      <td>41.090723</td>\n",
       "      <td>37.192712</td>\n",
       "      <td>13.568007</td>\n",
       "      <td>7.325534</td>\n",
       "      <td>2.746740</td>\n",
       "      <td>6.078563</td>\n",
       "      <td>15.740343</td>\n",
       "      <td>2018.730103</td>\n",
       "    </tr>\n",
       "    <tr>\n",
       "      <th>std</th>\n",
       "      <td>0.490624</td>\n",
       "      <td>11.848479</td>\n",
       "      <td>2.986918e+05</td>\n",
       "      <td>40520.154917</td>\n",
       "      <td>140616.040681</td>\n",
       "      <td>4.615707e+05</td>\n",
       "      <td>8.694502</td>\n",
       "      <td>12.959750</td>\n",
       "      <td>7.732429</td>\n",
       "      <td>28.564031</td>\n",
       "      <td>1.483265</td>\n",
       "      <td>3.496635</td>\n",
       "      <td>8.808749</td>\n",
       "      <td>0.704910</td>\n",
       "    </tr>\n",
       "    <tr>\n",
       "      <th>min</th>\n",
       "      <td>0.000000</td>\n",
       "      <td>0.000000</td>\n",
       "      <td>9.305552e+03</td>\n",
       "      <td>1172.448000</td>\n",
       "      <td>10788.381000</td>\n",
       "      <td>2.225181e+04</td>\n",
       "      <td>23.545000</td>\n",
       "      <td>12.667000</td>\n",
       "      <td>-11.600000</td>\n",
       "      <td>0.000000</td>\n",
       "      <td>0.000000</td>\n",
       "      <td>1.000000</td>\n",
       "      <td>1.000000</td>\n",
       "      <td>2018.000000</td>\n",
       "    </tr>\n",
       "    <tr>\n",
       "      <th>25%</th>\n",
       "      <td>0.000000</td>\n",
       "      <td>10.000000</td>\n",
       "      <td>9.545104e+04</td>\n",
       "      <td>12172.578500</td>\n",
       "      <td>100026.639500</td>\n",
       "      <td>2.228646e+05</td>\n",
       "      <td>34.250000</td>\n",
       "      <td>27.909000</td>\n",
       "      <td>7.600000</td>\n",
       "      <td>0.000000</td>\n",
       "      <td>1.750000</td>\n",
       "      <td>3.000000</td>\n",
       "      <td>8.000000</td>\n",
       "      <td>2018.000000</td>\n",
       "    </tr>\n",
       "    <tr>\n",
       "      <th>50%</th>\n",
       "      <td>1.000000</td>\n",
       "      <td>20.000000</td>\n",
       "      <td>2.214727e+05</td>\n",
       "      <td>21871.497000</td>\n",
       "      <td>153199.927500</td>\n",
       "      <td>3.869563e+05</td>\n",
       "      <td>39.622000</td>\n",
       "      <td>34.461000</td>\n",
       "      <td>13.333000</td>\n",
       "      <td>0.000000</td>\n",
       "      <td>2.400000</td>\n",
       "      <td>6.000000</td>\n",
       "      <td>16.000000</td>\n",
       "      <td>2019.000000</td>\n",
       "    </tr>\n",
       "    <tr>\n",
       "      <th>75%</th>\n",
       "      <td>1.000000</td>\n",
       "      <td>30.000000</td>\n",
       "      <td>4.079880e+05</td>\n",
       "      <td>40200.021750</td>\n",
       "      <td>235891.613250</td>\n",
       "      <td>6.389216e+05</td>\n",
       "      <td>49.040000</td>\n",
       "      <td>46.071000</td>\n",
       "      <td>19.700000</td>\n",
       "      <td>1.500000</td>\n",
       "      <td>3.400000</td>\n",
       "      <td>9.000000</td>\n",
       "      <td>23.000000</td>\n",
       "      <td>2019.000000</td>\n",
       "    </tr>\n",
       "    <tr>\n",
       "      <th>max</th>\n",
       "      <td>1.000000</td>\n",
       "      <td>40.000000</td>\n",
       "      <td>1.353561e+06</td>\n",
       "      <td>265708.771000</td>\n",
       "      <td>786387.113000</td>\n",
       "      <td>2.079278e+06</td>\n",
       "      <td>95.000000</td>\n",
       "      <td>172.200000</td>\n",
       "      <td>30.400000</td>\n",
       "      <td>587.500000</td>\n",
       "      <td>17.700000</td>\n",
       "      <td>12.000000</td>\n",
       "      <td>31.000000</td>\n",
       "      <td>2020.000000</td>\n",
       "    </tr>\n",
       "  </tbody>\n",
       "</table>\n",
       "</div>"
      ],
      "text/plain": [
       "                시도명          읍면동명          거주인구           근무인구           방문인구  \\\n",
       "count  21486.000000  21486.000000  2.148600e+04   21486.000000   21486.000000   \n",
       "mean       0.596435     19.815322  3.173133e+05   35610.667755  196055.537429   \n",
       "std        0.490624     11.848479  2.986918e+05   40520.154917  140616.040681   \n",
       "min        0.000000      0.000000  9.305552e+03    1172.448000   10788.381000   \n",
       "25%        0.000000     10.000000  9.545104e+04   12172.578500  100026.639500   \n",
       "50%        1.000000     20.000000  2.214727e+05   21871.497000  153199.927500   \n",
       "75%        1.000000     30.000000  4.079880e+05   40200.021750  235891.613250   \n",
       "max        1.000000     40.000000  1.353561e+06  265708.771000  786387.113000   \n",
       "\n",
       "             총 유동인구         평균 속도      평균 소요 시간         평균 기온          일강수량  \\\n",
       "count  2.148600e+04  21486.000000  21486.000000  21486.000000  21486.000000   \n",
       "mean   5.489795e+05     41.090723     37.192712     13.568007      7.325534   \n",
       "std    4.615707e+05      8.694502     12.959750      7.732429     28.564031   \n",
       "min    2.225181e+04     23.545000     12.667000    -11.600000      0.000000   \n",
       "25%    2.228646e+05     34.250000     27.909000      7.600000      0.000000   \n",
       "50%    3.869563e+05     39.622000     34.461000     13.333000      0.000000   \n",
       "75%    6.389216e+05     49.040000     46.071000     19.700000      1.500000   \n",
       "max    2.079278e+06     95.000000    172.200000     30.400000    587.500000   \n",
       "\n",
       "              평균 풍속             월             일             년  \n",
       "count  21486.000000  21486.000000  21486.000000  21486.000000  \n",
       "mean       2.746740      6.078563     15.740343   2018.730103  \n",
       "std        1.483265      3.496635      8.808749      0.704910  \n",
       "min        0.000000      1.000000      1.000000   2018.000000  \n",
       "25%        1.750000      3.000000      8.000000   2018.000000  \n",
       "50%        2.400000      6.000000     16.000000   2019.000000  \n",
       "75%        3.400000      9.000000     23.000000   2019.000000  \n",
       "max       17.700000     12.000000     31.000000   2020.000000  "
      ]
     },
     "execution_count": 3,
     "metadata": {},
     "output_type": "execute_result"
    }
   ],
   "source": [
    "X.describe()"
   ]
  },
  {
   "cell_type": "code",
   "execution_count": 4,
   "id": "e668a372",
   "metadata": {
    "execution": {
     "iopub.execute_input": "2021-10-13T10:49:12.785290Z",
     "iopub.status.busy": "2021-10-13T10:49:12.784771Z",
     "iopub.status.idle": "2021-10-13T10:49:17.366465Z",
     "shell.execute_reply": "2021-10-13T10:49:17.366927Z",
     "shell.execute_reply.started": "2021-10-13T10:44:12.394192Z"
    },
    "papermill": {
     "duration": 4.601248,
     "end_time": "2021-10-13T10:49:17.367126",
     "exception": false,
     "start_time": "2021-10-13T10:49:12.765878",
     "status": "completed"
    },
    "tags": []
   },
   "outputs": [],
   "source": [
    "import random\n",
    "import torch\n",
    "\n",
    "random.seed(777)\n",
    "torch.manual_seed(777)\n",
    "torch.cuda.manual_seed_all(777)"
   ]
  },
  {
   "cell_type": "code",
   "execution_count": 5,
   "id": "417be1a3",
   "metadata": {
    "execution": {
     "iopub.execute_input": "2021-10-13T10:49:17.404566Z",
     "iopub.status.busy": "2021-10-13T10:49:17.404049Z",
     "iopub.status.idle": "2021-10-13T10:49:17.409326Z",
     "shell.execute_reply": "2021-10-13T10:49:17.408903Z",
     "shell.execute_reply.started": "2021-10-13T10:44:15.806468Z"
    },
    "papermill": {
     "duration": 0.026662,
     "end_time": "2021-10-13T10:49:17.409431",
     "exception": false,
     "start_time": "2021-10-13T10:49:17.382769",
     "status": "completed"
    },
    "tags": []
   },
   "outputs": [
    {
     "data": {
      "text/plain": [
       "Index(['시도명', '읍면동명', '거주인구', '근무인구', '방문인구', '총 유동인구', '평균 속도', '평균 소요 시간',\n",
       "       '평균 기온', '일강수량', '평균 풍속', '월', '일', '년'],\n",
       "      dtype='object')"
      ]
     },
     "execution_count": 5,
     "metadata": {},
     "output_type": "execute_result"
    }
   ],
   "source": [
    "X.columns"
   ]
  },
  {
   "cell_type": "code",
   "execution_count": 6,
   "id": "a3c3308d",
   "metadata": {
    "execution": {
     "iopub.execute_input": "2021-10-13T10:49:17.451159Z",
     "iopub.status.busy": "2021-10-13T10:49:17.449421Z",
     "iopub.status.idle": "2021-10-13T10:49:17.451868Z",
     "shell.execute_reply": "2021-10-13T10:49:17.452304Z",
     "shell.execute_reply.started": "2021-10-13T10:44:16.021848Z"
    },
    "papermill": {
     "duration": 0.0272,
     "end_time": "2021-10-13T10:49:17.452432",
     "exception": false,
     "start_time": "2021-10-13T10:49:17.425232",
     "status": "completed"
    },
    "tags": []
   },
   "outputs": [],
   "source": [
    "drop_cols = ['읍면동명','월', '일', '년']\n",
    "X = X.drop(drop_cols, axis = 1)\n",
    "X_test = X_test.drop(drop_cols, axis = 1)"
   ]
  },
  {
   "cell_type": "code",
   "execution_count": 7,
   "id": "884f0846",
   "metadata": {
    "execution": {
     "iopub.execute_input": "2021-10-13T10:49:17.490055Z",
     "iopub.status.busy": "2021-10-13T10:49:17.489318Z",
     "iopub.status.idle": "2021-10-13T10:49:18.249985Z",
     "shell.execute_reply": "2021-10-13T10:49:18.249397Z",
     "shell.execute_reply.started": "2021-10-13T10:44:17.084337Z"
    },
    "papermill": {
     "duration": 0.781388,
     "end_time": "2021-10-13T10:49:18.250135",
     "exception": false,
     "start_time": "2021-10-13T10:49:17.468747",
     "status": "completed"
    },
    "tags": []
   },
   "outputs": [],
   "source": [
    "from sklearn.model_selection import train_test_split\n",
    "X_train, X_val, y_train, y_val = train_test_split(X, y.squeeze(), shuffle = True, random_state = 777, test_size = 0.3)"
   ]
  },
  {
   "cell_type": "code",
   "execution_count": 8,
   "id": "7a95b93b",
   "metadata": {
    "execution": {
     "iopub.execute_input": "2021-10-13T10:49:18.290688Z",
     "iopub.status.busy": "2021-10-13T10:49:18.289734Z",
     "iopub.status.idle": "2021-10-13T10:49:23.635078Z",
     "shell.execute_reply": "2021-10-13T10:49:23.635772Z",
     "shell.execute_reply.started": "2021-10-13T10:44:17.908317Z"
    },
    "papermill": {
     "duration": 5.36842,
     "end_time": "2021-10-13T10:49:23.635934",
     "exception": false,
     "start_time": "2021-10-13T10:49:18.267514",
     "status": "completed"
    },
    "tags": []
   },
   "outputs": [
    {
     "name": "stdout",
     "output_type": "stream",
     "text": [
      "10\n"
     ]
    }
   ],
   "source": [
    "X_train_tensor = torch.FloatTensor(X_train.to_numpy()).cuda()\n",
    "X_val_tensor = torch.FloatTensor(X_val.to_numpy()).cuda()\n",
    "\n",
    "y_train_tensor = torch.FloatTensor(y_train.to_numpy()).cuda()\n",
    "y_val_tensor = torch.FloatTensor(y_val.to_numpy()).cuda()\n",
    "\n",
    "X_test_tensor = torch.FloatTensor(X_test.to_numpy()).cuda()\n",
    "\n",
    "print(X_train_tensor.shape[1])"
   ]
  },
  {
   "cell_type": "code",
   "execution_count": 9,
   "id": "2c456a8e",
   "metadata": {
    "execution": {
     "iopub.execute_input": "2021-10-13T10:49:23.680863Z",
     "iopub.status.busy": "2021-10-13T10:49:23.680260Z",
     "iopub.status.idle": "2021-10-13T10:49:23.693254Z",
     "shell.execute_reply": "2021-10-13T10:49:23.692847Z",
     "shell.execute_reply.started": "2021-10-13T10:46:06.274407Z"
    },
    "papermill": {
     "duration": 0.040391,
     "end_time": "2021-10-13T10:49:23.693369",
     "exception": false,
     "start_time": "2021-10-13T10:49:23.652978",
     "status": "completed"
    },
    "tags": []
   },
   "outputs": [],
   "source": [
    "in_features = X_train_tensor.shape[1]\n",
    "out_features = 1\n",
    "node = 50\n",
    "\n",
    "linear1 = torch.nn.Linear(in_features, node)\n",
    "linear2 = torch.nn.Linear(node, node)\n",
    "linear3 = torch.nn.Linear(node, node)\n",
    "linear4 = torch.nn.Linear(node, node)\n",
    "linear5 = torch.nn.Linear(node, node)\n",
    "linear6 = torch.nn.Linear(node, node)\n",
    "linear7 = torch.nn.Linear(node, 1)\n",
    "\n",
    "torch.nn.init.xavier_normal_(linear1.weight)\n",
    "torch.nn.init.xavier_normal_(linear2.weight)    \n",
    "torch.nn.init.xavier_normal_(linear3.weight)    \n",
    "torch.nn.init.xavier_normal_(linear4.weight)    \n",
    "torch.nn.init.xavier_normal_(linear5.weight)\n",
    "torch.nn.init.xavier_normal_(linear6.weight)\n",
    "torch.nn.init.xavier_normal_(linear7.weight)\n",
    "\n",
    "relu = torch.nn.ReLU()\n",
    "dropout = torch.nn.Dropout(p = 0.2)\n",
    "\n",
    "model = torch.nn.Sequential(linear1, relu, dropout,\n",
    "                           linear2, relu, dropout,\n",
    "                           linear3, relu, dropout,\n",
    "                           linear4, relu, dropout,\n",
    "                            linear5, relu, dropout,\n",
    "                            linear6, relu, dropout,\n",
    "                           linear7).cuda()"
   ]
  },
  {
   "cell_type": "code",
   "execution_count": 10,
   "id": "5b344395",
   "metadata": {
    "execution": {
     "iopub.execute_input": "2021-10-13T10:49:23.734760Z",
     "iopub.status.busy": "2021-10-13T10:49:23.734138Z",
     "iopub.status.idle": "2021-10-13T10:52:38.874248Z",
     "shell.execute_reply": "2021-10-13T10:52:38.874862Z",
     "shell.execute_reply.started": "2021-10-13T10:46:06.416466Z"
    },
    "papermill": {
     "duration": 195.165052,
     "end_time": "2021-10-13T10:52:38.875078",
     "exception": false,
     "start_time": "2021-10-13T10:49:23.710026",
     "status": "completed"
    },
    "tags": []
   },
   "outputs": [
    {
     "name": "stdout",
     "output_type": "stream",
     "text": [
      "0 56154.16796875 -4631.8761839257\n",
      "5000 508.3101806640625 -0.0212153533\n",
      "10000 458.7123718261719 0.0487556187\n",
      "15000 426.79071044921875 0.0938850924\n",
      "20000 413.60003662109375 0.0645229742\n",
      "25000 408.9442138671875 0.0607600817\n",
      "30000 404.9692077636719 0.0598826521\n",
      "35000 402.6430358886719 0.0715119929\n",
      "40000 395.0987548828125 0.0888417592\n",
      "45000 387.05474853515625 0.1138575672\n",
      "50000 376.8623352050781 0.1660922249\n"
     ]
    }
   ],
   "source": [
    "from sklearn.metrics import r2_score\n",
    "\n",
    "\n",
    "nb_epoch = 50000\n",
    "lr = 0.0001\n",
    "loss = torch.nn.MSELoss().cuda()\n",
    "optimizer = torch.optim.Adam(model.parameters(), lr=lr)\n",
    "# scheduler = torch.optim.lr_scheduler.StepLR(optimizer, step_size=10000, gamma=0.8)\n",
    "# scheduler = torch.optim.lr_scheduler.ReduceLROnPlateau(optimizer, factor = 0.5)\n",
    "\n",
    "model.train()\n",
    "for epoch in range(nb_epoch+1):\n",
    "    hypothesis = model(X_train_tensor)\n",
    "    cost = torch.sqrt(loss(hypothesis, y_train_tensor.unsqueeze(1)))\n",
    "    \n",
    "    optimizer.zero_grad()\n",
    "    cost.backward()\n",
    "    optimizer.step()\n",
    "#     scheduler.step()\n",
    "    \n",
    "    if epoch%5000 == 0 :\n",
    "        model.eval()\n",
    "        acc = r2_score(y_val,model(X_val_tensor).cpu().detach().numpy())\n",
    "        print(epoch, cost.item(), '{:.10f}'.format(acc))\n",
    "        model.train()\n"
   ]
  },
  {
   "cell_type": "code",
   "execution_count": 11,
   "id": "00945a69",
   "metadata": {
    "execution": {
     "iopub.execute_input": "2021-10-13T10:52:38.921585Z",
     "iopub.status.busy": "2021-10-13T10:52:38.921045Z",
     "iopub.status.idle": "2021-10-13T10:52:38.926340Z",
     "shell.execute_reply": "2021-10-13T10:52:38.926797Z",
     "shell.execute_reply.started": "2021-10-13T09:51:51.852835Z"
    },
    "papermill": {
     "duration": 0.031584,
     "end_time": "2021-10-13T10:52:38.926947",
     "exception": false,
     "start_time": "2021-10-13T10:52:38.895363",
     "status": "completed"
    },
    "tags": []
   },
   "outputs": [
    {
     "data": {
      "text/plain": [
       "array([[ 84.78177 ],\n",
       "       [104.79368 ],\n",
       "       [ 39.609943],\n",
       "       ...,\n",
       "       [193.53496 ],\n",
       "       [176.89925 ],\n",
       "       [256.0312  ]], dtype=float32)"
      ]
     },
     "execution_count": 11,
     "metadata": {},
     "output_type": "execute_result"
    }
   ],
   "source": [
    "with torch.no_grad():\n",
    "    model.eval()\n",
    "    y_pred = model(X_test_tensor)\n",
    "    y_pred = y_pred.cpu().detach().numpy()\n",
    "    \n",
    "y_pred"
   ]
  },
  {
   "cell_type": "code",
   "execution_count": 12,
   "id": "9188a2e8",
   "metadata": {
    "execution": {
     "iopub.execute_input": "2021-10-13T10:52:38.971332Z",
     "iopub.status.busy": "2021-10-13T10:52:38.970753Z",
     "iopub.status.idle": "2021-10-13T10:52:39.003997Z",
     "shell.execute_reply": "2021-10-13T10:52:39.003421Z",
     "shell.execute_reply.started": "2021-10-13T08:05:37.669099Z"
    },
    "papermill": {
     "duration": 0.05685,
     "end_time": "2021-10-13T10:52:39.004119",
     "exception": false,
     "start_time": "2021-10-13T10:52:38.947269",
     "status": "completed"
    },
    "tags": []
   },
   "outputs": [],
   "source": [
    "submit['predict'] = y_pred\n",
    "submit.to_csv('submission.csv', mode = 'w', index = False)"
   ]
  },
  {
   "cell_type": "markdown",
   "id": "314555bd",
   "metadata": {
    "papermill": {
     "duration": 0.019286,
     "end_time": "2021-10-13T10:52:39.042155",
     "exception": false,
     "start_time": "2021-10-13T10:52:39.022869",
     "status": "completed"
    },
    "tags": []
   },
   "source": [
    "**********************"
   ]
  },
  {
   "cell_type": "code",
   "execution_count": 13,
   "id": "e058ce6e",
   "metadata": {
    "execution": {
     "iopub.execute_input": "2021-10-13T10:52:39.090407Z",
     "iopub.status.busy": "2021-10-13T10:52:39.089902Z",
     "iopub.status.idle": "2021-10-13T10:52:39.771906Z",
     "shell.execute_reply": "2021-10-13T10:52:39.771293Z",
     "shell.execute_reply.started": "2021-10-13T10:26:07.360149Z"
    },
    "papermill": {
     "duration": 0.710275,
     "end_time": "2021-10-13T10:52:39.772037",
     "exception": false,
     "start_time": "2021-10-13T10:52:39.061762",
     "status": "completed"
    },
    "tags": []
   },
   "outputs": [],
   "source": [
    "from sklearn.preprocessing import MinMaxScaler, StandardScaler\n",
    "\n",
    "X = pd.read_csv(\"/kaggle/input/2021-ai-w7-p2/x_train.csv\",engine='python',encoding='CP949')\n",
    "y = pd.read_csv(\"/kaggle/input/2021-ai-w7-p2/y_train.csv\",engine='python',encoding='CP949')\n",
    "X_test = pd.read_csv(\"/kaggle/input/2021-ai-w7-p2/x_test.csv\",engine='python',encoding='CP949')\n",
    "\n",
    "drop_cols = ['읍면동명','월', '일', '년']\n",
    "X = X.drop(drop_cols, axis = 1)\n",
    "X_test = X_test.drop(drop_cols, axis = 1)\n",
    "\n",
    "sc = StandardScaler()\n",
    "sc.fit(X)\n",
    "\n",
    "from sklearn.model_selection import train_test_split\n",
    "X_train, X_val, y_train, y_val = train_test_split(X, y.squeeze(), shuffle = True, random_state = 777, test_size = 0.3)\n",
    "\n",
    "X_train_sc = torch.FloatTensor(sc.transform(X_train)).cuda()\n",
    "X_val_sc = torch.FloatTensor(sc.transform(X_val)).cuda()\n",
    "X_test_sc = torch.FloatTensor(sc.transform(X_test)).cuda()\n",
    "\n",
    "y_train_tensor = torch.FloatTensor(y_train.to_numpy()).cuda()\n",
    "y_val_tensor = torch.FloatTensor(y_val.to_numpy()).cuda()"
   ]
  },
  {
   "cell_type": "code",
   "execution_count": 14,
   "id": "2fe0f646",
   "metadata": {
    "execution": {
     "iopub.execute_input": "2021-10-13T10:52:39.821737Z",
     "iopub.status.busy": "2021-10-13T10:52:39.816507Z",
     "iopub.status.idle": "2021-10-13T10:52:39.827605Z",
     "shell.execute_reply": "2021-10-13T10:52:39.827987Z",
     "shell.execute_reply.started": "2021-10-13T10:39:32.075605Z"
    },
    "papermill": {
     "duration": 0.035342,
     "end_time": "2021-10-13T10:52:39.828123",
     "exception": false,
     "start_time": "2021-10-13T10:52:39.792781",
     "status": "completed"
    },
    "tags": []
   },
   "outputs": [],
   "source": [
    "in_features = X_train_sc.shape[1]\n",
    "out_features = 1\n",
    "node = 100\n",
    "\n",
    "linear1 = torch.nn.Linear(in_features, node)\n",
    "linear2 = torch.nn.Linear(node, node)\n",
    "linear3 = torch.nn.Linear(node, node)\n",
    "linear4 = torch.nn.Linear(node, node)\n",
    "linear5 = torch.nn.Linear(node, node)\n",
    "linear6 = torch.nn.Linear(node, node)\n",
    "linear7 = torch.nn.Linear(node, 1)\n",
    "\n",
    "torch.nn.init.xavier_normal_(linear1.weight)\n",
    "torch.nn.init.xavier_normal_(linear2.weight)    \n",
    "torch.nn.init.xavier_normal_(linear3.weight)    \n",
    "torch.nn.init.xavier_normal_(linear4.weight)    \n",
    "torch.nn.init.xavier_normal_(linear5.weight)\n",
    "torch.nn.init.xavier_normal_(linear6.weight)\n",
    "torch.nn.init.xavier_normal_(linear7.weight)\n",
    "\n",
    "relu = torch.nn.ReLU()\n",
    "dropout = torch.nn.Dropout(p = 0.3)\n",
    "\n",
    "model = torch.nn.Sequential(linear1, relu, dropout,\n",
    "                           linear2, relu, dropout,\n",
    "                           linear3, relu, dropout,\n",
    "                           linear4, relu, dropout,\n",
    "                            linear5, relu, dropout,\n",
    "                            linear6, relu, dropout,\n",
    "                           linear7).cuda()\n"
   ]
  },
  {
   "cell_type": "code",
   "execution_count": 15,
   "id": "28c0abce",
   "metadata": {
    "execution": {
     "iopub.execute_input": "2021-10-13T10:52:39.878438Z",
     "iopub.status.busy": "2021-10-13T10:52:39.877631Z",
     "iopub.status.idle": "2021-10-13T10:55:54.082175Z",
     "shell.execute_reply": "2021-10-13T10:55:54.082577Z",
     "shell.execute_reply.started": "2021-10-13T10:39:33.873217Z"
    },
    "papermill": {
     "duration": 194.231809,
     "end_time": "2021-10-13T10:55:54.082744",
     "exception": false,
     "start_time": "2021-10-13T10:52:39.850935",
     "status": "completed"
    },
    "tags": []
   },
   "outputs": [
    {
     "name": "stdout",
     "output_type": "stream",
     "text": [
      "0 648.2200927734375 -0.5046156718\n",
      "5000 135.90338134765625 0.9469343520\n",
      "10000 132.45440673828125 0.9503405673\n",
      "15000 125.63963317871094 0.9531490716\n",
      "20000 123.4761962890625 0.9543487333\n",
      "25000 124.51055145263672 0.9548704079\n",
      "30000 121.18698120117188 0.9550659731\n",
      "35000 123.1278305053711 0.9513418518\n",
      "40000 119.39875793457031 0.9518950409\n",
      "45000 120.50129699707031 0.9496180968\n",
      "50000 116.65650177001953 0.9522245420\n"
     ]
    }
   ],
   "source": [
    "from sklearn.metrics import r2_score\n",
    "\n",
    "nb_epoch = 50000\n",
    "# lr = 0.1 # 0.8125922304 깊이5\n",
    "# lr = 0.01 # 0.9002982957 깊이5\n",
    "lr = 0.001 \n",
    "loss = torch.nn.MSELoss().cuda()\n",
    "optimizer = torch.optim.Adam(model.parameters(), lr=lr)\n",
    "# scheduler = torch.optim.lr_scheduler.StepLR(optimizer, step_size=1000, gamma=0.5)\n",
    "\n",
    "model.train()\n",
    "for epoch in range(nb_epoch+1):\n",
    "    hypothesis = model(X_train_sc)\n",
    "    cost = torch.sqrt(loss(hypothesis, y_train_tensor.unsqueeze(1)))\n",
    "    \n",
    "    optimizer.zero_grad()\n",
    "    cost.backward()\n",
    "    optimizer.step()\n",
    "#     scheduler.step()\n",
    "    \n",
    "    if epoch%5000 == 0 :\n",
    "        model.eval()\n",
    "        acc = r2_score(y_val,model(X_val_sc).cpu().detach().numpy())\n",
    "        print(epoch, cost.item(), '{:.10f}'.format(acc))\n",
    "        model.train()\n",
    "    "
   ]
  },
  {
   "cell_type": "code",
   "execution_count": 16,
   "id": "af4496f2",
   "metadata": {
    "execution": {
     "iopub.execute_input": "2021-10-13T10:55:54.131482Z",
     "iopub.status.busy": "2021-10-13T10:55:54.130737Z",
     "iopub.status.idle": "2021-10-13T10:55:54.136775Z",
     "shell.execute_reply": "2021-10-13T10:55:54.136373Z",
     "shell.execute_reply.started": "2021-10-13T10:44:03.886809Z"
    },
    "papermill": {
     "duration": 0.031965,
     "end_time": "2021-10-13T10:55:54.136880",
     "exception": false,
     "start_time": "2021-10-13T10:55:54.104915",
     "status": "completed"
    },
    "tags": []
   },
   "outputs": [
    {
     "data": {
      "text/plain": [
       "array([[ 57.287895],\n",
       "       [ 55.124195],\n",
       "       [ 54.480843],\n",
       "       ...,\n",
       "       [ 54.068478],\n",
       "       [ 54.03348 ],\n",
       "       [751.8519  ]], dtype=float32)"
      ]
     },
     "execution_count": 16,
     "metadata": {},
     "output_type": "execute_result"
    }
   ],
   "source": [
    "with torch.no_grad():\n",
    "    model.eval()\n",
    "    y_pred = model(X_test_sc)\n",
    "    y_pred = y_pred.cpu().detach().numpy()\n",
    "    \n",
    "y_pred"
   ]
  },
  {
   "cell_type": "code",
   "execution_count": 17,
   "id": "fc29c0fc",
   "metadata": {
    "execution": {
     "iopub.execute_input": "2021-10-13T10:55:54.194955Z",
     "iopub.status.busy": "2021-10-13T10:55:54.194234Z",
     "iopub.status.idle": "2021-10-13T10:55:54.222878Z",
     "shell.execute_reply": "2021-10-13T10:55:54.223255Z",
     "shell.execute_reply.started": "2021-10-13T07:13:12.605938Z"
    },
    "papermill": {
     "duration": 0.06356,
     "end_time": "2021-10-13T10:55:54.223379",
     "exception": false,
     "start_time": "2021-10-13T10:55:54.159819",
     "status": "completed"
    },
    "tags": []
   },
   "outputs": [],
   "source": [
    "submit['predict'] = y_pred\n",
    "submit.to_csv('submission_sc.csv', mode = 'w', index = False)"
   ]
  },
  {
   "cell_type": "code",
   "execution_count": null,
   "id": "2611043b",
   "metadata": {
    "papermill": {
     "duration": 0.021747,
     "end_time": "2021-10-13T10:55:54.266994",
     "exception": false,
     "start_time": "2021-10-13T10:55:54.245247",
     "status": "completed"
    },
    "tags": []
   },
   "outputs": [],
   "source": []
  },
  {
   "cell_type": "code",
   "execution_count": null,
   "id": "42824a30",
   "metadata": {
    "papermill": {
     "duration": 0.021849,
     "end_time": "2021-10-13T10:55:54.310759",
     "exception": false,
     "start_time": "2021-10-13T10:55:54.288910",
     "status": "completed"
    },
    "tags": []
   },
   "outputs": [],
   "source": []
  },
  {
   "cell_type": "code",
   "execution_count": null,
   "id": "1357f7be",
   "metadata": {
    "papermill": {
     "duration": 0.022329,
     "end_time": "2021-10-13T10:55:54.356278",
     "exception": false,
     "start_time": "2021-10-13T10:55:54.333949",
     "status": "completed"
    },
    "tags": []
   },
   "outputs": [],
   "source": []
  }
 ],
 "metadata": {
  "kernelspec": {
   "display_name": "Python 3",
   "language": "python",
   "name": "python3"
  },
  "language_info": {
   "codemirror_mode": {
    "name": "ipython",
    "version": 3
   },
   "file_extension": ".py",
   "mimetype": "text/x-python",
   "name": "python",
   "nbconvert_exporter": "python",
   "pygments_lexer": "ipython3",
   "version": "3.7.10"
  },
  "papermill": {
   "default_parameters": {},
   "duration": 410.75271,
   "end_time": "2021-10-13T10:55:56.150440",
   "environment_variables": {},
   "exception": null,
   "input_path": "__notebook__.ipynb",
   "output_path": "__notebook__.ipynb",
   "parameters": {},
   "start_time": "2021-10-13T10:49:05.397730",
   "version": "2.3.3"
  }
 },
 "nbformat": 4,
 "nbformat_minor": 5
}
