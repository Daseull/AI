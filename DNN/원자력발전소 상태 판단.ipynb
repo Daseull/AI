{
 "cells": [
  {
   "cell_type": "code",
   "execution_count": 1,
   "id": "a6f791e9",
   "metadata": {
    "_cell_guid": "b1076dfc-b9ad-4769-8c92-a6c4dae69d19",
    "_uuid": "8f2839f25d086af736a60e9eeb907d3b93b6e0e5",
    "execution": {
     "iopub.execute_input": "2021-10-06T08:51:53.156907Z",
     "iopub.status.busy": "2021-10-06T08:51:53.155388Z",
     "iopub.status.idle": "2021-10-06T08:51:53.237706Z",
     "shell.execute_reply": "2021-10-06T08:51:53.238135Z",
     "shell.execute_reply.started": "2021-10-06T08:00:51.227675Z"
    },
    "papermill": {
     "duration": 0.100004,
     "end_time": "2021-10-06T08:51:53.238386",
     "exception": false,
     "start_time": "2021-10-06T08:51:53.138382",
     "status": "completed"
    },
    "tags": []
   },
   "outputs": [
    {
     "name": "stdout",
     "output_type": "stream",
     "text": [
      "/kaggle/input/2021-ai-w6-p1/sample_submission.csv\n",
      "/kaggle/input/2021-ai-w6-p1/pca_test.csv\n",
      "/kaggle/input/2021-ai-w6-p1/pca_train.csv\n",
      "/kaggle/input/2021-ai-w6-p1/train_label.csv\n"
     ]
    }
   ],
   "source": [
    "# This Python 3 environment comes with many helpful analytics libraries installed\n",
    "# It is defined by the kaggle/python Docker image: https://github.com/kaggle/docker-python\n",
    "# For example, here's several helpful packages to load\n",
    "\n",
    "import numpy as np # linear algebra\n",
    "import pandas as pd # data processing, CSV file I/O (e.g. pd.read_csv)\n",
    "\n",
    "# Input data files are available in the read-only \"../input/\" directory\n",
    "# For example, running this (by clicking run or pressing Shift+Enter) will list all files under the input directory\n",
    "\n",
    "import os\n",
    "for dirname, _, filenames in os.walk('/kaggle/input'):\n",
    "    for filename in filenames:\n",
    "        print(os.path.join(dirname, filename))\n",
    "\n",
    "# You can write up to 20GB to the current directory (/kaggle/working/) that gets preserved as output when you create a version using \"Save & Run All\" \n",
    "# You can also write temporary files to /kaggle/temp/, but they won't be saved outside of the current session"
   ]
  },
  {
   "cell_type": "code",
   "execution_count": 2,
   "id": "ce01e1d8",
   "metadata": {
    "execution": {
     "iopub.execute_input": "2021-10-06T08:51:53.269591Z",
     "iopub.status.busy": "2021-10-06T08:51:53.268949Z",
     "iopub.status.idle": "2021-10-06T08:51:57.800914Z",
     "shell.execute_reply": "2021-10-06T08:51:57.801585Z",
     "shell.execute_reply.started": "2021-10-06T08:15:34.816048Z"
    },
    "papermill": {
     "duration": 4.548937,
     "end_time": "2021-10-06T08:51:57.801733",
     "exception": false,
     "start_time": "2021-10-06T08:51:53.252796",
     "status": "completed"
    },
    "tags": []
   },
   "outputs": [
    {
     "name": "stdout",
     "output_type": "stream",
     "text": [
      "<class 'pandas.core.frame.DataFrame'>\n",
      "RangeIndex: 27671 entries, 0 to 27670\n",
      "Columns: 256 entries, 0 to 255\n",
      "dtypes: float64(256)\n",
      "memory usage: 54.0 MB\n",
      "None\n",
      "\n",
      "<class 'pandas.core.frame.DataFrame'>\n",
      "RangeIndex: 13629 entries, 0 to 13628\n",
      "Columns: 256 entries, 0 to 255\n",
      "dtypes: float64(256)\n",
      "memory usage: 26.6 MB\n",
      "None\n"
     ]
    }
   ],
   "source": [
    "X_train = pd.read_csv(\"/kaggle/input/2021-ai-w6-p1/pca_train.csv\")\n",
    "y_train = pd.read_csv(\"/kaggle/input/2021-ai-w6-p1/train_label.csv\")\n",
    "X_test = pd.read_csv(\"/kaggle/input/2021-ai-w6-p1/pca_test.csv\")\n",
    "submit = pd.read_csv(\"/kaggle/input/2021-ai-w6-p1/sample_submission.csv\")\n",
    "\n",
    "print(X_train.info())\n",
    "print()\n",
    "print(X_test.info())"
   ]
  },
  {
   "cell_type": "code",
   "execution_count": 3,
   "id": "7011c196",
   "metadata": {
    "execution": {
     "iopub.execute_input": "2021-10-06T08:51:57.831689Z",
     "iopub.status.busy": "2021-10-06T08:51:57.830042Z",
     "iopub.status.idle": "2021-10-06T08:51:57.832310Z",
     "shell.execute_reply": "2021-10-06T08:51:57.832698Z",
     "shell.execute_reply.started": "2021-10-06T08:15:40.541854Z"
    },
    "papermill": {
     "duration": 0.018569,
     "end_time": "2021-10-06T08:51:57.832829",
     "exception": false,
     "start_time": "2021-10-06T08:51:57.814260",
     "status": "completed"
    },
    "tags": []
   },
   "outputs": [],
   "source": [
    "# from sklearn.preprocessing import StandardScaler\n",
    "# sc = StandardScaler()\n",
    "# X_train = sc.fit_transform(X_train)\n",
    "# X_test = sc.transform(X_test)"
   ]
  },
  {
   "cell_type": "code",
   "execution_count": 4,
   "id": "976eb226",
   "metadata": {
    "execution": {
     "iopub.execute_input": "2021-10-06T08:51:57.866500Z",
     "iopub.status.busy": "2021-10-06T08:51:57.865869Z",
     "iopub.status.idle": "2021-10-06T08:51:57.869217Z",
     "shell.execute_reply": "2021-10-06T08:51:57.869611Z",
     "shell.execute_reply.started": "2021-10-06T08:15:40.981641Z"
    },
    "papermill": {
     "duration": 0.024536,
     "end_time": "2021-10-06T08:51:57.869723",
     "exception": false,
     "start_time": "2021-10-06T08:51:57.845187",
     "status": "completed"
    },
    "tags": []
   },
   "outputs": [
    {
     "data": {
      "text/plain": [
       "0        136\n",
       "1         90\n",
       "2        112\n",
       "3        165\n",
       "4         73\n",
       "        ... \n",
       "27666      9\n",
       "27667    132\n",
       "27668     18\n",
       "27669     41\n",
       "27670    114\n",
       "Name: label, Length: 27671, dtype: int64"
      ]
     },
     "execution_count": 4,
     "metadata": {},
     "output_type": "execute_result"
    }
   ],
   "source": [
    "y_train = y_train['label']\n",
    "y_train #multi-class classification"
   ]
  },
  {
   "cell_type": "code",
   "execution_count": 5,
   "id": "10aea30b",
   "metadata": {
    "execution": {
     "iopub.execute_input": "2021-10-06T08:51:57.898927Z",
     "iopub.status.busy": "2021-10-06T08:51:57.898219Z",
     "iopub.status.idle": "2021-10-06T08:52:02.121944Z",
     "shell.execute_reply": "2021-10-06T08:52:02.121467Z",
     "shell.execute_reply.started": "2021-10-06T08:15:44.614166Z"
    },
    "papermill": {
     "duration": 4.239681,
     "end_time": "2021-10-06T08:52:02.122079",
     "exception": false,
     "start_time": "2021-10-06T08:51:57.882398",
     "status": "completed"
    },
    "tags": []
   },
   "outputs": [
    {
     "data": {
      "text/plain": [
       "<torch._C.Generator at 0x7f0c15c053d0>"
      ]
     },
     "execution_count": 5,
     "metadata": {},
     "output_type": "execute_result"
    }
   ],
   "source": [
    "import torch\n",
    "torch.manual_seed(1)"
   ]
  },
  {
   "cell_type": "code",
   "execution_count": 6,
   "id": "508ae172",
   "metadata": {
    "execution": {
     "iopub.execute_input": "2021-10-06T08:52:02.158117Z",
     "iopub.status.busy": "2021-10-06T08:52:02.157549Z",
     "iopub.status.idle": "2021-10-06T08:52:02.194522Z",
     "shell.execute_reply": "2021-10-06T08:52:02.194937Z",
     "shell.execute_reply.started": "2021-10-06T08:15:57.338852Z"
    },
    "papermill": {
     "duration": 0.059331,
     "end_time": "2021-10-06T08:52:02.195105",
     "exception": false,
     "start_time": "2021-10-06T08:52:02.135774",
     "status": "completed"
    },
    "tags": []
   },
   "outputs": [],
   "source": [
    "X_train_tensor = torch.FloatTensor(X_train.to_numpy())\n",
    "X_test_tensor = torch.FloatTensor(X_test.to_numpy())\n",
    "y_train_tensor = torch.LongTensor(y_train)"
   ]
  },
  {
   "cell_type": "code",
   "execution_count": 7,
   "id": "ad1080be",
   "metadata": {
    "execution": {
     "iopub.execute_input": "2021-10-06T08:52:02.226945Z",
     "iopub.status.busy": "2021-10-06T08:52:02.226201Z",
     "iopub.status.idle": "2021-10-06T08:52:02.228136Z",
     "shell.execute_reply": "2021-10-06T08:52:02.228571Z",
     "shell.execute_reply.started": "2021-10-06T08:15:59.258508Z"
    },
    "papermill": {
     "duration": 0.02019,
     "end_time": "2021-10-06T08:52:02.228686",
     "exception": false,
     "start_time": "2021-10-06T08:52:02.208496",
     "status": "completed"
    },
    "tags": []
   },
   "outputs": [],
   "source": [
    "#y_train_tensor =  y_train_tensor.unsqueeze(dim = 1)"
   ]
  },
  {
   "cell_type": "markdown",
   "id": "d108bfa6",
   "metadata": {
    "papermill": {
     "duration": 0.012758,
     "end_time": "2021-10-06T08:52:02.254475",
     "exception": false,
     "start_time": "2021-10-06T08:52:02.241717",
     "status": "completed"
    },
    "tags": []
   },
   "source": [
    "MLP \n",
    "\n",
    "layer1 = ( linear, sigmoid )  \n",
    "layer2 = ( linear, sigmoid )  \n",
    "\n",
    "BCELoss"
   ]
  },
  {
   "cell_type": "code",
   "execution_count": 8,
   "id": "fddd3731",
   "metadata": {
    "execution": {
     "iopub.execute_input": "2021-10-06T08:52:02.284546Z",
     "iopub.status.busy": "2021-10-06T08:52:02.283747Z",
     "iopub.status.idle": "2021-10-06T08:52:02.296157Z",
     "shell.execute_reply": "2021-10-06T08:52:02.295596Z",
     "shell.execute_reply.started": "2021-10-06T08:15:59.910215Z"
    },
    "papermill": {
     "duration": 0.028914,
     "end_time": "2021-10-06T08:52:02.296302",
     "exception": false,
     "start_time": "2021-10-06T08:52:02.267388",
     "status": "completed"
    },
    "tags": []
   },
   "outputs": [
    {
     "name": "stdout",
     "output_type": "stream",
     "text": [
      "198\n",
      "0 197\n"
     ]
    }
   ],
   "source": [
    "print(y_train.nunique())\n",
    "print(min(y_train),max(y_train))"
   ]
  },
  {
   "cell_type": "code",
   "execution_count": 9,
   "id": "fd9481fb",
   "metadata": {
    "execution": {
     "iopub.execute_input": "2021-10-06T08:52:02.329241Z",
     "iopub.status.busy": "2021-10-06T08:52:02.328705Z",
     "iopub.status.idle": "2021-10-06T08:52:02.336001Z",
     "shell.execute_reply": "2021-10-06T08:52:02.336473Z",
     "shell.execute_reply.started": "2021-10-06T08:46:28.849099Z"
    },
    "papermill": {
     "duration": 0.026192,
     "end_time": "2021-10-06T08:52:02.336584",
     "exception": false,
     "start_time": "2021-10-06T08:52:02.310392",
     "status": "completed"
    },
    "tags": []
   },
   "outputs": [
    {
     "data": {
      "text/plain": [
       "Sequential(\n",
       "  (0): Linear(in_features=256, out_features=198, bias=True)\n",
       "  (1): Sigmoid()\n",
       "  (2): Linear(in_features=198, out_features=198, bias=True)\n",
       ")"
      ]
     },
     "execution_count": 9,
     "metadata": {},
     "output_type": "execute_result"
    }
   ],
   "source": [
    "linear1 = torch.nn.Linear(256, 198, bias = True)\n",
    "linear2 = torch.nn.Linear(198, 198, bias = True)\n",
    "sigmoid = torch.nn.Sigmoid()\n",
    "softmax = torch.nn.Softmax()\n",
    "\n",
    "model = torch.nn.Sequential(linear1,sigmoid, linear2)\n",
    "model"
   ]
  },
  {
   "cell_type": "code",
   "execution_count": 10,
   "id": "eb1530d2",
   "metadata": {
    "execution": {
     "iopub.execute_input": "2021-10-06T08:52:02.405800Z",
     "iopub.status.busy": "2021-10-06T08:52:02.367557Z",
     "iopub.status.idle": "2021-10-06T08:52:02.410088Z",
     "shell.execute_reply": "2021-10-06T08:52:02.410605Z",
     "shell.execute_reply.started": "2021-10-06T08:40:01.496973Z"
    },
    "papermill": {
     "duration": 0.060824,
     "end_time": "2021-10-06T08:52:02.410795",
     "exception": false,
     "start_time": "2021-10-06T08:52:02.349971",
     "status": "completed"
    },
    "tags": []
   },
   "outputs": [
    {
     "name": "stdout",
     "output_type": "stream",
     "text": [
      "True\n"
     ]
    }
   ],
   "source": [
    "import torch.cuda\n",
    "print(torch.cuda.is_available())\n",
    "torch.cuda.manual_seed(1)"
   ]
  },
  {
   "cell_type": "code",
   "execution_count": 11,
   "id": "da9b6d5e",
   "metadata": {
    "execution": {
     "iopub.execute_input": "2021-10-06T08:52:02.445807Z",
     "iopub.status.busy": "2021-10-06T08:52:02.445271Z",
     "iopub.status.idle": "2021-10-06T08:52:07.791498Z",
     "shell.execute_reply": "2021-10-06T08:52:07.790573Z",
     "shell.execute_reply.started": "2021-10-06T08:46:48.805642Z"
    },
    "papermill": {
     "duration": 5.365819,
     "end_time": "2021-10-06T08:52:07.791639",
     "exception": false,
     "start_time": "2021-10-06T08:52:02.425820",
     "status": "completed"
    },
    "tags": []
   },
   "outputs": [],
   "source": [
    "model = model.cuda()\n",
    "X_train_tensor = X_train_tensor.cuda()\n",
    "y_train_tensor = y_train_tensor.cuda()\n",
    "X_test_tensor = X_test_tensor.cuda()"
   ]
  },
  {
   "cell_type": "code",
   "execution_count": 12,
   "id": "c86f20a1",
   "metadata": {
    "execution": {
     "iopub.execute_input": "2021-10-06T08:52:07.826017Z",
     "iopub.status.busy": "2021-10-06T08:52:07.825357Z",
     "iopub.status.idle": "2021-10-06T08:54:56.898062Z",
     "shell.execute_reply": "2021-10-06T08:54:56.898730Z",
     "shell.execute_reply.started": "2021-10-06T08:47:25.508439Z"
    },
    "papermill": {
     "duration": 169.092959,
     "end_time": "2021-10-06T08:54:56.898916",
     "exception": false,
     "start_time": "2021-10-06T08:52:07.805957",
     "status": "completed"
    },
    "tags": []
   },
   "outputs": [
    {
     "name": "stdout",
     "output_type": "stream",
     "text": [
      "0 5.262105464935303\n",
      "100 2.172497510910034\n",
      "200 1.8501241207122803\n",
      "300 1.6932770013809204\n",
      "400 1.585477352142334\n",
      "500 1.5030401945114136\n",
      "600 1.4389556646347046\n",
      "700 1.3879789113998413\n",
      "800 1.3457356691360474\n",
      "900 1.3089444637298584\n",
      "1000 1.2761682271957397\n",
      "1100 1.246360421180725\n",
      "1200 1.219282865524292\n",
      "1300 1.1916162967681885\n",
      "1400 1.1683694124221802\n",
      "1500 1.1420538425445557\n",
      "1600 1.118309736251831\n",
      "1700 1.095337152481079\n",
      "1800 1.0739322900772095\n",
      "1900 1.051304817199707\n",
      "2000 1.0310088396072388\n",
      "2100 1.0089915990829468\n",
      "2200 0.9886084198951721\n",
      "2300 0.9679529666900635\n",
      "2400 0.9489558339118958\n",
      "2500 0.9286154508590698\n",
      "2600 0.9095911979675293\n",
      "2700 0.8903147578239441\n",
      "2800 0.870862603187561\n",
      "2900 0.8515928983688354\n",
      "3000 0.8337413668632507\n",
      "3100 0.8141075968742371\n",
      "3200 0.7960132956504822\n",
      "3300 0.7778853178024292\n",
      "3400 0.7609539031982422\n",
      "3500 0.7424060702323914\n",
      "3600 0.7261215448379517\n",
      "3700 0.7078554034233093\n",
      "3800 0.6919588446617126\n",
      "3900 0.6742191314697266\n",
      "4000 0.6588839888572693\n",
      "4100 0.641558825969696\n",
      "4200 0.6268366575241089\n",
      "4300 0.6099554300308228\n",
      "4400 0.5957459807395935\n",
      "4500 0.5794087052345276\n",
      "4600 0.5657671689987183\n",
      "4700 0.5499282479286194\n",
      "4800 0.5369906425476074\n",
      "4900 0.5215070247650146\n",
      "5000 0.5097283124923706\n",
      "5100 0.49432265758514404\n",
      "5200 0.4831695258617401\n",
      "5300 0.4682890772819519\n",
      "5400 0.45776888728141785\n",
      "5500 0.44342324137687683\n",
      "5600 0.4335033595561981\n",
      "5700 0.4197113811969757\n",
      "5800 0.41037803888320923\n",
      "5900 0.39713287353515625\n",
      "6000 0.38844048976898193\n",
      "6100 0.37566813826560974\n",
      "6200 0.36767324805259705\n",
      "6300 0.35528862476348877\n",
      "6400 0.3479735553264618\n",
      "6500 0.33599117398262024\n",
      "6600 0.3292827010154724\n",
      "6700 0.3177494704723358\n",
      "6800 0.3115713894367218\n",
      "6900 0.30053526163101196\n",
      "7000 0.29479002952575684\n",
      "7100 0.2843165993690491\n",
      "7200 0.2782091498374939\n",
      "7300 0.2690717875957489\n",
      "7400 0.2640778124332428\n",
      "7500 0.2575487494468689\n",
      "7600 0.24812108278274536\n",
      "7700 0.2413988560438156\n",
      "7800 0.23512263596057892\n",
      "7900 0.2307869791984558\n",
      "8000 0.2227402776479721\n",
      "8100 0.2173985242843628\n",
      "8200 0.2118159681558609\n",
      "8300 0.2058870494365692\n",
      "8400 0.20030702650547028\n",
      "8500 0.1956414133310318\n",
      "8600 0.19186779856681824\n",
      "8700 0.18744568526744843\n",
      "8800 0.18070830404758453\n",
      "8900 0.1761752814054489\n",
      "9000 0.17411178350448608\n",
      "9100 0.1702253669500351\n",
      "9200 0.1631080061197281\n",
      "9300 0.16158975660800934\n",
      "9400 0.15536381304264069\n",
      "9500 0.15402662754058838\n",
      "9600 0.14824572205543518\n",
      "9700 0.14528532326221466\n",
      "9800 0.1416059285402298\n",
      "9900 0.13850681483745575\n",
      "10000 0.13498005270957947\n",
      "10100 0.1328040063381195\n",
      "10200 0.13016951084136963\n",
      "10300 0.12690040469169617\n",
      "10400 0.12536554038524628\n",
      "10500 0.12239282578229904\n",
      "10600 0.12197722494602203\n",
      "10700 0.11740760505199432\n",
      "10800 0.11358347535133362\n",
      "10900 0.11214932054281235\n",
      "11000 0.11196880042552948\n",
      "11100 0.10810380429029465\n",
      "11200 0.10453109443187714\n",
      "11300 0.10407450795173645\n",
      "11400 0.10036960989236832\n",
      "11500 0.09891198575496674\n",
      "11600 0.09733384847640991\n",
      "11700 0.09638169407844543\n",
      "11800 0.0935717523097992\n",
      "11900 0.09193258732557297\n",
      "12000 0.09036655724048615\n",
      "12100 0.08817270398139954\n",
      "12200 0.08711167424917221\n",
      "12300 0.08571285754442215\n",
      "12400 0.08741231262683868\n",
      "12500 0.08539527654647827\n",
      "12600 0.08308973163366318\n",
      "12700 0.08320555090904236\n",
      "12800 0.07855575531721115\n",
      "12900 0.07896865159273148\n",
      "13000 0.07656808197498322\n",
      "13100 0.07636108994483948\n",
      "13200 0.07442164421081543\n",
      "13300 0.07538428902626038\n",
      "13400 0.07190444320440292\n",
      "13500 0.07099620252847672\n",
      "13600 0.06997863948345184\n",
      "13700 0.06923817098140717\n",
      "13800 0.06986060738563538\n",
      "13900 0.06825382262468338\n",
      "14000 0.0677390769124031\n",
      "14100 0.06599067896604538\n",
      "14200 0.06445645540952682\n",
      "14300 0.06676710397005081\n",
      "14400 0.06249579042196274\n",
      "14500 0.06544740498065948\n",
      "14600 0.062204089015722275\n",
      "14700 0.0626538023352623\n",
      "14800 0.05932408943772316\n",
      "14900 0.059695832431316376\n",
      "15000 0.05755889415740967\n",
      "15100 0.060570474714040756\n",
      "15200 0.05699128657579422\n",
      "15300 0.06056379899382591\n",
      "15400 0.05846618860960007\n",
      "15500 0.055787354707717896\n",
      "15600 0.056833185255527496\n",
      "15700 0.054035305976867676\n",
      "15800 0.05326305702328682\n",
      "15900 0.05285215750336647\n",
      "16000 0.05123494938015938\n",
      "16100 0.05200701206922531\n",
      "16200 0.050697505474090576\n",
      "16300 0.05188433453440666\n",
      "16400 0.05089031904935837\n",
      "16500 0.052134398370981216\n",
      "16600 0.04846223443746567\n",
      "16700 0.04909076914191246\n",
      "16800 0.04892505705356598\n",
      "16900 0.047319941222667694\n",
      "17000 0.05005050078034401\n",
      "17100 0.04704315587878227\n",
      "17200 0.046396106481552124\n",
      "17300 0.04903627932071686\n",
      "17400 0.04867033660411835\n",
      "17500 0.04613722115755081\n",
      "17600 0.04491289705038071\n",
      "17700 0.042732708156108856\n",
      "17800 0.043351911008358\n",
      "17900 0.04223936051130295\n",
      "18000 0.0444323793053627\n",
      "18100 0.043427590280771255\n",
      "18200 0.04200492054224014\n",
      "18300 0.041934140026569366\n",
      "18400 0.04348082095384598\n",
      "18500 0.04210871085524559\n",
      "18600 0.039696186780929565\n",
      "18700 0.04203429073095322\n",
      "18800 0.0391659289598465\n",
      "18900 0.03880496695637703\n",
      "19000 0.04254461079835892\n",
      "19100 0.041768211871385574\n",
      "19200 0.040383704006671906\n",
      "19300 0.03910212218761444\n",
      "19400 0.038303449749946594\n",
      "19500 0.03886521980166435\n",
      "19600 0.038625311106443405\n",
      "19700 0.03716371953487396\n",
      "19800 0.03788775950670242\n",
      "19900 0.03919422999024391\n",
      "20000 0.035399001091718674\n",
      "20100 0.03583202138543129\n",
      "20200 0.036139845848083496\n",
      "20300 0.035613734275102615\n",
      "20400 0.03522304445505142\n",
      "20500 0.035954445600509644\n",
      "20600 0.03479127958416939\n",
      "20700 0.03481948748230934\n",
      "20800 0.03393873572349548\n",
      "20900 0.033961765468120575\n",
      "21000 0.03397471457719803\n",
      "21100 0.035449668765068054\n",
      "21200 0.03309483081102371\n",
      "21300 0.035285819321870804\n",
      "21400 0.033065564930438995\n",
      "21500 0.033758413046598434\n",
      "21600 0.033271875232458115\n",
      "21700 0.031734008342027664\n",
      "21800 0.03271014243364334\n",
      "21900 0.03353976458311081\n",
      "22000 0.030500205233693123\n",
      "22100 0.03352309763431549\n",
      "22200 0.03293343260884285\n",
      "22300 0.032956562936306\n",
      "22400 0.03277283161878586\n",
      "22500 0.030009213835000992\n",
      "22600 0.03382035717368126\n",
      "22700 0.028935203328728676\n",
      "22800 0.03185415640473366\n",
      "22900 0.028257446363568306\n",
      "23000 0.030938517302274704\n",
      "23100 0.02984546311199665\n",
      "23200 0.030970009043812752\n",
      "23300 0.0324050597846508\n",
      "23400 0.028789697214961052\n",
      "23500 0.02997477538883686\n",
      "23600 0.030829858034849167\n",
      "23700 0.026477571576833725\n",
      "23800 0.027124794200062752\n",
      "23900 0.02703182026743889\n",
      "24000 0.027070051059126854\n",
      "24100 0.027829740196466446\n",
      "24200 0.026698647066950798\n",
      "24300 0.03176191449165344\n",
      "24400 0.02646268717944622\n",
      "24500 0.033682793378829956\n",
      "24600 0.0254381000995636\n",
      "24700 0.028964286670088768\n",
      "24800 0.028282510116696358\n",
      "24900 0.026394426822662354\n",
      "25000 0.028865426778793335\n",
      "25100 0.025688951835036278\n",
      "25200 0.02601640298962593\n",
      "25300 0.028803838416934013\n",
      "25400 0.025807475671172142\n",
      "25500 0.026099422946572304\n",
      "25600 0.02392597682774067\n",
      "25700 0.031183788552880287\n",
      "25800 0.02355697937309742\n",
      "25900 0.02772168256342411\n",
      "26000 0.023108910769224167\n",
      "26100 0.027099234983325005\n",
      "26200 0.029532620683312416\n",
      "26300 0.028552623465657234\n",
      "26400 0.0242827907204628\n",
      "26500 0.022943155840039253\n",
      "26600 0.02527500130236149\n",
      "26700 0.024714499711990356\n",
      "26800 0.02886914648115635\n",
      "26900 0.02359703928232193\n",
      "27000 0.026971202343702316\n",
      "27100 0.02370688132941723\n",
      "27200 0.028320519253611565\n",
      "27300 0.028778759762644768\n",
      "27400 0.023709245026111603\n",
      "27500 0.021536629647016525\n",
      "27600 0.021221227943897247\n",
      "27700 0.021279262378811836\n",
      "27800 0.020826591178774834\n",
      "27900 0.02416050247848034\n",
      "28000 0.029973546043038368\n",
      "28100 0.022162551060318947\n",
      "28200 0.022038744762539864\n",
      "28300 0.025702068582177162\n",
      "28400 0.020948372781276703\n",
      "28500 0.02094082348048687\n",
      "28600 0.024135924875736237\n",
      "28700 0.02334815263748169\n",
      "28800 0.022204115986824036\n",
      "28900 0.022696837782859802\n",
      "29000 0.019861619919538498\n",
      "29100 0.019755497574806213\n",
      "29200 0.0193316750228405\n",
      "29300 0.019573094323277473\n",
      "29400 0.02561802789568901\n",
      "29500 0.028290128335356712\n",
      "29600 0.023160085082054138\n",
      "29700 0.021207673475146294\n",
      "29800 0.023969780653715134\n",
      "29900 0.021260904148221016\n",
      "30000 0.018567869439721107\n"
     ]
    }
   ],
   "source": [
    "optimizer = torch.optim.SGD(model.parameters(), lr = 1)\n",
    "\n",
    "nb_epochs = 30000\n",
    "for epoch in range(nb_epochs + 1):\n",
    "    hypothesis = model(X_train_tensor)\n",
    "    cost = torch.nn.functional.cross_entropy(hypothesis, y_train_tensor)\n",
    "    \n",
    "    optimizer.zero_grad()\n",
    "    cost.backward()\n",
    "    optimizer.step()\n",
    "    \n",
    "    if(epoch%100==0):\n",
    "        print(epoch, cost.item())"
   ]
  },
  {
   "cell_type": "code",
   "execution_count": 13,
   "id": "36248317",
   "metadata": {
    "execution": {
     "iopub.execute_input": "2021-10-06T08:54:57.087910Z",
     "iopub.status.busy": "2021-10-06T08:54:57.087067Z",
     "iopub.status.idle": "2021-10-06T08:54:57.106878Z",
     "shell.execute_reply": "2021-10-06T08:54:57.106384Z",
     "shell.execute_reply.started": "2021-10-06T08:50:34.910193Z"
    },
    "papermill": {
     "duration": 0.115917,
     "end_time": "2021-10-06T08:54:57.107005",
     "exception": false,
     "start_time": "2021-10-06T08:54:56.991088",
     "status": "completed"
    },
    "tags": []
   },
   "outputs": [
    {
     "data": {
      "text/html": [
       "<div>\n",
       "<style scoped>\n",
       "    .dataframe tbody tr th:only-of-type {\n",
       "        vertical-align: middle;\n",
       "    }\n",
       "\n",
       "    .dataframe tbody tr th {\n",
       "        vertical-align: top;\n",
       "    }\n",
       "\n",
       "    .dataframe thead th {\n",
       "        text-align: right;\n",
       "    }\n",
       "</style>\n",
       "<table border=\"1\" class=\"dataframe\">\n",
       "  <thead>\n",
       "    <tr style=\"text-align: right;\">\n",
       "      <th></th>\n",
       "      <th>id</th>\n",
       "      <th>label</th>\n",
       "    </tr>\n",
       "  </thead>\n",
       "  <tbody>\n",
       "    <tr>\n",
       "      <th>0</th>\n",
       "      <td>0</td>\n",
       "      <td>113</td>\n",
       "    </tr>\n",
       "    <tr>\n",
       "      <th>1</th>\n",
       "      <td>1</td>\n",
       "      <td>9</td>\n",
       "    </tr>\n",
       "    <tr>\n",
       "      <th>2</th>\n",
       "      <td>2</td>\n",
       "      <td>68</td>\n",
       "    </tr>\n",
       "    <tr>\n",
       "      <th>3</th>\n",
       "      <td>3</td>\n",
       "      <td>28</td>\n",
       "    </tr>\n",
       "    <tr>\n",
       "      <th>4</th>\n",
       "      <td>4</td>\n",
       "      <td>121</td>\n",
       "    </tr>\n",
       "    <tr>\n",
       "      <th>...</th>\n",
       "      <td>...</td>\n",
       "      <td>...</td>\n",
       "    </tr>\n",
       "    <tr>\n",
       "      <th>13624</th>\n",
       "      <td>13624</td>\n",
       "      <td>77</td>\n",
       "    </tr>\n",
       "    <tr>\n",
       "      <th>13625</th>\n",
       "      <td>13625</td>\n",
       "      <td>69</td>\n",
       "    </tr>\n",
       "    <tr>\n",
       "      <th>13626</th>\n",
       "      <td>13626</td>\n",
       "      <td>23</td>\n",
       "    </tr>\n",
       "    <tr>\n",
       "      <th>13627</th>\n",
       "      <td>13627</td>\n",
       "      <td>68</td>\n",
       "    </tr>\n",
       "    <tr>\n",
       "      <th>13628</th>\n",
       "      <td>13628</td>\n",
       "      <td>117</td>\n",
       "    </tr>\n",
       "  </tbody>\n",
       "</table>\n",
       "<p>13629 rows × 2 columns</p>\n",
       "</div>"
      ],
      "text/plain": [
       "          id  label\n",
       "0          0    113\n",
       "1          1      9\n",
       "2          2     68\n",
       "3          3     28\n",
       "4          4    121\n",
       "...      ...    ...\n",
       "13624  13624     77\n",
       "13625  13625     69\n",
       "13626  13626     23\n",
       "13627  13627     68\n",
       "13628  13628    117\n",
       "\n",
       "[13629 rows x 2 columns]"
      ]
     },
     "execution_count": 13,
     "metadata": {},
     "output_type": "execute_result"
    }
   ],
   "source": [
    "with torch.no_grad():\n",
    "    hypothesis = model(X_test_tensor)\n",
    "    y_pred = torch.argmax(hypothesis, dim = 1)\n",
    "    submit['label'] = y_pred.cpu().detach().numpy()\n",
    "    \n",
    "submit"
   ]
  },
  {
   "cell_type": "code",
   "execution_count": 14,
   "id": "55c49c10",
   "metadata": {
    "execution": {
     "iopub.execute_input": "2021-10-06T08:54:57.288665Z",
     "iopub.status.busy": "2021-10-06T08:54:57.287916Z",
     "iopub.status.idle": "2021-10-06T08:54:57.313666Z",
     "shell.execute_reply": "2021-10-06T08:54:57.313274Z",
     "shell.execute_reply.started": "2021-10-06T08:50:38.205865Z"
    },
    "papermill": {
     "duration": 0.118278,
     "end_time": "2021-10-06T08:54:57.313812",
     "exception": false,
     "start_time": "2021-10-06T08:54:57.195534",
     "status": "completed"
    },
    "tags": []
   },
   "outputs": [],
   "source": [
    "submit.to_csv('submission.csv', mode = 'w', index = False)"
   ]
  },
  {
   "cell_type": "code",
   "execution_count": null,
   "id": "d0cae475",
   "metadata": {
    "papermill": {
     "duration": 0.089725,
     "end_time": "2021-10-06T08:54:57.492607",
     "exception": false,
     "start_time": "2021-10-06T08:54:57.402882",
     "status": "completed"
    },
    "tags": []
   },
   "outputs": [],
   "source": []
  },
  {
   "cell_type": "code",
   "execution_count": null,
   "id": "0942e8bf",
   "metadata": {
    "papermill": {
     "duration": 0.096721,
     "end_time": "2021-10-06T08:54:57.690384",
     "exception": false,
     "start_time": "2021-10-06T08:54:57.593663",
     "status": "completed"
    },
    "tags": []
   },
   "outputs": [],
   "source": []
  },
  {
   "cell_type": "code",
   "execution_count": null,
   "id": "d4d4507a",
   "metadata": {
    "papermill": {
     "duration": 0.090122,
     "end_time": "2021-10-06T08:54:57.871445",
     "exception": false,
     "start_time": "2021-10-06T08:54:57.781323",
     "status": "completed"
    },
    "tags": []
   },
   "outputs": [],
   "source": []
  }
 ],
 "metadata": {
  "kernelspec": {
   "display_name": "Python 3",
   "language": "python",
   "name": "python3"
  },
  "language_info": {
   "codemirror_mode": {
    "name": "ipython",
    "version": 3
   },
   "file_extension": ".py",
   "mimetype": "text/x-python",
   "name": "python",
   "nbconvert_exporter": "python",
   "pygments_lexer": "ipython3",
   "version": "3.7.10"
  },
  "papermill": {
   "default_parameters": {},
   "duration": 192.615368,
   "end_time": "2021-10-06T08:54:59.539559",
   "environment_variables": {},
   "exception": null,
   "input_path": "__notebook__.ipynb",
   "output_path": "__notebook__.ipynb",
   "parameters": {},
   "start_time": "2021-10-06T08:51:46.924191",
   "version": "2.3.3"
  }
 },
 "nbformat": 4,
 "nbformat_minor": 5
}
