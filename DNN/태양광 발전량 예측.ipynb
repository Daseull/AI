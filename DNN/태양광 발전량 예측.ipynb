{
 "cells": [
  {
   "cell_type": "code",
   "execution_count": 1,
   "id": "f3b03882",
   "metadata": {
    "_cell_guid": "b1076dfc-b9ad-4769-8c92-a6c4dae69d19",
    "_uuid": "8f2839f25d086af736a60e9eeb907d3b93b6e0e5",
    "execution": {
     "iopub.execute_input": "2021-10-09T03:19:54.320167Z",
     "iopub.status.busy": "2021-10-09T03:19:54.318708Z",
     "iopub.status.idle": "2021-10-09T03:19:54.338408Z",
     "shell.execute_reply": "2021-10-09T03:19:54.341374Z",
     "shell.execute_reply.started": "2021-10-09T02:44:41.576204Z"
    },
    "papermill": {
     "duration": 0.157797,
     "end_time": "2021-10-09T03:19:54.342272",
     "exception": false,
     "start_time": "2021-10-09T03:19:54.184475",
     "status": "completed"
    },
    "tags": []
   },
   "outputs": [
    {
     "name": "stdout",
     "output_type": "stream",
     "text": [
      "/kaggle/input/2021-ai-w6-p2/X_test.csv\n",
      "/kaggle/input/2021-ai-w6-p2/train.csv\n",
      "/kaggle/input/2021-ai-w6-p2/sample_submit.csv\n"
     ]
    }
   ],
   "source": [
    "# This Python 3 environment comes with many helpful analytics libraries installed\n",
    "# It is defined by the kaggle/python Docker image: https://github.com/kaggle/docker-python\n",
    "# For example, here's several helpful packages to load\n",
    "\n",
    "import numpy as np # linear algebra\n",
    "import pandas as pd # data processing, CSV file I/O (e.g. pd.read_csv)\n",
    "\n",
    "# Input data files are available in the read-only \"../input/\" directory\n",
    "# For example, running this (by clicking run or pressing Shift+Enter) will list all files under the input directory\n",
    "\n",
    "import os\n",
    "for dirname, _, filenames in os.walk('/kaggle/input'):\n",
    "    for filename in filenames:\n",
    "        print(os.path.join(dirname, filename))\n",
    "\n",
    "# You can write up to 20GB to the current directory (/kaggle/working/) that gets preserved as output when you create a version using \"Save & Run All\" \n",
    "# You can also write temporary files to /kaggle/temp/, but they won't be saved outside of the current session"
   ]
  },
  {
   "cell_type": "code",
   "execution_count": 2,
   "id": "70b6a20e",
   "metadata": {
    "execution": {
     "iopub.execute_input": "2021-10-09T03:19:54.387595Z",
     "iopub.status.busy": "2021-10-09T03:19:54.386875Z",
     "iopub.status.idle": "2021-10-09T03:19:54.471699Z",
     "shell.execute_reply": "2021-10-09T03:19:54.472634Z",
     "shell.execute_reply.started": "2021-10-09T02:44:41.676984Z"
    },
    "papermill": {
     "duration": 0.108778,
     "end_time": "2021-10-09T03:19:54.472870",
     "exception": false,
     "start_time": "2021-10-09T03:19:54.364092",
     "status": "completed"
    },
    "tags": []
   },
   "outputs": [
    {
     "name": "stdout",
     "output_type": "stream",
     "text": [
      "<class 'pandas.core.frame.DataFrame'>\n",
      "RangeIndex: 9999 entries, 0 to 9998\n",
      "Data columns (total 9 columns):\n",
      " #   Column  Non-Null Count  Dtype  \n",
      "---  ------  --------------  -----  \n",
      " 0   Day     9999 non-null   int64  \n",
      " 1   Hour    9999 non-null   int64  \n",
      " 2   Minute  9999 non-null   int64  \n",
      " 3   DHI     9999 non-null   int64  \n",
      " 4   DNI     9999 non-null   int64  \n",
      " 5   WS      9999 non-null   float64\n",
      " 6   RH      9999 non-null   float64\n",
      " 7   T       9999 non-null   int64  \n",
      " 8   TARGET  9999 non-null   float64\n",
      "dtypes: float64(3), int64(6)\n",
      "memory usage: 703.2 KB\n",
      "None\n",
      "\n",
      "<class 'pandas.core.frame.DataFrame'>\n",
      "RangeIndex: 2481 entries, 0 to 2480\n",
      "Data columns (total 9 columns):\n",
      " #   Column  Non-Null Count  Dtype  \n",
      "---  ------  --------------  -----  \n",
      " 0   ID      2481 non-null   int64  \n",
      " 1   Day     2481 non-null   int64  \n",
      " 2   Hour    2481 non-null   int64  \n",
      " 3   Minute  2481 non-null   int64  \n",
      " 4   DHI     2481 non-null   int64  \n",
      " 5   DNI     2481 non-null   int64  \n",
      " 6   WS      2481 non-null   float64\n",
      " 7   RH      2481 non-null   float64\n",
      " 8   T       2481 non-null   int64  \n",
      "dtypes: float64(2), int64(7)\n",
      "memory usage: 174.6 KB\n",
      "None\n"
     ]
    }
   ],
   "source": [
    "train = pd.read_csv(\"/kaggle/input/2021-ai-w6-p2/train.csv\")\n",
    "test = pd.read_csv(\"/kaggle/input/2021-ai-w6-p2/X_test.csv\")\n",
    "submit = pd.read_csv(\"/kaggle/input/2021-ai-w6-p2/sample_submit.csv\")\n",
    "\n",
    "print(train.info())\n",
    "print()\n",
    "print(test.info())"
   ]
  },
  {
   "cell_type": "code",
   "execution_count": 3,
   "id": "58e86483",
   "metadata": {
    "execution": {
     "iopub.execute_input": "2021-10-09T03:19:54.517409Z",
     "iopub.status.busy": "2021-10-09T03:19:54.516268Z",
     "iopub.status.idle": "2021-10-09T03:19:54.535935Z",
     "shell.execute_reply": "2021-10-09T03:19:54.536429Z",
     "shell.execute_reply.started": "2021-10-09T02:44:41.786271Z"
    },
    "papermill": {
     "duration": 0.044338,
     "end_time": "2021-10-09T03:19:54.536604",
     "exception": false,
     "start_time": "2021-10-09T03:19:54.492266",
     "status": "completed"
    },
    "tags": []
   },
   "outputs": [
    {
     "data": {
      "text/html": [
       "<div>\n",
       "<style scoped>\n",
       "    .dataframe tbody tr th:only-of-type {\n",
       "        vertical-align: middle;\n",
       "    }\n",
       "\n",
       "    .dataframe tbody tr th {\n",
       "        vertical-align: top;\n",
       "    }\n",
       "\n",
       "    .dataframe thead th {\n",
       "        text-align: right;\n",
       "    }\n",
       "</style>\n",
       "<table border=\"1\" class=\"dataframe\">\n",
       "  <thead>\n",
       "    <tr style=\"text-align: right;\">\n",
       "      <th></th>\n",
       "      <th>Day</th>\n",
       "      <th>Hour</th>\n",
       "      <th>Minute</th>\n",
       "      <th>DHI</th>\n",
       "      <th>DNI</th>\n",
       "      <th>WS</th>\n",
       "      <th>RH</th>\n",
       "      <th>T</th>\n",
       "      <th>TARGET</th>\n",
       "    </tr>\n",
       "  </thead>\n",
       "  <tbody>\n",
       "    <tr>\n",
       "      <th>0</th>\n",
       "      <td>0</td>\n",
       "      <td>0</td>\n",
       "      <td>0</td>\n",
       "      <td>0</td>\n",
       "      <td>0</td>\n",
       "      <td>1.5</td>\n",
       "      <td>69.08</td>\n",
       "      <td>-12</td>\n",
       "      <td>0.0</td>\n",
       "    </tr>\n",
       "    <tr>\n",
       "      <th>1</th>\n",
       "      <td>0</td>\n",
       "      <td>0</td>\n",
       "      <td>30</td>\n",
       "      <td>0</td>\n",
       "      <td>0</td>\n",
       "      <td>1.5</td>\n",
       "      <td>69.06</td>\n",
       "      <td>-12</td>\n",
       "      <td>0.0</td>\n",
       "    </tr>\n",
       "    <tr>\n",
       "      <th>2</th>\n",
       "      <td>0</td>\n",
       "      <td>1</td>\n",
       "      <td>0</td>\n",
       "      <td>0</td>\n",
       "      <td>0</td>\n",
       "      <td>1.6</td>\n",
       "      <td>71.78</td>\n",
       "      <td>-12</td>\n",
       "      <td>0.0</td>\n",
       "    </tr>\n",
       "    <tr>\n",
       "      <th>3</th>\n",
       "      <td>0</td>\n",
       "      <td>1</td>\n",
       "      <td>30</td>\n",
       "      <td>0</td>\n",
       "      <td>0</td>\n",
       "      <td>1.6</td>\n",
       "      <td>71.75</td>\n",
       "      <td>-12</td>\n",
       "      <td>0.0</td>\n",
       "    </tr>\n",
       "    <tr>\n",
       "      <th>4</th>\n",
       "      <td>0</td>\n",
       "      <td>2</td>\n",
       "      <td>0</td>\n",
       "      <td>0</td>\n",
       "      <td>0</td>\n",
       "      <td>1.6</td>\n",
       "      <td>75.20</td>\n",
       "      <td>-12</td>\n",
       "      <td>0.0</td>\n",
       "    </tr>\n",
       "  </tbody>\n",
       "</table>\n",
       "</div>"
      ],
      "text/plain": [
       "   Day  Hour  Minute  DHI  DNI   WS     RH   T  TARGET\n",
       "0    0     0       0    0    0  1.5  69.08 -12     0.0\n",
       "1    0     0      30    0    0  1.5  69.06 -12     0.0\n",
       "2    0     1       0    0    0  1.6  71.78 -12     0.0\n",
       "3    0     1      30    0    0  1.6  71.75 -12     0.0\n",
       "4    0     2       0    0    0  1.6  75.20 -12     0.0"
      ]
     },
     "execution_count": 3,
     "metadata": {},
     "output_type": "execute_result"
    }
   ],
   "source": [
    "train.head(5)"
   ]
  },
  {
   "cell_type": "code",
   "execution_count": 4,
   "id": "8b7c0706",
   "metadata": {
    "execution": {
     "iopub.execute_input": "2021-10-09T03:19:54.581156Z",
     "iopub.status.busy": "2021-10-09T03:19:54.580209Z",
     "iopub.status.idle": "2021-10-09T03:19:54.583363Z",
     "shell.execute_reply": "2021-10-09T03:19:54.582863Z",
     "shell.execute_reply.started": "2021-10-09T02:48:06.576336Z"
    },
    "papermill": {
     "duration": 0.028425,
     "end_time": "2021-10-09T03:19:54.583514",
     "exception": false,
     "start_time": "2021-10-09T03:19:54.555089",
     "status": "completed"
    },
    "tags": []
   },
   "outputs": [],
   "source": [
    "X = train.drop(['TARGET'],axis=1)\n",
    "y = train['TARGET']\n",
    "\n",
    "X_test = test.drop(['ID'], axis = 1)"
   ]
  },
  {
   "cell_type": "code",
   "execution_count": 5,
   "id": "7bb7f82a",
   "metadata": {
    "execution": {
     "iopub.execute_input": "2021-10-09T03:19:54.661506Z",
     "iopub.status.busy": "2021-10-09T03:19:54.659945Z",
     "iopub.status.idle": "2021-10-09T03:19:55.627500Z",
     "shell.execute_reply": "2021-10-09T03:19:55.626835Z",
     "shell.execute_reply.started": "2021-10-09T02:48:06.708042Z"
    },
    "papermill": {
     "duration": 1.01339,
     "end_time": "2021-10-09T03:19:55.627658",
     "exception": false,
     "start_time": "2021-10-09T03:19:54.614268",
     "status": "completed"
    },
    "tags": []
   },
   "outputs": [],
   "source": [
    "from sklearn.preprocessing import StandardScaler\n",
    "sc = StandardScaler()\n",
    "X = sc.fit_transform(X)\n",
    "X_test = sc.transform(X_test)"
   ]
  },
  {
   "cell_type": "code",
   "execution_count": 6,
   "id": "acedcf12",
   "metadata": {
    "execution": {
     "iopub.execute_input": "2021-10-09T03:19:55.670765Z",
     "iopub.status.busy": "2021-10-09T03:19:55.669844Z",
     "iopub.status.idle": "2021-10-09T03:19:55.726808Z",
     "shell.execute_reply": "2021-10-09T03:19:55.727384Z",
     "shell.execute_reply.started": "2021-10-09T02:48:06.896165Z"
    },
    "papermill": {
     "duration": 0.081043,
     "end_time": "2021-10-09T03:19:55.727558",
     "exception": false,
     "start_time": "2021-10-09T03:19:55.646515",
     "status": "completed"
    },
    "tags": []
   },
   "outputs": [
    {
     "name": "stdout",
     "output_type": "stream",
     "text": [
      "(6999, 8)\n",
      "(6999,)\n"
     ]
    }
   ],
   "source": [
    "from sklearn.model_selection import train_test_split\n",
    "X_train, X_val, y_train, y_val = train_test_split(X, y, test_size = 0.3, random_state = 777)\n",
    "print(X_train.shape)\n",
    "print(y_train.shape)"
   ]
  },
  {
   "cell_type": "code",
   "execution_count": 7,
   "id": "07e01151",
   "metadata": {
    "execution": {
     "iopub.execute_input": "2021-10-09T03:19:55.772870Z",
     "iopub.status.busy": "2021-10-09T03:19:55.772007Z",
     "iopub.status.idle": "2021-10-09T03:20:00.430875Z",
     "shell.execute_reply": "2021-10-09T03:20:00.430308Z",
     "shell.execute_reply.started": "2021-10-09T02:48:31.71175Z"
    },
    "papermill": {
     "duration": 4.683047,
     "end_time": "2021-10-09T03:20:00.431029",
     "exception": false,
     "start_time": "2021-10-09T03:19:55.747982",
     "status": "completed"
    },
    "tags": []
   },
   "outputs": [
    {
     "data": {
      "text/plain": [
       "True"
      ]
     },
     "execution_count": 7,
     "metadata": {},
     "output_type": "execute_result"
    }
   ],
   "source": [
    "import torch\n",
    "torch.manual_seed(1)\n",
    "\n",
    "import torch.cuda\n",
    "torch.cuda.init()\n",
    "torch.cuda.manual_seed(1)\n",
    "torch.cuda.is_available()"
   ]
  },
  {
   "cell_type": "code",
   "execution_count": 8,
   "id": "d48dffda",
   "metadata": {
    "execution": {
     "iopub.execute_input": "2021-10-09T03:20:00.483667Z",
     "iopub.status.busy": "2021-10-09T03:20:00.482718Z",
     "iopub.status.idle": "2021-10-09T03:20:06.771928Z",
     "shell.execute_reply": "2021-10-09T03:20:06.772852Z",
     "shell.execute_reply.started": "2021-10-09T02:50:41.567422Z"
    },
    "papermill": {
     "duration": 6.322789,
     "end_time": "2021-10-09T03:20:06.773149",
     "exception": false,
     "start_time": "2021-10-09T03:20:00.450360",
     "status": "completed"
    },
    "tags": []
   },
   "outputs": [
    {
     "name": "stdout",
     "output_type": "stream",
     "text": [
      "cuda:0\n"
     ]
    }
   ],
   "source": [
    "X_train_tensor = torch.FloatTensor(X_train).cuda()\n",
    "X_val_tensor = torch.FloatTensor(X_val).cuda()\n",
    "y_train_tensor = torch.FloatTensor(y_train.to_numpy()).cuda()\n",
    "y_val_tensor = torch.FloatTensor(y_val.to_numpy()).cuda()\n",
    "\n",
    "X_test_tensor = torch.FloatTensor(X_test).cuda()\n",
    "\n",
    "print(X_train_tensor.device)"
   ]
  },
  {
   "cell_type": "code",
   "execution_count": 9,
   "id": "54fbc723",
   "metadata": {
    "execution": {
     "iopub.execute_input": "2021-10-09T03:20:06.818699Z",
     "iopub.status.busy": "2021-10-09T03:20:06.817675Z",
     "iopub.status.idle": "2021-10-09T03:20:06.824260Z",
     "shell.execute_reply": "2021-10-09T03:20:06.825433Z",
     "shell.execute_reply.started": "2021-10-09T02:50:45.341632Z"
    },
    "papermill": {
     "duration": 0.031175,
     "end_time": "2021-10-09T03:20:06.825774",
     "exception": false,
     "start_time": "2021-10-09T03:20:06.794599",
     "status": "completed"
    },
    "tags": []
   },
   "outputs": [
    {
     "name": "stdout",
     "output_type": "stream",
     "text": [
      "(6999, 8)\n"
     ]
    }
   ],
   "source": [
    "print(X_train.shape)"
   ]
  },
  {
   "cell_type": "code",
   "execution_count": 10,
   "id": "76e63ac7",
   "metadata": {
    "execution": {
     "iopub.execute_input": "2021-10-09T03:20:06.877177Z",
     "iopub.status.busy": "2021-10-09T03:20:06.876415Z",
     "iopub.status.idle": "2021-10-09T03:20:06.891219Z",
     "shell.execute_reply": "2021-10-09T03:20:06.890675Z",
     "shell.execute_reply.started": "2021-10-09T03:18:11.068827Z"
    },
    "papermill": {
     "duration": 0.044131,
     "end_time": "2021-10-09T03:20:06.891354",
     "exception": false,
     "start_time": "2021-10-09T03:20:06.847223",
     "status": "completed"
    },
    "tags": []
   },
   "outputs": [],
   "source": [
    "linear1 = torch.nn.Linear(8,30, bias = True)\n",
    "linear2 = torch.nn.Linear(30,30, bias = True)\n",
    "linear3 = torch.nn.Linear(30,1, bias = True)\n",
    "# linear4 = torch.nn.Linear(20,1, bias = True)\n",
    "\n",
    "sigmoid = torch.nn.Sigmoid()\n",
    "\n",
    "model = torch.nn.Sequential(linear1, sigmoid, linear2, sigmoid, linear3)\n",
    "model = model.cuda()"
   ]
  },
  {
   "cell_type": "code",
   "execution_count": 11,
   "id": "d5883e34",
   "metadata": {
    "execution": {
     "iopub.execute_input": "2021-10-09T03:20:06.939965Z",
     "iopub.status.busy": "2021-10-09T03:20:06.939201Z",
     "iopub.status.idle": "2021-10-09T03:20:06.998291Z",
     "shell.execute_reply": "2021-10-09T03:20:06.998984Z",
     "shell.execute_reply.started": "2021-10-09T03:18:50.213540Z"
    },
    "papermill": {
     "duration": 0.087031,
     "end_time": "2021-10-09T03:20:06.999143",
     "exception": false,
     "start_time": "2021-10-09T03:20:06.912112",
     "status": "completed"
    },
    "tags": []
   },
   "outputs": [
    {
     "name": "stdout",
     "output_type": "stream",
     "text": [
      "Parameter containing:\n",
      "tensor([[ 0.2444,  0.2952, -0.1941,  0.2589, -0.1072, -0.0831, -0.0952, -0.0172],\n",
      "        [-0.1548,  0.0484, -0.2279,  0.1454, -0.2965, -0.1282, -0.2469,  0.2385],\n",
      "        [ 0.2429, -0.2812, -0.1929,  0.3164,  0.1030,  0.2434, -0.2711,  0.1596],\n",
      "        [ 0.2251, -0.0820, -0.0163,  0.2578,  0.0964,  0.1014,  0.0011, -0.1476],\n",
      "        [-0.2164,  0.3528, -0.0279,  0.3138,  0.2893, -0.1849,  0.0240, -0.0904],\n",
      "        [-0.0064,  0.2330,  0.1947, -0.2008, -0.1749, -0.2512, -0.3002,  0.2268],\n",
      "        [-0.2185,  0.0046, -0.0005,  0.0605, -0.0207,  0.1835,  0.0486,  0.2535],\n",
      "        [ 0.0763, -0.0044,  0.0501,  0.2356,  0.0534,  0.2491, -0.0335,  0.0031]],\n",
      "       requires_grad=True)\n",
      "Parameter containing:\n",
      "tensor([[ 0.1336,  0.0801,  0.1395, -0.1517,  0.1487, -0.1121,  0.2222, -0.1038],\n",
      "        [-0.3011,  0.0252,  0.1840, -0.0139,  0.0046,  0.0013,  0.1876,  0.0277],\n",
      "        [-0.3158, -0.2521,  0.0209, -0.0284,  0.3379, -0.0831,  0.2706, -0.2982],\n",
      "        [-0.3360, -0.0325, -0.2239, -0.1031,  0.0398, -0.3067,  0.2430, -0.2146],\n",
      "        [ 0.2713,  0.1156, -0.0663, -0.3094,  0.0585, -0.1975,  0.3056, -0.2974],\n",
      "        [-0.0934, -0.1949, -0.2274, -0.1844, -0.0351,  0.0239,  0.0599,  0.1807],\n",
      "        [-0.1444, -0.2194, -0.0745,  0.3332, -0.0432, -0.2976,  0.2774,  0.0860],\n",
      "        [ 0.0614,  0.0607,  0.2467, -0.1610,  0.2577,  0.3400, -0.0912,  0.2231]],\n",
      "       requires_grad=True)\n"
     ]
    }
   ],
   "source": [
    "#가중치 랜덤\n",
    "linear5 = torch.nn.Linear(8,8)\n",
    "print(linear5.weight)\n",
    "linear6 = torch.nn.Linear(8,8)\n",
    "print(linear6.weight)"
   ]
  },
  {
   "cell_type": "code",
   "execution_count": 12,
   "id": "6082b76e",
   "metadata": {
    "execution": {
     "iopub.execute_input": "2021-10-09T03:20:07.046249Z",
     "iopub.status.busy": "2021-10-09T03:20:07.045156Z",
     "iopub.status.idle": "2021-10-09T03:20:07.049082Z",
     "shell.execute_reply": "2021-10-09T03:20:07.049739Z",
     "shell.execute_reply.started": "2021-10-09T03:18:20.475468Z"
    },
    "papermill": {
     "duration": 0.030155,
     "end_time": "2021-10-09T03:20:07.049890",
     "exception": false,
     "start_time": "2021-10-09T03:20:07.019735",
     "status": "completed"
    },
    "tags": []
   },
   "outputs": [
    {
     "data": {
      "text/plain": [
       "Sequential(\n",
       "  (0): Linear(in_features=8, out_features=30, bias=True)\n",
       "  (1): Sigmoid()\n",
       "  (2): Linear(in_features=30, out_features=30, bias=True)\n",
       "  (3): Sigmoid()\n",
       "  (4): Linear(in_features=30, out_features=1, bias=True)\n",
       ")"
      ]
     },
     "execution_count": 12,
     "metadata": {},
     "output_type": "execute_result"
    }
   ],
   "source": [
    "model"
   ]
  },
  {
   "cell_type": "code",
   "execution_count": 13,
   "id": "ec579949",
   "metadata": {
    "execution": {
     "iopub.execute_input": "2021-10-09T03:20:07.097069Z",
     "iopub.status.busy": "2021-10-09T03:20:07.096156Z",
     "iopub.status.idle": "2021-10-09T03:20:07.099116Z",
     "shell.execute_reply": "2021-10-09T03:20:07.099706Z",
     "shell.execute_reply.started": "2021-10-09T03:18:59.201733Z"
    },
    "papermill": {
     "duration": 0.029199,
     "end_time": "2021-10-09T03:20:07.099851",
     "exception": false,
     "start_time": "2021-10-09T03:20:07.070652",
     "status": "completed"
    },
    "tags": []
   },
   "outputs": [],
   "source": [
    "def reset_parameters(m):\n",
    "    m[0].reset_parameters()\n",
    "    m[2].reset_parameters()\n",
    "    m[4].reset_parameters()\n",
    "#     m[6].reset_parameters()\n"
   ]
  },
  {
   "cell_type": "code",
   "execution_count": 14,
   "id": "cbabb4be",
   "metadata": {
    "execution": {
     "iopub.execute_input": "2021-10-09T03:20:07.149606Z",
     "iopub.status.busy": "2021-10-09T03:20:07.148658Z",
     "iopub.status.idle": "2021-10-09T03:20:42.614580Z",
     "shell.execute_reply": "2021-10-09T03:20:42.613625Z",
     "shell.execute_reply.started": "2021-10-09T03:19:02.239138Z"
    },
    "papermill": {
     "duration": 35.493927,
     "end_time": "2021-10-09T03:20:42.614754",
     "exception": false,
     "start_time": "2021-10-09T03:20:07.120827",
     "status": "completed"
    },
    "tags": []
   },
   "outputs": [
    {
     "name": "stdout",
     "output_type": "stream",
     "text": [
      "epoch:0, cost:1,020.80, train_acc:1,020.795, val_acc:885.228\n",
      "epoch:1000, cost:6.06, train_acc:6.059, val_acc:5.704\n",
      "epoch:2000, cost:2.99, train_acc:2.986, val_acc:2.934\n",
      "epoch:3000, cost:1.93, train_acc:1.933, val_acc:1.915\n",
      "epoch:4000, cost:1.37, train_acc:1.368, val_acc:1.352\n",
      "epoch:5000, cost:1.01, train_acc:1.011, val_acc:0.995\n",
      "epoch:6000, cost:0.77, train_acc:0.773, val_acc:0.757\n",
      "epoch:7000, cost:0.62, train_acc:0.618, val_acc:0.605\n",
      "epoch:8000, cost:0.52, train_acc:0.518, val_acc:0.509\n",
      "epoch:9000, cost:0.45, train_acc:0.449, val_acc:0.446\n",
      "epoch:10000, cost:0.41, train_acc:0.409, val_acc:0.411\n",
      "epoch:11000, cost:0.38, train_acc:0.384, val_acc:0.388\n",
      "epoch:12000, cost:0.36, train_acc:0.363, val_acc:0.369\n",
      "epoch:13000, cost:0.34, train_acc:0.344, val_acc:0.353\n",
      "epoch:14000, cost:0.33, train_acc:0.328, val_acc:0.338\n",
      "epoch:15000, cost:0.31, train_acc:0.314, val_acc:0.325\n",
      "epoch:16000, cost:0.30, train_acc:0.301, val_acc:0.314\n",
      "epoch:17000, cost:0.29, train_acc:0.289, val_acc:0.303\n",
      "epoch:18000, cost:0.28, train_acc:0.278, val_acc:0.293\n",
      "epoch:19000, cost:0.27, train_acc:0.269, val_acc:0.284\n",
      "epoch:20000, cost:0.26, train_acc:0.260, val_acc:0.276\n"
     ]
    }
   ],
   "source": [
    "from sklearn.metrics import mean_squared_error as MSE\n",
    "\n",
    "reset_parameters(model)\n",
    "optimizer = torch.optim.SGD(model.parameters(), lr = 0.01)\n",
    "loss = torch.nn.MSELoss()\n",
    "\n",
    "epochs = 20000\n",
    "for epoch in range(epochs+1):\n",
    "    hypothesis = model(X_train_tensor)\n",
    "    cost = loss(hypothesis.squeeze(), y_train_tensor)\n",
    "    \n",
    "    optimizer.zero_grad()\n",
    "    cost.backward()\n",
    "    optimizer.step()\n",
    "    \n",
    "    if epoch % 1000 == 0:\n",
    "        y_pred = hypothesis.cpu().detach().numpy()\n",
    "        error_train = MSE(y_pred, y_train)\n",
    "        y_pred = model(X_val_tensor).cpu().detach().numpy()\n",
    "        error_val = MSE(y_pred, y_val)\n",
    "        print('epoch:{}, cost:{:,.2f}, train_acc:{:,.3f}, val_acc:{:,.3f}'.format(epoch, cost.item(), error_train, error_val))\n",
    "        \n",
    "        "
   ]
  },
  {
   "cell_type": "code",
   "execution_count": 15,
   "id": "4035d6cc",
   "metadata": {
    "execution": {
     "iopub.execute_input": "2021-10-09T03:20:42.678663Z",
     "iopub.status.busy": "2021-10-09T03:20:42.677450Z",
     "iopub.status.idle": "2021-10-09T03:20:42.685091Z",
     "shell.execute_reply": "2021-10-09T03:20:42.685678Z",
     "shell.execute_reply.started": "2021-10-09T03:07:02.734411Z"
    },
    "papermill": {
     "duration": 0.042679,
     "end_time": "2021-10-09T03:20:42.685830",
     "exception": false,
     "start_time": "2021-10-09T03:20:42.643151",
     "status": "completed"
    },
    "tags": []
   },
   "outputs": [
    {
     "data": {
      "text/plain": [
       "array([[19.909624],\n",
       "       [23.683443],\n",
       "       [25.681004],\n",
       "       ...,\n",
       "       [11.264891],\n",
       "       [11.190713],\n",
       "       [11.353091]], dtype=float32)"
      ]
     },
     "execution_count": 15,
     "metadata": {},
     "output_type": "execute_result"
    }
   ],
   "source": [
    "with torch.no_grad():\n",
    "    hypothesis = model(X_test_tensor)\n",
    "    y_pred = hypothesis.cpu().detach().numpy()\n",
    "    \n",
    "y_pred"
   ]
  },
  {
   "cell_type": "code",
   "execution_count": 16,
   "id": "5d48dabd",
   "metadata": {
    "execution": {
     "iopub.execute_input": "2021-10-09T03:20:42.749534Z",
     "iopub.status.busy": "2021-10-09T03:20:42.748592Z",
     "iopub.status.idle": "2021-10-09T03:20:42.762942Z",
     "shell.execute_reply": "2021-10-09T03:20:42.762220Z",
     "shell.execute_reply.started": "2021-10-09T03:07:19.740156Z"
    },
    "papermill": {
     "duration": 0.048816,
     "end_time": "2021-10-09T03:20:42.763105",
     "exception": false,
     "start_time": "2021-10-09T03:20:42.714289",
     "status": "completed"
    },
    "tags": []
   },
   "outputs": [],
   "source": [
    "submit['TARGET'] = y_pred #submit['TARGET'] = y_pred.squeeze()\n",
    "submit.to_csv(\"submission.csv\", mode = 'w', index = False)"
   ]
  },
  {
   "cell_type": "code",
   "execution_count": 17,
   "id": "e646955c",
   "metadata": {
    "execution": {
     "iopub.execute_input": "2021-10-09T03:20:42.833868Z",
     "iopub.status.busy": "2021-10-09T03:20:42.833084Z",
     "iopub.status.idle": "2021-10-09T03:20:42.840076Z",
     "shell.execute_reply": "2021-10-09T03:20:42.839394Z",
     "shell.execute_reply.started": "2021-10-09T03:07:20.871517Z"
    },
    "papermill": {
     "duration": 0.047736,
     "end_time": "2021-10-09T03:20:42.840206",
     "exception": false,
     "start_time": "2021-10-09T03:20:42.792470",
     "status": "completed"
    },
    "tags": []
   },
   "outputs": [
    {
     "data": {
      "text/html": [
       "<div>\n",
       "<style scoped>\n",
       "    .dataframe tbody tr th:only-of-type {\n",
       "        vertical-align: middle;\n",
       "    }\n",
       "\n",
       "    .dataframe tbody tr th {\n",
       "        vertical-align: top;\n",
       "    }\n",
       "\n",
       "    .dataframe thead th {\n",
       "        text-align: right;\n",
       "    }\n",
       "</style>\n",
       "<table border=\"1\" class=\"dataframe\">\n",
       "  <thead>\n",
       "    <tr style=\"text-align: right;\">\n",
       "      <th></th>\n",
       "      <th>ID</th>\n",
       "      <th>TARGET</th>\n",
       "    </tr>\n",
       "  </thead>\n",
       "  <tbody>\n",
       "    <tr>\n",
       "      <th>0</th>\n",
       "      <td>0</td>\n",
       "      <td>19.909624</td>\n",
       "    </tr>\n",
       "    <tr>\n",
       "      <th>1</th>\n",
       "      <td>1</td>\n",
       "      <td>23.683443</td>\n",
       "    </tr>\n",
       "    <tr>\n",
       "      <th>2</th>\n",
       "      <td>2</td>\n",
       "      <td>25.681004</td>\n",
       "    </tr>\n",
       "    <tr>\n",
       "      <th>3</th>\n",
       "      <td>3</td>\n",
       "      <td>27.586546</td>\n",
       "    </tr>\n",
       "    <tr>\n",
       "      <th>4</th>\n",
       "      <td>4</td>\n",
       "      <td>28.580040</td>\n",
       "    </tr>\n",
       "    <tr>\n",
       "      <th>...</th>\n",
       "      <td>...</td>\n",
       "      <td>...</td>\n",
       "    </tr>\n",
       "    <tr>\n",
       "      <th>2476</th>\n",
       "      <td>2476</td>\n",
       "      <td>11.246636</td>\n",
       "    </tr>\n",
       "    <tr>\n",
       "      <th>2477</th>\n",
       "      <td>2477</td>\n",
       "      <td>11.151977</td>\n",
       "    </tr>\n",
       "    <tr>\n",
       "      <th>2478</th>\n",
       "      <td>2478</td>\n",
       "      <td>11.264891</td>\n",
       "    </tr>\n",
       "    <tr>\n",
       "      <th>2479</th>\n",
       "      <td>2479</td>\n",
       "      <td>11.190713</td>\n",
       "    </tr>\n",
       "    <tr>\n",
       "      <th>2480</th>\n",
       "      <td>2480</td>\n",
       "      <td>11.353091</td>\n",
       "    </tr>\n",
       "  </tbody>\n",
       "</table>\n",
       "<p>2481 rows × 2 columns</p>\n",
       "</div>"
      ],
      "text/plain": [
       "        ID     TARGET\n",
       "0        0  19.909624\n",
       "1        1  23.683443\n",
       "2        2  25.681004\n",
       "3        3  27.586546\n",
       "4        4  28.580040\n",
       "...    ...        ...\n",
       "2476  2476  11.246636\n",
       "2477  2477  11.151977\n",
       "2478  2478  11.264891\n",
       "2479  2479  11.190713\n",
       "2480  2480  11.353091\n",
       "\n",
       "[2481 rows x 2 columns]"
      ]
     },
     "execution_count": 17,
     "metadata": {},
     "output_type": "execute_result"
    }
   ],
   "source": [
    "submit"
   ]
  },
  {
   "cell_type": "code",
   "execution_count": null,
   "id": "be319101",
   "metadata": {
    "papermill": {
     "duration": 0.029274,
     "end_time": "2021-10-09T03:20:42.898591",
     "exception": false,
     "start_time": "2021-10-09T03:20:42.869317",
     "status": "completed"
    },
    "tags": []
   },
   "outputs": [],
   "source": []
  },
  {
   "cell_type": "code",
   "execution_count": null,
   "id": "96bc2aad",
   "metadata": {
    "papermill": {
     "duration": 0.028724,
     "end_time": "2021-10-09T03:20:42.956785",
     "exception": false,
     "start_time": "2021-10-09T03:20:42.928061",
     "status": "completed"
    },
    "tags": []
   },
   "outputs": [],
   "source": []
  },
  {
   "cell_type": "code",
   "execution_count": null,
   "id": "79a2e99b",
   "metadata": {
    "papermill": {
     "duration": 0.028945,
     "end_time": "2021-10-09T03:20:43.014869",
     "exception": false,
     "start_time": "2021-10-09T03:20:42.985924",
     "status": "completed"
    },
    "tags": []
   },
   "outputs": [],
   "source": []
  }
 ],
 "metadata": {
  "kernelspec": {
   "display_name": "Python 3",
   "language": "python",
   "name": "python3"
  },
  "language_info": {
   "codemirror_mode": {
    "name": "ipython",
    "version": 3
   },
   "file_extension": ".py",
   "mimetype": "text/x-python",
   "name": "python",
   "nbconvert_exporter": "python",
   "pygments_lexer": "ipython3",
   "version": "3.7.10"
  },
  "papermill": {
   "default_parameters": {},
   "duration": 58.957149,
   "end_time": "2021-10-09T03:20:45.004801",
   "environment_variables": {},
   "exception": null,
   "input_path": "__notebook__.ipynb",
   "output_path": "__notebook__.ipynb",
   "parameters": {},
   "start_time": "2021-10-09T03:19:46.047652",
   "version": "2.3.3"
  }
 },
 "nbformat": 4,
 "nbformat_minor": 5
}
