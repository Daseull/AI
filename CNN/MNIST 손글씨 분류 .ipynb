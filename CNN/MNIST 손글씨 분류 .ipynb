{
 "cells": [
  {
   "cell_type": "code",
   "execution_count": 1,
   "id": "147518e2",
   "metadata": {
    "_cell_guid": "b1076dfc-b9ad-4769-8c92-a6c4dae69d19",
    "_uuid": "8f2839f25d086af736a60e9eeb907d3b93b6e0e5",
    "execution": {
     "iopub.execute_input": "2021-11-12T12:50:22.125588Z",
     "iopub.status.busy": "2021-11-12T12:50:22.123848Z",
     "iopub.status.idle": "2021-11-12T12:50:22.140512Z",
     "shell.execute_reply": "2021-11-12T12:50:22.139810Z",
     "shell.execute_reply.started": "2021-11-10T14:28:39.228173Z"
    },
    "papermill": {
     "duration": 0.039316,
     "end_time": "2021-11-12T12:50:22.140680",
     "exception": false,
     "start_time": "2021-11-12T12:50:22.101364",
     "status": "completed"
    },
    "tags": []
   },
   "outputs": [
    {
     "name": "stdout",
     "output_type": "stream",
     "text": [
      "/kaggle/input/2021-ai-w10-p1/2021-ai-w10-p1/train.csv\n",
      "/kaggle/input/2021-ai-w10-p1/2021-ai-w10-p1/test.csv\n",
      "/kaggle/input/2021-ai-w10-p1/2021-ai-w10-p1/sample_submit.csv\n"
     ]
    }
   ],
   "source": [
    "# This Python 3 environment comes with many helpful analytics libraries installed\n",
    "# It is defined by the kaggle/python Docker image: https://github.com/kaggle/docker-python\n",
    "# For example, here's several helpful packages to load\n",
    "\n",
    "import numpy as np # linear algebra\n",
    "import pandas as pd # data processing, CSV file I/O (e.g. pd.read_csv)\n",
    "\n",
    "# Input data files are available in the read-only \"../input/\" directory\n",
    "# For example, running this (by clicking run or pressing Shift+Enter) will list all files under the input directory\n",
    "\n",
    "import os\n",
    "for dirname, _, filenames in os.walk('/kaggle/input'):\n",
    "    for filename in filenames:\n",
    "        print(os.path.join(dirname, filename))\n",
    "\n",
    "# You can write up to 20GB to the current directory (/kaggle/working/) that gets preserved as output when you create a version using \"Save & Run All\" \n",
    "# You can also write temporary files to /kaggle/temp/, but they won't be saved outside of the current session"
   ]
  },
  {
   "cell_type": "code",
   "execution_count": 2,
   "id": "37cbcc14",
   "metadata": {
    "execution": {
     "iopub.execute_input": "2021-11-12T12:50:22.177771Z",
     "iopub.status.busy": "2021-11-12T12:50:22.177266Z",
     "iopub.status.idle": "2021-11-12T12:50:23.916207Z",
     "shell.execute_reply": "2021-11-12T12:50:23.915632Z",
     "shell.execute_reply.started": "2021-11-10T14:28:42.522387Z"
    },
    "papermill": {
     "duration": 1.758615,
     "end_time": "2021-11-12T12:50:23.916344",
     "exception": false,
     "start_time": "2021-11-12T12:50:22.157729",
     "status": "completed"
    },
    "tags": []
   },
   "outputs": [],
   "source": [
    "import torch\n",
    "import torchvision\n",
    "import torchvision.datasets as dsets\n",
    "import torchvision.transforms as transforms\n",
    "import torch.nn.init\n",
    "import random\n",
    "\n",
    "random.seed(1)\n",
    "torch.manual_seed(1)\n",
    "torch.cuda.manual_seed_all(1)"
   ]
  },
  {
   "cell_type": "code",
   "execution_count": 3,
   "id": "620b610b",
   "metadata": {
    "execution": {
     "iopub.execute_input": "2021-11-12T12:50:23.971355Z",
     "iopub.status.busy": "2021-11-12T12:50:23.970425Z",
     "iopub.status.idle": "2021-11-12T12:50:29.224884Z",
     "shell.execute_reply": "2021-11-12T12:50:29.224057Z",
     "shell.execute_reply.started": "2021-11-10T15:08:19.981415Z"
    },
    "papermill": {
     "duration": 5.284727,
     "end_time": "2021-11-12T12:50:29.225015",
     "exception": false,
     "start_time": "2021-11-12T12:50:23.940288",
     "status": "completed"
    },
    "tags": []
   },
   "outputs": [],
   "source": [
    "train = pd.read_csv(\"/kaggle/input/2021-ai-w10-p1/2021-ai-w10-p1/train.csv\")\n",
    "test = pd.read_csv(\"/kaggle/input/2021-ai-w10-p1/2021-ai-w10-p1/test.csv\")\n",
    "submit = pd.read_csv(\"/kaggle/input/2021-ai-w10-p1/2021-ai-w10-p1/sample_submit.csv\")"
   ]
  },
  {
   "cell_type": "code",
   "execution_count": 4,
   "id": "80506811",
   "metadata": {
    "execution": {
     "iopub.execute_input": "2021-11-12T12:50:29.267630Z",
     "iopub.status.busy": "2021-11-12T12:50:29.266825Z",
     "iopub.status.idle": "2021-11-12T12:50:29.283110Z",
     "shell.execute_reply": "2021-11-12T12:50:29.283561Z",
     "shell.execute_reply.started": "2021-11-10T15:08:24.04437Z"
    },
    "papermill": {
     "duration": 0.041409,
     "end_time": "2021-11-12T12:50:29.283695",
     "exception": false,
     "start_time": "2021-11-12T12:50:29.242286",
     "status": "completed"
    },
    "tags": []
   },
   "outputs": [
    {
     "data": {
      "text/html": [
       "<div>\n",
       "<style scoped>\n",
       "    .dataframe tbody tr th:only-of-type {\n",
       "        vertical-align: middle;\n",
       "    }\n",
       "\n",
       "    .dataframe tbody tr th {\n",
       "        vertical-align: top;\n",
       "    }\n",
       "\n",
       "    .dataframe thead th {\n",
       "        text-align: right;\n",
       "    }\n",
       "</style>\n",
       "<table border=\"1\" class=\"dataframe\">\n",
       "  <thead>\n",
       "    <tr style=\"text-align: right;\">\n",
       "      <th></th>\n",
       "      <th>Category</th>\n",
       "      <th>1x1</th>\n",
       "      <th>1x2</th>\n",
       "      <th>1x3</th>\n",
       "      <th>1x4</th>\n",
       "      <th>1x5</th>\n",
       "      <th>1x6</th>\n",
       "      <th>1x7</th>\n",
       "      <th>1x8</th>\n",
       "      <th>1x9</th>\n",
       "      <th>...</th>\n",
       "      <th>28x19</th>\n",
       "      <th>28x20</th>\n",
       "      <th>28x21</th>\n",
       "      <th>28x22</th>\n",
       "      <th>28x23</th>\n",
       "      <th>28x24</th>\n",
       "      <th>28x25</th>\n",
       "      <th>28x26</th>\n",
       "      <th>28x27</th>\n",
       "      <th>28x28</th>\n",
       "    </tr>\n",
       "  </thead>\n",
       "  <tbody>\n",
       "    <tr>\n",
       "      <th>0</th>\n",
       "      <td>5</td>\n",
       "      <td>0</td>\n",
       "      <td>0</td>\n",
       "      <td>0</td>\n",
       "      <td>0</td>\n",
       "      <td>0</td>\n",
       "      <td>0</td>\n",
       "      <td>0</td>\n",
       "      <td>0</td>\n",
       "      <td>0</td>\n",
       "      <td>...</td>\n",
       "      <td>0</td>\n",
       "      <td>0</td>\n",
       "      <td>0</td>\n",
       "      <td>0</td>\n",
       "      <td>0</td>\n",
       "      <td>0</td>\n",
       "      <td>0</td>\n",
       "      <td>0</td>\n",
       "      <td>0</td>\n",
       "      <td>0</td>\n",
       "    </tr>\n",
       "    <tr>\n",
       "      <th>1</th>\n",
       "      <td>0</td>\n",
       "      <td>0</td>\n",
       "      <td>0</td>\n",
       "      <td>0</td>\n",
       "      <td>0</td>\n",
       "      <td>0</td>\n",
       "      <td>0</td>\n",
       "      <td>0</td>\n",
       "      <td>0</td>\n",
       "      <td>0</td>\n",
       "      <td>...</td>\n",
       "      <td>0</td>\n",
       "      <td>0</td>\n",
       "      <td>0</td>\n",
       "      <td>0</td>\n",
       "      <td>0</td>\n",
       "      <td>0</td>\n",
       "      <td>0</td>\n",
       "      <td>0</td>\n",
       "      <td>0</td>\n",
       "      <td>0</td>\n",
       "    </tr>\n",
       "    <tr>\n",
       "      <th>2</th>\n",
       "      <td>3</td>\n",
       "      <td>0</td>\n",
       "      <td>0</td>\n",
       "      <td>0</td>\n",
       "      <td>0</td>\n",
       "      <td>0</td>\n",
       "      <td>0</td>\n",
       "      <td>0</td>\n",
       "      <td>0</td>\n",
       "      <td>0</td>\n",
       "      <td>...</td>\n",
       "      <td>0</td>\n",
       "      <td>0</td>\n",
       "      <td>0</td>\n",
       "      <td>0</td>\n",
       "      <td>0</td>\n",
       "      <td>0</td>\n",
       "      <td>0</td>\n",
       "      <td>0</td>\n",
       "      <td>0</td>\n",
       "      <td>0</td>\n",
       "    </tr>\n",
       "    <tr>\n",
       "      <th>3</th>\n",
       "      <td>3</td>\n",
       "      <td>0</td>\n",
       "      <td>0</td>\n",
       "      <td>0</td>\n",
       "      <td>0</td>\n",
       "      <td>0</td>\n",
       "      <td>0</td>\n",
       "      <td>0</td>\n",
       "      <td>0</td>\n",
       "      <td>0</td>\n",
       "      <td>...</td>\n",
       "      <td>0</td>\n",
       "      <td>0</td>\n",
       "      <td>0</td>\n",
       "      <td>0</td>\n",
       "      <td>0</td>\n",
       "      <td>0</td>\n",
       "      <td>0</td>\n",
       "      <td>0</td>\n",
       "      <td>0</td>\n",
       "      <td>0</td>\n",
       "    </tr>\n",
       "    <tr>\n",
       "      <th>4</th>\n",
       "      <td>6</td>\n",
       "      <td>0</td>\n",
       "      <td>0</td>\n",
       "      <td>0</td>\n",
       "      <td>0</td>\n",
       "      <td>0</td>\n",
       "      <td>0</td>\n",
       "      <td>0</td>\n",
       "      <td>0</td>\n",
       "      <td>0</td>\n",
       "      <td>...</td>\n",
       "      <td>0</td>\n",
       "      <td>0</td>\n",
       "      <td>0</td>\n",
       "      <td>0</td>\n",
       "      <td>0</td>\n",
       "      <td>0</td>\n",
       "      <td>0</td>\n",
       "      <td>0</td>\n",
       "      <td>0</td>\n",
       "      <td>0</td>\n",
       "    </tr>\n",
       "  </tbody>\n",
       "</table>\n",
       "<p>5 rows × 785 columns</p>\n",
       "</div>"
      ],
      "text/plain": [
       "   Category  1x1  1x2  1x3  1x4  1x5  1x6  1x7  1x8  1x9  ...  28x19  28x20  \\\n",
       "0         5    0    0    0    0    0    0    0    0    0  ...      0      0   \n",
       "1         0    0    0    0    0    0    0    0    0    0  ...      0      0   \n",
       "2         3    0    0    0    0    0    0    0    0    0  ...      0      0   \n",
       "3         3    0    0    0    0    0    0    0    0    0  ...      0      0   \n",
       "4         6    0    0    0    0    0    0    0    0    0  ...      0      0   \n",
       "\n",
       "   28x21  28x22  28x23  28x24  28x25  28x26  28x27  28x28  \n",
       "0      0      0      0      0      0      0      0      0  \n",
       "1      0      0      0      0      0      0      0      0  \n",
       "2      0      0      0      0      0      0      0      0  \n",
       "3      0      0      0      0      0      0      0      0  \n",
       "4      0      0      0      0      0      0      0      0  \n",
       "\n",
       "[5 rows x 785 columns]"
      ]
     },
     "execution_count": 4,
     "metadata": {},
     "output_type": "execute_result"
    }
   ],
   "source": [
    "train.head()"
   ]
  },
  {
   "cell_type": "code",
   "execution_count": 5,
   "id": "fd689401",
   "metadata": {
    "execution": {
     "iopub.execute_input": "2021-11-12T12:50:29.322726Z",
     "iopub.status.busy": "2021-11-12T12:50:29.322149Z",
     "iopub.status.idle": "2021-11-12T12:50:32.509897Z",
     "shell.execute_reply": "2021-11-12T12:50:32.509388Z",
     "shell.execute_reply.started": "2021-11-10T16:35:02.823618Z"
    },
    "papermill": {
     "duration": 3.209686,
     "end_time": "2021-11-12T12:50:32.510033",
     "exception": false,
     "start_time": "2021-11-12T12:50:29.300347",
     "status": "completed"
    },
    "tags": []
   },
   "outputs": [],
   "source": [
    "X_train = train.drop('Category', axis = 1)\n",
    "y_train = train['Category']\n",
    "\n",
    "# threshold = 100\n",
    "# X_train[X_train<threshold] = 0\n",
    "# X_test = (test>threshold).astype('int')\n",
    "\n",
    "X_train /= 255\n",
    "X_test = test / 255\n",
    "    \n",
    "X_train = torch.FloatTensor(X_train.to_numpy()).reshape(-1,1, 28, 28).cuda()\n",
    "y_train = torch.LongTensor(y_train.to_numpy()).cuda()\n",
    "X_test = torch.FloatTensor(X_test.to_numpy()).reshape(-1,1, 28, 28).cuda()"
   ]
  },
  {
   "cell_type": "code",
   "execution_count": null,
   "id": "a001d954",
   "metadata": {
    "papermill": {
     "duration": 0.01676,
     "end_time": "2021-11-12T12:50:32.544129",
     "exception": false,
     "start_time": "2021-11-12T12:50:32.527369",
     "status": "completed"
    },
    "tags": []
   },
   "outputs": [],
   "source": []
  },
  {
   "cell_type": "code",
   "execution_count": 6,
   "id": "6874dc7f",
   "metadata": {
    "execution": {
     "iopub.execute_input": "2021-11-12T12:50:32.585128Z",
     "iopub.status.busy": "2021-11-12T12:50:32.584483Z",
     "iopub.status.idle": "2021-11-12T12:50:32.590528Z",
     "shell.execute_reply": "2021-11-12T12:50:32.590078Z",
     "shell.execute_reply.started": "2021-11-10T16:35:03.331957Z"
    },
    "papermill": {
     "duration": 0.029839,
     "end_time": "2021-11-12T12:50:32.590647",
     "exception": false,
     "start_time": "2021-11-12T12:50:32.560808",
     "status": "completed"
    },
    "tags": []
   },
   "outputs": [],
   "source": [
    "dataset = torch.utils.data.TensorDataset(X_train, y_train)\n",
    "dataloader = torch.utils.data.DataLoader(dataset = dataset,\n",
    "                                        batch_size = 20, #메모리 때문에 줄임\n",
    "                                        shuffle = True,\n",
    "                                        drop_last = True)\n",
    "n_batch = len(dataloader)\n",
    "\n",
    "test_dataset = torch.utils.data.TensorDataset(X_test, torch.zeros(X_test.shape[0])) # torch.utils.data.TensorDataset(X_test)로 하면 .repeat이 안됨.\n",
    "test_dataloader = torch.utils.data.DataLoader(dataset = test_dataset,\n",
    "                                        batch_size = 20, \n",
    "                                        shuffle = False,\n",
    "                                        drop_last = False)"
   ]
  },
  {
   "cell_type": "code",
   "execution_count": 7,
   "id": "68312c5b",
   "metadata": {
    "execution": {
     "iopub.execute_input": "2021-11-12T12:50:32.630855Z",
     "iopub.status.busy": "2021-11-12T12:50:32.629273Z",
     "iopub.status.idle": "2021-11-12T12:50:32.631527Z",
     "shell.execute_reply": "2021-11-12T12:50:32.631982Z"
    },
    "papermill": {
     "duration": 0.024842,
     "end_time": "2021-11-12T12:50:32.632115",
     "exception": false,
     "start_time": "2021-11-12T12:50:32.607273",
     "status": "completed"
    },
    "tags": []
   },
   "outputs": [],
   "source": [
    "def preprocess(X):\n",
    "#     preprocess = torch.nn.Sequential(transforms.Resize((299,299), interpolation = torchvision.transforms.InterpolationMode.NEAREST),\n",
    "#                                      transforms.CenterCrop)_\n",
    "#                                      transforms.Normalize(mean=[0.485, 0.456, 0.406], std=[0.229, 0.224, 0.225])).cuda()\n",
    "    out = X.repeat(1,3,1,1)\n",
    "    out = transforms.Resize((299,299), interpolation = transforms.InterpolationMode.NEAREST)(out) \n",
    "    out = transforms.CenterCrop(224)(out) \n",
    "    out = transforms.Normalize(mean=[0.485, 0.456, 0.406], std=[0.229, 0.224, 0.225])(out)\n",
    "    \n",
    "    return out"
   ]
  },
  {
   "cell_type": "code",
   "execution_count": 8,
   "id": "c78d27a7",
   "metadata": {
    "execution": {
     "iopub.execute_input": "2021-11-12T12:50:32.671478Z",
     "iopub.status.busy": "2021-11-12T12:50:32.670673Z",
     "iopub.status.idle": "2021-11-12T12:50:32.884317Z",
     "shell.execute_reply": "2021-11-12T12:50:32.883846Z",
     "shell.execute_reply.started": "2021-11-10T15:08:38.927977Z"
    },
    "papermill": {
     "duration": 0.234759,
     "end_time": "2021-11-12T12:50:32.884444",
     "exception": false,
     "start_time": "2021-11-12T12:50:32.649685",
     "status": "completed"
    },
    "tags": []
   },
   "outputs": [
    {
     "data": {
      "text/plain": [
       "<matplotlib.image.AxesImage at 0x7f0642bc6f50>"
      ]
     },
     "execution_count": 8,
     "metadata": {},
     "output_type": "execute_result"
    },
    {
     "data": {
      "image/png": "[encoded data removed]",
      "text/plain": [
       "<Figure size 432x288 with 1 Axes>"
      ]
     },
     "metadata": {
      "needs_background": "light"
     },
     "output_type": "display_data"
    }
   ],
   "source": [
    "#original\n",
    "import matplotlib.pyplot as plt\n",
    "r = random.randint(0, 10)\n",
    "X_single_data = X_train[r].float()\n",
    "plt.imshow(X_single_data.reshape(28,28).cpu())"
   ]
  },
  {
   "cell_type": "code",
   "execution_count": 9,
   "id": "389e6c33",
   "metadata": {
    "execution": {
     "iopub.execute_input": "2021-11-12T12:50:32.923752Z",
     "iopub.status.busy": "2021-11-12T12:50:32.923006Z",
     "iopub.status.idle": "2021-11-12T12:50:33.167791Z",
     "shell.execute_reply": "2021-11-12T12:50:33.168173Z",
     "shell.execute_reply.started": "2021-11-10T16:35:10.687274Z"
    },
    "papermill": {
     "duration": 0.266447,
     "end_time": "2021-11-12T12:50:33.168347",
     "exception": false,
     "start_time": "2021-11-12T12:50:32.901900",
     "status": "completed"
    },
    "tags": []
   },
   "outputs": [
    {
     "data": {
      "text/plain": [
       "<matplotlib.image.AxesImage at 0x7f0642c0ea90>"
      ]
     },
     "execution_count": 9,
     "metadata": {},
     "output_type": "execute_result"
    },
    {
     "data": {
      "image/png": "[encoded data removed]",
      "text/plain": [
       "<Figure size 432x288 with 1 Axes>"
      ]
     },
     "metadata": {
      "needs_background": "light"
     },
     "output_type": "display_data"
    }
   ],
   "source": [
    "# resized and cropped (성능 향상 됐음)\n",
    "X_single_data = X_train[r].float()\n",
    "plt.imshow(preprocess(X_single_data)[0][0].reshape(224,224).cpu())"
   ]
  },
  {
   "cell_type": "markdown",
   "id": "acdd1e40",
   "metadata": {
    "papermill": {
     "duration": 0.017828,
     "end_time": "2021-11-12T12:50:33.204711",
     "exception": false,
     "start_time": "2021-11-12T12:50:33.186883",
     "status": "completed"
    },
    "tags": []
   },
   "source": [
    "# 1 ResNet18, 50, 101 - 베이스라인 성능 도달 X"
   ]
  },
  {
   "cell_type": "code",
   "execution_count": 10,
   "id": "8abd8ca2",
   "metadata": {
    "execution": {
     "iopub.execute_input": "2021-11-12T12:50:33.252675Z",
     "iopub.status.busy": "2021-11-12T12:50:33.252080Z",
     "iopub.status.idle": "2021-11-12T13:03:05.357000Z",
     "shell.execute_reply": "2021-11-12T13:03:05.357661Z",
     "shell.execute_reply.started": "2021-11-10T15:50:07.246174Z"
    },
    "papermill": {
     "duration": 752.135361,
     "end_time": "2021-11-12T13:03:05.357866",
     "exception": false,
     "start_time": "2021-11-12T12:50:33.222505",
     "status": "completed"
    },
    "tags": []
   },
   "outputs": [
    {
     "name": "stderr",
     "output_type": "stream",
     "text": [
      "Downloading: \"https://download.pytorch.org/models/resnet18-f37072fd.pth\" to /root/.cache/torch/hub/checkpoints/resnet18-f37072fd.pth\n"
     ]
    },
    {
     "data": {
      "application/vnd.jupyter.widget-view+json": {
       "model_id": "4f40749329bf4815ae1b182b2aefb094",
       "version_major": 2,
       "version_minor": 0
      },
      "text/plain": [
       "  0%|          | 0.00/44.7M [00:00<?, ?B/s]"
      ]
     },
     "metadata": {},
     "output_type": "display_data"
    },
    {
     "name": "stdout",
     "output_type": "stream",
     "text": [
      "1 0.5155386972874403\n",
      "2 0.30049775826372205\n",
      "3 0.2672884688495348\n",
      "4 0.25522036602611964\n",
      "5 0.24220402648548287\n",
      "6 0.20942731110254922\n",
      "7 0.20886561917575697\n",
      "8 0.20630320604735364\n",
      "9 0.20462625359743833\n",
      "10 0.20728205798907826\n",
      "11 0.2014728368325159\n",
      "12 0.19949552207036564\n",
      "13 0.20241461133708558\n",
      "14 0.20168699780789515\n",
      "15 0.20137838541017844\n",
      "16 0.2004190231661002\n",
      "17 0.20052878713048994\n",
      "18 0.20223767889632532\n",
      "19 0.20148718560890605\n",
      "20 0.2031726372622264\n",
      "time: 12.427096875 m\n",
      "finish!\n"
     ]
    }
   ],
   "source": [
    "model = torchvision.models.resnet18(pretrained = True).cuda()\n",
    "\n",
    "model.fc.out_features = 10\n",
    "for param in model.parameters():\n",
    "    param.requires_grad = False\n",
    "for param in model.fc.parameters():\n",
    "    param.requires_grad = True\n",
    "\n",
    "torch.nn.init.xavier_normal_(model.fc.weight)\n",
    "        \n",
    "loss = torch.nn.CrossEntropyLoss().cuda()\n",
    "optimizer = torch.optim.Adam(model.parameters(), lr = 1e-3)\n",
    "scheduler = torch.optim.lr_scheduler.StepLR(optimizer, step_size=5, gamma=0.1) \n",
    "\n",
    "start = torch.cuda.Event(enable_timing=True)\n",
    "end = torch.cuda.Event(enable_timing=True)\n",
    "start.record()\n",
    "\n",
    "for epoch in range(20):\n",
    "    model.train()\n",
    "    avg_cost = 0\n",
    "    avg_acc = 0\n",
    "    for i, data in enumerate(dataloader):\n",
    "        X, Y = data[0], data[1]\n",
    "        h = model(preprocess(X))\n",
    "        cost = loss(h, Y)        \n",
    "        optimizer.zero_grad()\n",
    "        cost.backward()\n",
    "        optimizer.step()\n",
    "        avg_cost += cost.item()\n",
    "    print(epoch+1, (avg_cost/n_batch))\n",
    "    scheduler.step()\n",
    "    \n",
    "\n",
    "end.record()\n",
    "torch.cuda.synchronize()\n",
    "print(\"time:\", start.elapsed_time(end)/60000, \"m\")\n",
    "print(\"finish!\")"
   ]
  },
  {
   "cell_type": "code",
   "execution_count": 11,
   "id": "fd565f90",
   "metadata": {
    "execution": {
     "iopub.execute_input": "2021-11-12T13:03:05.412390Z",
     "iopub.status.busy": "2021-11-12T13:03:05.411827Z",
     "iopub.status.idle": "2021-11-12T13:03:11.294469Z",
     "shell.execute_reply": "2021-11-12T13:03:11.294873Z",
     "shell.execute_reply.started": "2021-11-10T16:32:28.539718Z"
    },
    "papermill": {
     "duration": 5.91198,
     "end_time": "2021-11-12T13:03:11.295026",
     "exception": false,
     "start_time": "2021-11-12T13:03:05.383046",
     "status": "completed"
    },
    "tags": []
   },
   "outputs": [
    {
     "data": {
      "text/html": [
       "<div>\n",
       "<style scoped>\n",
       "    .dataframe tbody tr th:only-of-type {\n",
       "        vertical-align: middle;\n",
       "    }\n",
       "\n",
       "    .dataframe tbody tr th {\n",
       "        vertical-align: top;\n",
       "    }\n",
       "\n",
       "    .dataframe thead th {\n",
       "        text-align: right;\n",
       "    }\n",
       "</style>\n",
       "<table border=\"1\" class=\"dataframe\">\n",
       "  <thead>\n",
       "    <tr style=\"text-align: right;\">\n",
       "      <th></th>\n",
       "      <th>Id</th>\n",
       "      <th>Category</th>\n",
       "    </tr>\n",
       "  </thead>\n",
       "  <tbody>\n",
       "    <tr>\n",
       "      <th>0</th>\n",
       "      <td>0</td>\n",
       "      <td>6</td>\n",
       "    </tr>\n",
       "    <tr>\n",
       "      <th>1</th>\n",
       "      <td>1</td>\n",
       "      <td>1</td>\n",
       "    </tr>\n",
       "    <tr>\n",
       "      <th>2</th>\n",
       "      <td>2</td>\n",
       "      <td>0</td>\n",
       "    </tr>\n",
       "    <tr>\n",
       "      <th>3</th>\n",
       "      <td>3</td>\n",
       "      <td>0</td>\n",
       "    </tr>\n",
       "    <tr>\n",
       "      <th>4</th>\n",
       "      <td>4</td>\n",
       "      <td>9</td>\n",
       "    </tr>\n",
       "    <tr>\n",
       "      <th>...</th>\n",
       "      <td>...</td>\n",
       "      <td>...</td>\n",
       "    </tr>\n",
       "    <tr>\n",
       "      <th>9995</th>\n",
       "      <td>9995</td>\n",
       "      <td>3</td>\n",
       "    </tr>\n",
       "    <tr>\n",
       "      <th>9996</th>\n",
       "      <td>9996</td>\n",
       "      <td>7</td>\n",
       "    </tr>\n",
       "    <tr>\n",
       "      <th>9997</th>\n",
       "      <td>9997</td>\n",
       "      <td>2</td>\n",
       "    </tr>\n",
       "    <tr>\n",
       "      <th>9998</th>\n",
       "      <td>9998</td>\n",
       "      <td>8</td>\n",
       "    </tr>\n",
       "    <tr>\n",
       "      <th>9999</th>\n",
       "      <td>9999</td>\n",
       "      <td>3</td>\n",
       "    </tr>\n",
       "  </tbody>\n",
       "</table>\n",
       "<p>10000 rows × 2 columns</p>\n",
       "</div>"
      ],
      "text/plain": [
       "        Id  Category\n",
       "0        0         6\n",
       "1        1         1\n",
       "2        2         0\n",
       "3        3         0\n",
       "4        4         9\n",
       "...    ...       ...\n",
       "9995  9995         3\n",
       "9996  9996         7\n",
       "9997  9997         2\n",
       "9998  9998         8\n",
       "9999  9999         3\n",
       "\n",
       "[10000 rows x 2 columns]"
      ]
     },
     "execution_count": 11,
     "metadata": {},
     "output_type": "execute_result"
    }
   ],
   "source": [
    "y_pred = []\n",
    "for xx, yy in test_dataloader:\n",
    "    model.eval()\n",
    "    h = model(preprocess(xx))\n",
    "    pred = torch.argmax(h, 1).cpu().detach().numpy()\n",
    "    y_pred.extend(pred)\n",
    "\n",
    "y_pred = np.array(y_pred)\n",
    "\n",
    "submit['Category'] = y_pred\n",
    "submit.to_csv(\"submission_ResNet18.csv\", mode='w', index=False)\n",
    "submit"
   ]
  },
  {
   "cell_type": "code",
   "execution_count": null,
   "id": "a53a21d5",
   "metadata": {
    "papermill": {
     "duration": 0.023991,
     "end_time": "2021-11-12T13:03:11.343775",
     "exception": false,
     "start_time": "2021-11-12T13:03:11.319784",
     "status": "completed"
    },
    "tags": []
   },
   "outputs": [],
   "source": []
  },
  {
   "cell_type": "markdown",
   "id": "dbf07e8c",
   "metadata": {
    "papermill": {
     "duration": 0.023695,
     "end_time": "2021-11-12T13:03:11.392269",
     "exception": false,
     "start_time": "2021-11-12T13:03:11.368574",
     "status": "completed"
    },
    "tags": []
   },
   "source": [
    "# 1-1. ResNet + New net"
   ]
  },
  {
   "cell_type": "code",
   "execution_count": 12,
   "id": "3581a045",
   "metadata": {
    "execution": {
     "iopub.execute_input": "2021-11-12T13:03:11.447983Z",
     "iopub.status.busy": "2021-11-12T13:03:11.447440Z",
     "iopub.status.idle": "2021-11-12T13:03:11.675416Z",
     "shell.execute_reply": "2021-11-12T13:03:11.674503Z",
     "shell.execute_reply.started": "2021-11-10T16:45:34.561108Z"
    },
    "papermill": {
     "duration": 0.259136,
     "end_time": "2021-11-12T13:03:11.675562",
     "exception": false,
     "start_time": "2021-11-12T13:03:11.416426",
     "status": "completed"
    },
    "tags": []
   },
   "outputs": [],
   "source": [
    "#trained model 가져오기 \n",
    "pretrained_model = torchvision.models.resnet18(pretrained = True).cuda()\n",
    "\n",
    "#freeze\n",
    "for param in pretrained_model.parameters():\n",
    "    param.requires_grad = False\n",
    "\n",
    "#학습 layer 추가 \n",
    "linear1 = torch.nn.Linear(1000, 512).cuda()\n",
    "linear2 = torch.nn.Linear(512, 128).cuda()\n",
    "linear3 = torch.nn.Linear(128, 10).cuda()\n",
    "torch.nn.init.xavier_normal_(linear1.weight)\n",
    "torch.nn.init.xavier_normal_(linear2.weight)\n",
    "torch.nn.init.xavier_normal_(linear3.weight)\n",
    "\n",
    "relu = torch.nn.ReLU()\n",
    "dropout = torch.nn.Dropout(p = 0.2)\n",
    "\n",
    "model = torch.nn.Sequential(pretrained_model, relu, #dropout,\n",
    "                            linear1, relu, #dropout,\n",
    "                            linear2, relu, #dropout,\n",
    "                           linear3).cuda()"
   ]
  },
  {
   "cell_type": "code",
   "execution_count": 13,
   "id": "c7916d91",
   "metadata": {
    "execution": {
     "iopub.execute_input": "2021-11-12T13:03:11.733570Z",
     "iopub.status.busy": "2021-11-12T13:03:11.732833Z",
     "iopub.status.idle": "2021-11-12T13:22:03.435684Z",
     "shell.execute_reply": "2021-11-12T13:22:03.436135Z",
     "shell.execute_reply.started": "2021-11-10T16:45:34.77145Z"
    },
    "papermill": {
     "duration": 1131.736339,
     "end_time": "2021-11-12T13:22:03.436330",
     "exception": false,
     "start_time": "2021-11-12T13:03:11.699991",
     "status": "completed"
    },
    "tags": []
   },
   "outputs": [
    {
     "name": "stdout",
     "output_type": "stream",
     "text": [
      "1 0.4898305079974234\n",
      "2 0.33056311516774195\n",
      "3 0.28163255634034673\n",
      "4 0.2539064952062132\n",
      "5 0.22637101222613515\n",
      "6 0.1664185693777593\n",
      "7 0.14902012736188772\n",
      "8 0.1380984110792124\n",
      "9 0.1281832710695841\n",
      "10 0.11905968038811018\n",
      "11 0.09122833255855949\n",
      "12 0.0849283867226671\n",
      "13 0.07658041834394923\n",
      "14 0.075815325112555\n",
      "15 0.07418542021554216\n",
      "16 0.06005407837339226\n",
      "17 0.054335694062655114\n",
      "18 0.05367215986181327\n",
      "19 0.05182974415011813\n",
      "20 0.05077765226958581\n",
      "21 0.04285763543063846\n",
      "22 0.04244900486770871\n",
      "23 0.04075676968535026\n",
      "24 0.04095278305804686\n",
      "25 0.0409674165417661\n",
      "26 0.03859972501617479\n",
      "27 0.033859342491262094\n",
      "28 0.035899735739821914\n",
      "29 0.034796962157030216\n",
      "30 0.03214064171702057\n",
      "time: 18.861245833333335 m\n",
      "finish!\n"
     ]
    }
   ],
   "source": [
    "loss = torch.nn.CrossEntropyLoss().cuda()\n",
    "optimizer = torch.optim.Adam(model.parameters(), lr = 1e-3)\n",
    "\n",
    "scheduler = torch.optim.lr_scheduler.StepLR(optimizer, step_size=5, gamma=0.5)\n",
    "# scheduler = torch.optim.lr_scheduler.ReduceLROnPlateau(optimizer)\n",
    "\n",
    "start = torch.cuda.Event(enable_timing=True)\n",
    "end = torch.cuda.Event(enable_timing=True)\n",
    "start.record()\n",
    "\n",
    "\n",
    "for epoch in range(30):\n",
    "    model.train()\n",
    "    avg_cost = 0\n",
    "    avg_acc = 0\n",
    "    for i, data in enumerate(dataloader):\n",
    "        X, Y = data[0], data[1]\n",
    "        h = model(preprocess(X))\n",
    "        cost = loss(h, Y)        \n",
    "        optimizer.zero_grad()\n",
    "        cost.backward()\n",
    "        optimizer.step()\n",
    "        avg_cost += cost.item()\n",
    "    print(epoch+1, (avg_cost/n_batch))\n",
    "    scheduler.step()\n",
    "    \n",
    "end.record()\n",
    "torch.cuda.synchronize()\n",
    "print(\"time:\", start.elapsed_time(end)/60000, \"m\")\n",
    "print(\"finish!\")"
   ]
  },
  {
   "cell_type": "code",
   "execution_count": 14,
   "id": "465c0c96",
   "metadata": {
    "execution": {
     "iopub.execute_input": "2021-11-12T13:22:03.505440Z",
     "iopub.status.busy": "2021-11-12T13:22:03.504653Z",
     "iopub.status.idle": "2021-11-12T13:22:09.460997Z",
     "shell.execute_reply": "2021-11-12T13:22:09.461428Z",
     "shell.execute_reply.started": "2021-11-10T17:04:41.34694Z"
    },
    "papermill": {
     "duration": 5.993567,
     "end_time": "2021-11-12T13:22:09.461599",
     "exception": false,
     "start_time": "2021-11-12T13:22:03.468032",
     "status": "completed"
    },
    "tags": []
   },
   "outputs": [
    {
     "data": {
      "text/html": [
       "<div>\n",
       "<style scoped>\n",
       "    .dataframe tbody tr th:only-of-type {\n",
       "        vertical-align: middle;\n",
       "    }\n",
       "\n",
       "    .dataframe tbody tr th {\n",
       "        vertical-align: top;\n",
       "    }\n",
       "\n",
       "    .dataframe thead th {\n",
       "        text-align: right;\n",
       "    }\n",
       "</style>\n",
       "<table border=\"1\" class=\"dataframe\">\n",
       "  <thead>\n",
       "    <tr style=\"text-align: right;\">\n",
       "      <th></th>\n",
       "      <th>Id</th>\n",
       "      <th>Category</th>\n",
       "    </tr>\n",
       "  </thead>\n",
       "  <tbody>\n",
       "    <tr>\n",
       "      <th>0</th>\n",
       "      <td>0</td>\n",
       "      <td>6</td>\n",
       "    </tr>\n",
       "    <tr>\n",
       "      <th>1</th>\n",
       "      <td>1</td>\n",
       "      <td>1</td>\n",
       "    </tr>\n",
       "    <tr>\n",
       "      <th>2</th>\n",
       "      <td>2</td>\n",
       "      <td>0</td>\n",
       "    </tr>\n",
       "    <tr>\n",
       "      <th>3</th>\n",
       "      <td>3</td>\n",
       "      <td>0</td>\n",
       "    </tr>\n",
       "    <tr>\n",
       "      <th>4</th>\n",
       "      <td>4</td>\n",
       "      <td>9</td>\n",
       "    </tr>\n",
       "    <tr>\n",
       "      <th>...</th>\n",
       "      <td>...</td>\n",
       "      <td>...</td>\n",
       "    </tr>\n",
       "    <tr>\n",
       "      <th>9995</th>\n",
       "      <td>9995</td>\n",
       "      <td>3</td>\n",
       "    </tr>\n",
       "    <tr>\n",
       "      <th>9996</th>\n",
       "      <td>9996</td>\n",
       "      <td>7</td>\n",
       "    </tr>\n",
       "    <tr>\n",
       "      <th>9997</th>\n",
       "      <td>9997</td>\n",
       "      <td>2</td>\n",
       "    </tr>\n",
       "    <tr>\n",
       "      <th>9998</th>\n",
       "      <td>9998</td>\n",
       "      <td>8</td>\n",
       "    </tr>\n",
       "    <tr>\n",
       "      <th>9999</th>\n",
       "      <td>9999</td>\n",
       "      <td>3</td>\n",
       "    </tr>\n",
       "  </tbody>\n",
       "</table>\n",
       "<p>10000 rows × 2 columns</p>\n",
       "</div>"
      ],
      "text/plain": [
       "        Id  Category\n",
       "0        0         6\n",
       "1        1         1\n",
       "2        2         0\n",
       "3        3         0\n",
       "4        4         9\n",
       "...    ...       ...\n",
       "9995  9995         3\n",
       "9996  9996         7\n",
       "9997  9997         2\n",
       "9998  9998         8\n",
       "9999  9999         3\n",
       "\n",
       "[10000 rows x 2 columns]"
      ]
     },
     "execution_count": 14,
     "metadata": {},
     "output_type": "execute_result"
    }
   ],
   "source": [
    "y_pred = []\n",
    "for xx, yy in test_dataloader:\n",
    "    model.eval()\n",
    "    h = model(preprocess(xx))\n",
    "    pred = torch.argmax(h, 1).cpu().detach().numpy()\n",
    "    y_pred.extend(pred)\n",
    "\n",
    "y_pred = np.array(y_pred)\n",
    "\n",
    "submit['Category'] = y_pred\n",
    "submit.to_csv(\"submission_ResNet18_additive.csv\", mode='w', index=False)\n",
    "submit"
   ]
  },
  {
   "cell_type": "code",
   "execution_count": 15,
   "id": "3d46815a",
   "metadata": {
    "execution": {
     "iopub.execute_input": "2021-11-12T13:22:09.534868Z",
     "iopub.status.busy": "2021-11-12T13:22:09.534023Z",
     "iopub.status.idle": "2021-11-12T13:22:09.732099Z",
     "shell.execute_reply": "2021-11-12T13:22:09.732664Z",
     "shell.execute_reply.started": "2021-11-10T17:09:06.702743Z"
    },
    "papermill": {
     "duration": 0.239051,
     "end_time": "2021-11-12T13:22:09.732824",
     "exception": false,
     "start_time": "2021-11-12T13:22:09.493773",
     "status": "completed"
    },
    "tags": []
   },
   "outputs": [
    {
     "data": {
      "text/plain": [
       "<matplotlib.image.AxesImage at 0x7f0643437890>"
      ]
     },
     "execution_count": 15,
     "metadata": {},
     "output_type": "execute_result"
    },
    {
     "data": {
      "image/png": "[encoded data removed]",
      "text/plain": [
       "<Figure size 432x288 with 1 Axes>"
      ]
     },
     "metadata": {
      "needs_background": "light"
     },
     "output_type": "display_data"
    }
   ],
   "source": [
    "X_single_data = X_test[0].float()\n",
    "plt.imshow(preprocess(X_single_data)[0][0].reshape(224,224).cpu())"
   ]
  },
  {
   "cell_type": "markdown",
   "id": "b1e2aba5",
   "metadata": {
    "papermill": {
     "duration": 0.033329,
     "end_time": "2021-11-12T13:22:09.799164",
     "exception": false,
     "start_time": "2021-11-12T13:22:09.765835",
     "status": "completed"
    },
    "tags": []
   },
   "source": [
    "# 1-3 Freeze 하지 않고, 전체 파라미터를 학습"
   ]
  },
  {
   "cell_type": "code",
   "execution_count": 16,
   "id": "16e5d7db",
   "metadata": {
    "execution": {
     "iopub.execute_input": "2021-11-12T13:22:09.873940Z",
     "iopub.status.busy": "2021-11-12T13:22:09.873071Z",
     "iopub.status.idle": "2021-11-12T13:22:10.078976Z",
     "shell.execute_reply": "2021-11-12T13:22:10.078474Z",
     "shell.execute_reply.started": "2021-11-10T17:12:01.49338Z"
    },
    "papermill": {
     "duration": 0.246023,
     "end_time": "2021-11-12T13:22:10.079110",
     "exception": false,
     "start_time": "2021-11-12T13:22:09.833087",
     "status": "completed"
    },
    "tags": []
   },
   "outputs": [],
   "source": [
    "#trained model 가져오기 \n",
    "pretrained_model = torchvision.models.resnet18(pretrained = True).cuda()\n",
    "for param in pretrained_model.parameters():\n",
    "    param.requires_grad = True\n",
    "\n",
    "#layer 추가 \n",
    "linear1 = torch.nn.Linear(1000, 512).cuda()\n",
    "linear2 = torch.nn.Linear(512, 128).cuda()\n",
    "linear3 = torch.nn.Linear(128, 10).cuda()\n",
    "torch.nn.init.xavier_normal_(linear1.weight)\n",
    "torch.nn.init.xavier_normal_(linear2.weight)\n",
    "torch.nn.init.xavier_normal_(linear3.weight)\n",
    "\n",
    "model = torch.nn.Sequential(pretrained_model, relu, #dropout,\n",
    "                            linear1, relu, #dropout,\n",
    "                            linear2, relu, #dropout,\n",
    "                           linear3).cuda()"
   ]
  },
  {
   "cell_type": "code",
   "execution_count": 17,
   "id": "55fec261",
   "metadata": {
    "execution": {
     "iopub.execute_input": "2021-11-12T13:22:10.155323Z",
     "iopub.status.busy": "2021-11-12T13:22:10.154566Z",
     "iopub.status.idle": "2021-11-12T13:42:27.230731Z",
     "shell.execute_reply": "2021-11-12T13:42:27.231238Z",
     "shell.execute_reply.started": "2021-11-10T17:12:01.921077Z"
    },
    "papermill": {
     "duration": 1217.119004,
     "end_time": "2021-11-12T13:42:27.231405",
     "exception": false,
     "start_time": "2021-11-12T13:22:10.112401",
     "status": "completed"
    },
    "tags": []
   },
   "outputs": [
    {
     "name": "stdout",
     "output_type": "stream",
     "text": [
      "1 0.1434678825468921\n",
      "2 0.07566356688660895\n",
      "3 0.058354611527146515\n",
      "4 0.04887761678969999\n",
      "5 0.042543478045861755\n",
      "6 0.02133413726156175\n",
      "7 0.017381713200713564\n",
      "8 0.015611365487400629\n",
      "9 0.014161313965708246\n",
      "10 0.013141799881407403\n",
      "time: 20.284091666666665 m\n",
      "finish!\n"
     ]
    }
   ],
   "source": [
    "loss = torch.nn.CrossEntropyLoss().cuda()\n",
    "optimizer = torch.optim.Adam(model.parameters(), lr = 1e-3)\n",
    "\n",
    "scheduler = torch.optim.lr_scheduler.StepLR(optimizer, step_size=5, gamma=0.5) \n",
    "# scheduler = torch.optim.lr_scheduler.ReduceLROnPlateau(optimizer)\n",
    "\n",
    "start = torch.cuda.Event(enable_timing=True)\n",
    "end = torch.cuda.Event(enable_timing=True)\n",
    "start.record()\n",
    "\n",
    "\n",
    "for epoch in range(10):\n",
    "    model.train()\n",
    "    avg_cost = 0\n",
    "    avg_acc = 0\n",
    "    for i, data in enumerate(dataloader):\n",
    "        X, Y = data[0], data[1]\n",
    "        h = model(preprocess(X))\n",
    "        cost = loss(h, Y)        \n",
    "        optimizer.zero_grad()\n",
    "        cost.backward()\n",
    "        optimizer.step()\n",
    "        avg_cost += cost.item()\n",
    "    print(epoch+1, (avg_cost/n_batch))\n",
    "    scheduler.step()\n",
    "    \n",
    "end.record()\n",
    "torch.cuda.synchronize()\n",
    "print(\"time:\", start.elapsed_time(end)/60000, \"m\")\n",
    "print(\"finish!\")"
   ]
  },
  {
   "cell_type": "code",
   "execution_count": 18,
   "id": "12adb083",
   "metadata": {
    "execution": {
     "iopub.execute_input": "2021-11-12T13:42:27.308807Z",
     "iopub.status.busy": "2021-11-12T13:42:27.307997Z",
     "iopub.status.idle": "2021-11-12T13:42:33.264115Z",
     "shell.execute_reply": "2021-11-12T13:42:33.263678Z"
    },
    "papermill": {
     "duration": 5.996915,
     "end_time": "2021-11-12T13:42:33.264265",
     "exception": false,
     "start_time": "2021-11-12T13:42:27.267350",
     "status": "completed"
    },
    "tags": []
   },
   "outputs": [
    {
     "data": {
      "text/html": [
       "<div>\n",
       "<style scoped>\n",
       "    .dataframe tbody tr th:only-of-type {\n",
       "        vertical-align: middle;\n",
       "    }\n",
       "\n",
       "    .dataframe tbody tr th {\n",
       "        vertical-align: top;\n",
       "    }\n",
       "\n",
       "    .dataframe thead th {\n",
       "        text-align: right;\n",
       "    }\n",
       "</style>\n",
       "<table border=\"1\" class=\"dataframe\">\n",
       "  <thead>\n",
       "    <tr style=\"text-align: right;\">\n",
       "      <th></th>\n",
       "      <th>Id</th>\n",
       "      <th>Category</th>\n",
       "    </tr>\n",
       "  </thead>\n",
       "  <tbody>\n",
       "    <tr>\n",
       "      <th>0</th>\n",
       "      <td>0</td>\n",
       "      <td>6</td>\n",
       "    </tr>\n",
       "    <tr>\n",
       "      <th>1</th>\n",
       "      <td>1</td>\n",
       "      <td>1</td>\n",
       "    </tr>\n",
       "    <tr>\n",
       "      <th>2</th>\n",
       "      <td>2</td>\n",
       "      <td>0</td>\n",
       "    </tr>\n",
       "    <tr>\n",
       "      <th>3</th>\n",
       "      <td>3</td>\n",
       "      <td>0</td>\n",
       "    </tr>\n",
       "    <tr>\n",
       "      <th>4</th>\n",
       "      <td>4</td>\n",
       "      <td>9</td>\n",
       "    </tr>\n",
       "    <tr>\n",
       "      <th>...</th>\n",
       "      <td>...</td>\n",
       "      <td>...</td>\n",
       "    </tr>\n",
       "    <tr>\n",
       "      <th>9995</th>\n",
       "      <td>9995</td>\n",
       "      <td>3</td>\n",
       "    </tr>\n",
       "    <tr>\n",
       "      <th>9996</th>\n",
       "      <td>9996</td>\n",
       "      <td>7</td>\n",
       "    </tr>\n",
       "    <tr>\n",
       "      <th>9997</th>\n",
       "      <td>9997</td>\n",
       "      <td>2</td>\n",
       "    </tr>\n",
       "    <tr>\n",
       "      <th>9998</th>\n",
       "      <td>9998</td>\n",
       "      <td>8</td>\n",
       "    </tr>\n",
       "    <tr>\n",
       "      <th>9999</th>\n",
       "      <td>9999</td>\n",
       "      <td>3</td>\n",
       "    </tr>\n",
       "  </tbody>\n",
       "</table>\n",
       "<p>10000 rows × 2 columns</p>\n",
       "</div>"
      ],
      "text/plain": [
       "        Id  Category\n",
       "0        0         6\n",
       "1        1         1\n",
       "2        2         0\n",
       "3        3         0\n",
       "4        4         9\n",
       "...    ...       ...\n",
       "9995  9995         3\n",
       "9996  9996         7\n",
       "9997  9997         2\n",
       "9998  9998         8\n",
       "9999  9999         3\n",
       "\n",
       "[10000 rows x 2 columns]"
      ]
     },
     "execution_count": 18,
     "metadata": {},
     "output_type": "execute_result"
    }
   ],
   "source": [
    "y_pred = []\n",
    "for xx, yy in test_dataloader:\n",
    "    model.eval()\n",
    "    h = model(preprocess(xx))\n",
    "    pred = torch.argmax(h, 1).cpu().detach().numpy()\n",
    "    y_pred.extend(pred)\n",
    "\n",
    "y_pred = np.array(y_pred)\n",
    "\n",
    "submit['Category'] = y_pred\n",
    "submit.to_csv(\"submission_ResNet18_train_entire.csv\", mode='w', index=False)\n",
    "submit"
   ]
  },
  {
   "cell_type": "code",
   "execution_count": null,
   "id": "4b2653ed",
   "metadata": {
    "papermill": {
     "duration": 0.035963,
     "end_time": "2021-11-12T13:42:33.337556",
     "exception": false,
     "start_time": "2021-11-12T13:42:33.301593",
     "status": "completed"
    },
    "tags": []
   },
   "outputs": [],
   "source": []
  }
 ],
 "metadata": {
  "kernelspec": {
   "display_name": "Python 3",
   "language": "python",
   "name": "python3"
  },
  "language_info": {
   "codemirror_mode": {
    "name": "ipython",
    "version": 3
   },
   "file_extension": ".py",
   "mimetype": "text/x-python",
   "name": "python",
   "nbconvert_exporter": "python",
   "pygments_lexer": "ipython3",
   "version": "3.7.10"
  },
  "papermill": {
   "default_parameters": {},
   "duration": 3140.081784,
   "end_time": "2021-11-12T13:42:34.689381",
   "environment_variables": {},
   "exception": null,
   "input_path": "__notebook__.ipynb",
   "output_path": "__notebook__.ipynb",
   "parameters": {},
   "start_time": "2021-11-12T12:50:14.607597",
   "version": "2.3.3"
  },
  "widgets": {
   "application/vnd.jupyter.widget-state+json": {
    "state": {
     "00b9d2b1f8ea47a7bc90fa6d5628eb4b": {
      "model_module": "@jupyter-widgets/base",
      "model_module_version": "1.2.0",
      "model_name": "LayoutModel",
      "state": {
       "_model_module": "@jupyter-widgets/base",
       "_model_module_version": "1.2.0",
       "_model_name": "LayoutModel",
       "_view_count": null,
       "_view_module": "@jupyter-widgets/base",
       "_view_module_version": "1.2.0",
       "_view_name": "LayoutView",
       "align_content": null,
       "align_items": null,
       "align_self": null,
       "border": null,
       "bottom": null,
       "display": null,
       "flex": null,
       "flex_flow": null,
       "grid_area": null,
       "grid_auto_columns": null,
       "grid_auto_flow": null,
       "grid_auto_rows": null,
       "grid_column": null,
       "grid_gap": null,
       "grid_row": null,
       "grid_template_areas": null,
       "grid_template_columns": null,
       "grid_template_rows": null,
       "height": null,
       "justify_content": null,
       "justify_items": null,
       "left": null,
       "margin": null,
       "max_height": null,
       "max_width": null,
       "min_height": null,
       "min_width": null,
       "object_fit": null,
       "object_position": null,
       "order": null,
       "overflow": null,
       "overflow_x": null,
       "overflow_y": null,
       "padding": null,
       "right": null,
       "top": null,
       "visibility": null,
       "width": null
      }
     },
     "29aa133f4de24c6bb80195857ec81c67": {
      "model_module": "@jupyter-widgets/controls",
      "model_module_version": "1.5.0",
      "model_name": "FloatProgressModel",
      "state": {
       "_dom_classes": [],
       "_model_module": "@jupyter-widgets/controls",
       "_model_module_version": "1.5.0",
       "_model_name": "FloatProgressModel",
       "_view_count": null,
       "_view_module": "@jupyter-widgets/controls",
       "_view_module_version": "1.5.0",
       "_view_name": "ProgressView",
       "bar_style": "success",
       "description": "",
       "description_tooltip": null,
       "layout": "IPY_MODEL_00b9d2b1f8ea47a7bc90fa6d5628eb4b",
       "max": 46830571.0,
       "min": 0.0,
       "orientation": "horizontal",
       "style": "IPY_MODEL_786508d268ab4e3f9d0a50790cc8c9b4",
       "value": 46830571.0
      }
     },
     "43d7155f2b8445cbbb3e346e8c4de5ca": {
      "model_module": "@jupyter-widgets/base",
      "model_module_version": "1.2.0",
      "model_name": "LayoutModel",
      "state": {
       "_model_module": "@jupyter-widgets/base",
       "_model_module_version": "1.2.0",
       "_model_name": "LayoutModel",
       "_view_count": null,
       "_view_module": "@jupyter-widgets/base",
       "_view_module_version": "1.2.0",
       "_view_name": "LayoutView",
       "align_content": null,
       "align_items": null,
       "align_self": null,
       "border": null,
       "bottom": null,
       "display": null,
       "flex": null,
       "flex_flow": null,
       "grid_area": null,
       "grid_auto_columns": null,
       "grid_auto_flow": null,
       "grid_auto_rows": null,
       "grid_column": null,
       "grid_gap": null,
       "grid_row": null,
       "grid_template_areas": null,
       "grid_template_columns": null,
       "grid_template_rows": null,
       "height": null,
       "justify_content": null,
       "justify_items": null,
       "left": null,
       "margin": null,
       "max_height": null,
       "max_width": null,
       "min_height": null,
       "min_width": null,
       "object_fit": null,
       "object_position": null,
       "order": null,
       "overflow": null,
       "overflow_x": null,
       "overflow_y": null,
       "padding": null,
       "right": null,
       "top": null,
       "visibility": null,
       "width": null
      }
     },
     "44ef2e4f333c4815a220c22297767517": {
      "model_module": "@jupyter-widgets/base",
      "model_module_version": "1.2.0",
      "model_name": "LayoutModel",
      "state": {
       "_model_module": "@jupyter-widgets/base",
       "_model_module_version": "1.2.0",
       "_model_name": "LayoutModel",
       "_view_count": null,
       "_view_module": "@jupyter-widgets/base",
       "_view_module_version": "1.2.0",
       "_view_name": "LayoutView",
       "align_content": null,
       "align_items": null,
       "align_self": null,
       "border": null,
       "bottom": null,
       "display": null,
       "flex": null,
       "flex_flow": null,
       "grid_area": null,
       "grid_auto_columns": null,
       "grid_auto_flow": null,
       "grid_auto_rows": null,
       "grid_column": null,
       "grid_gap": null,
       "grid_row": null,
       "grid_template_areas": null,
       "grid_template_columns": null,
       "grid_template_rows": null,
       "height": null,
       "justify_content": null,
       "justify_items": null,
       "left": null,
       "margin": null,
       "max_height": null,
       "max_width": null,
       "min_height": null,
       "min_width": null,
       "object_fit": null,
       "object_position": null,
       "order": null,
       "overflow": null,
       "overflow_x": null,
       "overflow_y": null,
       "padding": null,
       "right": null,
       "top": null,
       "visibility": null,
       "width": null
      }
     },
     "4f40749329bf4815ae1b182b2aefb094": {
      "model_module": "@jupyter-widgets/controls",
      "model_module_version": "1.5.0",
      "model_name": "HBoxModel",
      "state": {
       "_dom_classes": [],
       "_model_module": "@jupyter-widgets/controls",
       "_model_module_version": "1.5.0",
       "_model_name": "HBoxModel",
       "_view_count": null,
       "_view_module": "@jupyter-widgets/controls",
       "_view_module_version": "1.5.0",
       "_view_name": "HBoxView",
       "box_style": "",
       "children": [
        "IPY_MODEL_96577ad5228147e1b0958c834351709f",
        "IPY_MODEL_29aa133f4de24c6bb80195857ec81c67",
        "IPY_MODEL_d87b089a249a468b9a7ac2afeac1bf74"
       ],
       "layout": "IPY_MODEL_43d7155f2b8445cbbb3e346e8c4de5ca"
      }
     },
     "6862b8069bb54e4291a5fc658f9fa28d": {
      "model_module": "@jupyter-widgets/controls",
      "model_module_version": "1.5.0",
      "model_name": "DescriptionStyleModel",
      "state": {
       "_model_module": "@jupyter-widgets/controls",
       "_model_module_version": "1.5.0",
       "_model_name": "DescriptionStyleModel",
       "_view_count": null,
       "_view_module": "@jupyter-widgets/base",
       "_view_module_version": "1.2.0",
       "_view_name": "StyleView",
       "description_width": ""
      }
     },
     "786508d268ab4e3f9d0a50790cc8c9b4": {
      "model_module": "@jupyter-widgets/controls",
      "model_module_version": "1.5.0",
      "model_name": "ProgressStyleModel",
      "state": {
       "_model_module": "@jupyter-widgets/controls",
       "_model_module_version": "1.5.0",
       "_model_name": "ProgressStyleModel",
       "_view_count": null,
       "_view_module": "@jupyter-widgets/base",
       "_view_module_version": "1.2.0",
       "_view_name": "StyleView",
       "bar_color": null,
       "description_width": ""
      }
     },
     "96577ad5228147e1b0958c834351709f": {
      "model_module": "@jupyter-widgets/controls",
      "model_module_version": "1.5.0",
      "model_name": "HTMLModel",
      "state": {
       "_dom_classes": [],
       "_model_module": "@jupyter-widgets/controls",
       "_model_module_version": "1.5.0",
       "_model_name": "HTMLModel",
       "_view_count": null,
       "_view_module": "@jupyter-widgets/controls",
       "_view_module_version": "1.5.0",
       "_view_name": "HTMLView",
       "description": "",
       "description_tooltip": null,
       "layout": "IPY_MODEL_b884e40df7bf455c9550949db9a6564e",
       "placeholder": "​",
       "style": "IPY_MODEL_6862b8069bb54e4291a5fc658f9fa28d",
       "value": "100%"
      }
     },
     "b884e40df7bf455c9550949db9a6564e": {
      "model_module": "@jupyter-widgets/base",
      "model_module_version": "1.2.0",
      "model_name": "LayoutModel",
      "state": {
       "_model_module": "@jupyter-widgets/base",
       "_model_module_version": "1.2.0",
       "_model_name": "LayoutModel",
       "_view_count": null,
       "_view_module": "@jupyter-widgets/base",
       "_view_module_version": "1.2.0",
       "_view_name": "LayoutView",
       "align_content": null,
       "align_items": null,
       "align_self": null,
       "border": null,
       "bottom": null,
       "display": null,
       "flex": null,
       "flex_flow": null,
       "grid_area": null,
       "grid_auto_columns": null,
       "grid_auto_flow": null,
       "grid_auto_rows": null,
       "grid_column": null,
       "grid_gap": null,
       "grid_row": null,
       "grid_template_areas": null,
       "grid_template_columns": null,
       "grid_template_rows": null,
       "height": null,
       "justify_content": null,
       "justify_items": null,
       "left": null,
       "margin": null,
       "max_height": null,
       "max_width": null,
       "min_height": null,
       "min_width": null,
       "object_fit": null,
       "object_position": null,
       "order": null,
       "overflow": null,
       "overflow_x": null,
       "overflow_y": null,
       "padding": null,
       "right": null,
       "top": null,
       "visibility": null,
       "width": null
      }
     },
     "bd0209e65160434eab2bfe66a58f2cf5": {
      "model_module": "@jupyter-widgets/controls",
      "model_module_version": "1.5.0",
      "model_name": "DescriptionStyleModel",
      "state": {
       "_model_module": "@jupyter-widgets/controls",
       "_model_module_version": "1.5.0",
       "_model_name": "DescriptionStyleModel",
       "_view_count": null,
       "_view_module": "@jupyter-widgets/base",
       "_view_module_version": "1.2.0",
       "_view_name": "StyleView",
       "description_width": ""
      }
     },
     "d87b089a249a468b9a7ac2afeac1bf74": {
      "model_module": "@jupyter-widgets/controls",
      "model_module_version": "1.5.0",
      "model_name": "HTMLModel",
      "state": {
       "_dom_classes": [],
       "_model_module": "@jupyter-widgets/controls",
       "_model_module_version": "1.5.0",
       "_model_name": "HTMLModel",
       "_view_count": null,
       "_view_module": "@jupyter-widgets/controls",
       "_view_module_version": "1.5.0",
       "_view_name": "HTMLView",
       "description": "",
       "description_tooltip": null,
       "layout": "IPY_MODEL_44ef2e4f333c4815a220c22297767517",
       "placeholder": "​",
       "style": "IPY_MODEL_bd0209e65160434eab2bfe66a58f2cf5",
       "value": " 44.7M/44.7M [00:05&lt;00:00, 12.3MB/s]"
      }
     }
    },
    "version_major": 2,
    "version_minor": 0
   }
  }
 },
 "nbformat": 4,
 "nbformat_minor": 5
}
