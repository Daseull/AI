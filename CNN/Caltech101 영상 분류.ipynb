{
 "cells": [
  {
   "cell_type": "code",
   "execution_count": 1,
   "id": "9026ef88",
   "metadata": {
    "_cell_guid": "b1076dfc-b9ad-4769-8c92-a6c4dae69d19",
    "_uuid": "8f2839f25d086af736a60e9eeb907d3b93b6e0e5",
    "execution": {
     "iopub.execute_input": "2021-11-12T15:12:02.521165Z",
     "iopub.status.busy": "2021-11-12T15:12:02.520338Z",
     "iopub.status.idle": "2021-11-12T15:12:02.523734Z",
     "shell.execute_reply": "2021-11-12T15:12:02.523255Z",
     "shell.execute_reply.started": "2021-11-12T14:45:00.490014Z"
    },
    "papermill": {
     "duration": 0.036886,
     "end_time": "2021-11-12T15:12:02.523894",
     "exception": false,
     "start_time": "2021-11-12T15:12:02.487008",
     "status": "completed"
    },
    "tags": []
   },
   "outputs": [],
   "source": [
    "# This Python 3 environment comes with many helpful analytics libraries installed\n",
    "# It is defined by the kaggle/python Docker image: https://github.com/kaggle/docker-python\n",
    "# For example, here's several helpful packages to load\n",
    "\n",
    "import numpy as np # linear algebra\n",
    "import pandas as pd # data processing, CSV file I/O (e.g. pd.read_csv)\n",
    "\n",
    "# Input data files are available in the read-only \"../input/\" directory\n",
    "# For example, running this (by clicking run or pressing Shift+Enter) will list all files under the input directory\n",
    "\n",
    "import os\n",
    "# for dirname, _, filenames in os.walk('/kaggle/input'):\n",
    "#     for filename in filenames:\n",
    "#         print(os.path.join(dirname, filename))\n",
    "\n",
    "# You can write up to 20GB to the current directory (/kaggle/working/) that gets preserved as output when you create a version using \"Save & Run All\" \n",
    "# You can also write temporary files to /kaggle/temp/, but they won't be saved outside of the current session"
   ]
  },
  {
   "cell_type": "code",
   "execution_count": 2,
   "id": "75b07ca9",
   "metadata": {
    "execution": {
     "iopub.execute_input": "2021-11-12T15:12:02.572033Z",
     "iopub.status.busy": "2021-11-12T15:12:02.571357Z",
     "iopub.status.idle": "2021-11-12T15:12:29.896140Z",
     "shell.execute_reply": "2021-11-12T15:12:29.895266Z",
     "shell.execute_reply.started": "2021-11-12T14:45:02.516233Z"
    },
    "papermill": {
     "duration": 27.351709,
     "end_time": "2021-11-12T15:12:29.896297",
     "exception": false,
     "start_time": "2021-11-12T15:12:02.544588",
     "status": "completed"
    },
    "tags": []
   },
   "outputs": [
    {
     "name": "stdout",
     "output_type": "stream",
     "text": [
      "Found existing installation: opencv-python 4.5.4.58\r\n",
      "Uninstalling opencv-python-4.5.4.58:\r\n",
      "  Would remove:\r\n",
      "    /opt/conda/lib/python3.7/site-packages/cv2/*\r\n",
      "    /opt/conda/lib/python3.7/site-packages/opencv_python-4.5.4.58.dist-info/*\r\n",
      "    /opt/conda/lib/python3.7/site-packages/opencv_python.libs/libQt5Core-39545cc7.so.5.15.0\r\n",
      "    /opt/conda/lib/python3.7/site-packages/opencv_python.libs/libQt5Gui-ba0a2070.so.5.15.0\r\n",
      "    /opt/conda/lib/python3.7/site-packages/opencv_python.libs/libQt5Test-c38a5234.so.5.15.0\r\n",
      "    /opt/conda/lib/python3.7/site-packages/opencv_python.libs/libQt5Widgets-e69d94fb.so.5.15.0\r\n",
      "    /opt/conda/lib/python3.7/site-packages/opencv_python.libs/libQt5XcbQpa-ca221f44.so.5.15.0\r\n",
      "    /opt/conda/lib/python3.7/site-packages/opencv_python.libs/libX11-xcb-69166bdf.so.1.0.0\r\n",
      "    /opt/conda/lib/python3.7/site-packages/opencv_python.libs/libXau-00ec42fe.so.6.0.0\r\n",
      "    /opt/conda/lib/python3.7/site-packages/opencv_python.libs/libavcodec-64ac49e1.so.58.91.100\r\n",
      "    /opt/conda/lib/python3.7/site-packages/opencv_python.libs/libavformat-4b79e479.so.58.45.100\r\n",
      "    /opt/conda/lib/python3.7/site-packages/opencv_python.libs/libavutil-805734e8.so.56.51.100\r\n",
      "    /opt/conda/lib/python3.7/site-packages/opencv_python.libs/libbz2-a273e504.so.1.0.6\r\n",
      "    /opt/conda/lib/python3.7/site-packages/opencv_python.libs/libcrypto-018b8c17.so.1.1\r\n",
      "    /opt/conda/lib/python3.7/site-packages/opencv_python.libs/libfreetype-c0e61f0c.so.6.14.0\r\n",
      "    /opt/conda/lib/python3.7/site-packages/opencv_python.libs/libgfortran-91cc3cb1.so.3.0.0\r\n",
      "    /opt/conda/lib/python3.7/site-packages/opencv_python.libs/libopenblas-r0-f650aae0.3.3.so\r\n",
      "    /opt/conda/lib/python3.7/site-packages/opencv_python.libs/libpng15-ce838cd1.so.15.13.0\r\n",
      "    /opt/conda/lib/python3.7/site-packages/opencv_python.libs/libquadmath-96973f99.so.0.0.0\r\n",
      "    /opt/conda/lib/python3.7/site-packages/opencv_python.libs/libssl-6082116c.so.1.1\r\n",
      "    /opt/conda/lib/python3.7/site-packages/opencv_python.libs/libswresample-83ce3247.so.3.7.100\r\n",
      "    /opt/conda/lib/python3.7/site-packages/opencv_python.libs/libswscale-7e960168.so.5.7.100\r\n",
      "    /opt/conda/lib/python3.7/site-packages/opencv_python.libs/libvpx-392cd848.so.6.4.0\r\n",
      "    /opt/conda/lib/python3.7/site-packages/opencv_python.libs/libxcb-icccm-413c9f41.so.4.0.0\r\n",
      "    /opt/conda/lib/python3.7/site-packages/opencv_python.libs/libxcb-image-e82a276d.so.0.0.0\r\n",
      "    /opt/conda/lib/python3.7/site-packages/opencv_python.libs/libxcb-keysyms-21015570.so.1.0.0\r\n",
      "    /opt/conda/lib/python3.7/site-packages/opencv_python.libs/libxcb-randr-a96a5a87.so.0.1.0\r\n",
      "    /opt/conda/lib/python3.7/site-packages/opencv_python.libs/libxcb-render-637b984a.so.0.0.0\r\n",
      "    /opt/conda/lib/python3.7/site-packages/opencv_python.libs/libxcb-render-util-43ce00f5.so.0.0.0\r\n",
      "    /opt/conda/lib/python3.7/site-packages/opencv_python.libs/libxcb-shape-25c2b258.so.0.0.0\r\n",
      "    /opt/conda/lib/python3.7/site-packages/opencv_python.libs/libxcb-shm-7a199f70.so.0.0.0\r\n",
      "    /opt/conda/lib/python3.7/site-packages/opencv_python.libs/libxcb-sync-89374f40.so.1.0.0\r\n",
      "    /opt/conda/lib/python3.7/site-packages/opencv_python.libs/libxcb-util-4d666913.so.1.0.0\r\n",
      "    /opt/conda/lib/python3.7/site-packages/opencv_python.libs/libxcb-xfixes-9be3ba6f.so.0.0.0\r\n",
      "    /opt/conda/lib/python3.7/site-packages/opencv_python.libs/libxcb-xinerama-ae147f87.so.0.0.0\r\n",
      "    /opt/conda/lib/python3.7/site-packages/opencv_python.libs/libxcb-xkb-9ba31ab3.so.1.0.0\r\n",
      "    /opt/conda/lib/python3.7/site-packages/opencv_python.libs/libxkbcommon-71ae2972.so.0.0.0\r\n",
      "    /opt/conda/lib/python3.7/site-packages/opencv_python.libs/libxkbcommon-x11-c65ed502.so.0.0.0\r\n",
      "    /opt/conda/lib/python3.7/site-packages/opencv_python.libs/libz-745e0a09.so.1.2.7\r\n",
      "Proceed (Y/n)?   Successfully uninstalled opencv-python-4.5.4.58\r\n",
      "\u001b[33mWARNING: Running pip as the 'root' user can result in broken permissions and conflicting behaviour with the system package manager. It is recommended to use a virtual environment instead: https://pip.pypa.io/warnings/venv\u001b[0m\r\n",
      "yes: standard output: Broken pipe\r\n",
      "Found existing installation: opencv-contrib-python 4.5.4.58\r\n",
      "Uninstalling opencv-contrib-python-4.5.4.58:\r\n",
      "  Would remove:\r\n",
      "    /opt/conda/lib/python3.7/site-packages/opencv_contrib_python-4.5.4.58.dist-info/*\r\n",
      "    /opt/conda/lib/python3.7/site-packages/opencv_contrib_python.libs/libQt5Core-39545cc7.so.5.15.0\r\n",
      "    /opt/conda/lib/python3.7/site-packages/opencv_contrib_python.libs/libQt5Gui-ba0a2070.so.5.15.0\r\n",
      "    /opt/conda/lib/python3.7/site-packages/opencv_contrib_python.libs/libQt5Test-c38a5234.so.5.15.0\r\n",
      "    /opt/conda/lib/python3.7/site-packages/opencv_contrib_python.libs/libQt5Widgets-e69d94fb.so.5.15.0\r\n",
      "    /opt/conda/lib/python3.7/site-packages/opencv_contrib_python.libs/libQt5XcbQpa-ca221f44.so.5.15.0\r\n",
      "    /opt/conda/lib/python3.7/site-packages/opencv_contrib_python.libs/libX11-xcb-69166bdf.so.1.0.0\r\n",
      "    /opt/conda/lib/python3.7/site-packages/opencv_contrib_python.libs/libXau-00ec42fe.so.6.0.0\r\n",
      "    /opt/conda/lib/python3.7/site-packages/opencv_contrib_python.libs/libavcodec-64ac49e1.so.58.91.100\r\n",
      "    /opt/conda/lib/python3.7/site-packages/opencv_contrib_python.libs/libavformat-4b79e479.so.58.45.100\r\n",
      "    /opt/conda/lib/python3.7/site-packages/opencv_contrib_python.libs/libavutil-805734e8.so.56.51.100\r\n",
      "    /opt/conda/lib/python3.7/site-packages/opencv_contrib_python.libs/libbz2-a273e504.so.1.0.6\r\n",
      "    /opt/conda/lib/python3.7/site-packages/opencv_contrib_python.libs/libcrypto-018b8c17.so.1.1\r\n",
      "    /opt/conda/lib/python3.7/site-packages/opencv_contrib_python.libs/libfreetype-c0e61f0c.so.6.14.0\r\n",
      "    /opt/conda/lib/python3.7/site-packages/opencv_contrib_python.libs/libgfortran-91cc3cb1.so.3.0.0\r\n",
      "    /opt/conda/lib/python3.7/site-packages/opencv_contrib_python.libs/libopenblas-r0-f650aae0.3.3.so\r\n",
      "    /opt/conda/lib/python3.7/site-packages/opencv_contrib_python.libs/libpng15-ce838cd1.so.15.13.0\r\n",
      "    /opt/conda/lib/python3.7/site-packages/opencv_contrib_python.libs/libquadmath-96973f99.so.0.0.0\r\n",
      "    /opt/conda/lib/python3.7/site-packages/opencv_contrib_python.libs/libssl-6082116c.so.1.1\r\n",
      "    /opt/conda/lib/python3.7/site-packages/opencv_contrib_python.libs/libswresample-83ce3247.so.3.7.100\r\n",
      "    /opt/conda/lib/python3.7/site-packages/opencv_contrib_python.libs/libswscale-7e960168.so.5.7.100\r\n",
      "    /opt/conda/lib/python3.7/site-packages/opencv_contrib_python.libs/libvpx-392cd848.so.6.4.0\r\n",
      "    /opt/conda/lib/python3.7/site-packages/opencv_contrib_python.libs/libxcb-icccm-413c9f41.so.4.0.0\r\n",
      "    /opt/conda/lib/python3.7/site-packages/opencv_contrib_python.libs/libxcb-image-e82a276d.so.0.0.0\r\n",
      "    /opt/conda/lib/python3.7/site-packages/opencv_contrib_python.libs/libxcb-keysyms-21015570.so.1.0.0\r\n",
      "    /opt/conda/lib/python3.7/site-packages/opencv_contrib_python.libs/libxcb-randr-a96a5a87.so.0.1.0\r\n",
      "    /opt/conda/lib/python3.7/site-packages/opencv_contrib_python.libs/libxcb-render-637b984a.so.0.0.0\r\n",
      "    /opt/conda/lib/python3.7/site-packages/opencv_contrib_python.libs/libxcb-render-util-43ce00f5.so.0.0.0\r\n",
      "    /opt/conda/lib/python3.7/site-packages/opencv_contrib_python.libs/libxcb-shape-25c2b258.so.0.0.0\r\n",
      "    /opt/conda/lib/python3.7/site-packages/opencv_contrib_python.libs/libxcb-shm-7a199f70.so.0.0.0\r\n",
      "    /opt/conda/lib/python3.7/site-packages/opencv_contrib_python.libs/libxcb-sync-89374f40.so.1.0.0\r\n",
      "    /opt/conda/lib/python3.7/site-packages/opencv_contrib_python.libs/libxcb-util-4d666913.so.1.0.0\r\n",
      "    /opt/conda/lib/python3.7/site-packages/opencv_contrib_python.libs/libxcb-xfixes-9be3ba6f.so.0.0.0\r\n",
      "    /opt/conda/lib/python3.7/site-packages/opencv_contrib_python.libs/libxcb-xinerama-ae147f87.so.0.0.0\r\n",
      "    /opt/conda/lib/python3.7/site-packages/opencv_contrib_python.libs/libxcb-xkb-9ba31ab3.so.1.0.0\r\n",
      "    /opt/conda/lib/python3.7/site-packages/opencv_contrib_python.libs/libxkbcommon-71ae2972.so.0.0.0\r\n",
      "    /opt/conda/lib/python3.7/site-packages/opencv_contrib_python.libs/libxkbcommon-x11-c65ed502.so.0.0.0\r\n",
      "    /opt/conda/lib/python3.7/site-packages/opencv_contrib_python.libs/libz-745e0a09.so.1.2.7\r\n",
      "Proceed (Y/n)?   Successfully uninstalled opencv-contrib-python-4.5.4.58\r\n",
      "\u001b[33mWARNING: Running pip as the 'root' user can result in broken permissions and conflicting behaviour with the system package manager. It is recommended to use a virtual environment instead: https://pip.pypa.io/warnings/venv\u001b[0m\r\n",
      "yes: standard output: Broken pipe\r\n",
      "Collecting opencv-python==3.4.2.17\r\n",
      "  Downloading opencv_python-3.4.2.17-cp37-cp37m-manylinux1_x86_64.whl (25.0 MB)\r\n",
      "\u001b[K     |████████████████████████████████| 25.0 MB 24.8 MB/s \r\n",
      "\u001b[?25hRequirement already satisfied: numpy>=1.14.5 in /opt/conda/lib/python3.7/site-packages (from opencv-python==3.4.2.17) (1.19.5)\r\n",
      "Installing collected packages: opencv-python\r\n",
      "Successfully installed opencv-python-3.4.2.17\r\n",
      "\u001b[33mWARNING: Running pip as the 'root' user can result in broken permissions and conflicting behaviour with the system package manager. It is recommended to use a virtual environment instead: https://pip.pypa.io/warnings/venv\u001b[0m\r\n",
      "yes: standard output: Broken pipe\r\n",
      "Collecting opencv-contrib-python==3.4.2.17\r\n",
      "  Downloading opencv_contrib_python-3.4.2.17-cp37-cp37m-manylinux1_x86_64.whl (30.6 MB)\r\n",
      "\u001b[K     |████████████████████████████████| 30.6 MB 71.8 MB/s \r\n",
      "\u001b[?25hRequirement already satisfied: numpy>=1.14.5 in /opt/conda/lib/python3.7/site-packages (from opencv-contrib-python==3.4.2.17) (1.19.5)\r\n",
      "Installing collected packages: opencv-contrib-python\r\n",
      "\u001b[31mERROR: pip's dependency resolver does not currently take into account all the packages that are installed. This behaviour is the source of the following dependency conflicts.\r\n",
      "pointpats 2.2.0 requires opencv-contrib-python>=4.2.0, but you have opencv-contrib-python 3.4.2.17 which is incompatible.\u001b[0m\r\n",
      "Successfully installed opencv-contrib-python-3.4.2.17\r\n",
      "\u001b[33mWARNING: Running pip as the 'root' user can result in broken permissions and conflicting behaviour with the system package manager. It is recommended to use a virtual environment instead: https://pip.pypa.io/warnings/venv\u001b[0m\r\n",
      "yes: standard output: Broken pipe\r\n"
     ]
    }
   ],
   "source": [
    "# 현재 opencv 코드는 3.4.2.17 에 맞춰서 작성되어 있어 버전을 맞추는 작업이 필요하다. \n",
    "! yes | pip3 uninstall opencv-python\n",
    "! yes | pip3 uninstall opencv-contrib-python\n",
    "! yes | pip3 install opencv-python==3.4.2.17\n",
    "! yes | pip3 install opencv-contrib-python==3.4.2.17"
   ]
  },
  {
   "cell_type": "code",
   "execution_count": 3,
   "id": "0b457bf1",
   "metadata": {
    "execution": {
     "iopub.execute_input": "2021-11-12T15:12:30.007086Z",
     "iopub.status.busy": "2021-11-12T15:12:30.003823Z",
     "iopub.status.idle": "2021-11-12T15:12:30.065780Z",
     "shell.execute_reply": "2021-11-12T15:12:30.066312Z",
     "shell.execute_reply.started": "2021-11-12T14:45:27.740692Z"
    },
    "papermill": {
     "duration": 0.117513,
     "end_time": "2021-11-12T15:12:30.066567",
     "exception": false,
     "start_time": "2021-11-12T15:12:29.949054",
     "status": "completed"
    },
    "tags": []
   },
   "outputs": [
    {
     "data": {
      "text/plain": [
       "'3.4.2'"
      ]
     },
     "execution_count": 3,
     "metadata": {},
     "output_type": "execute_result"
    }
   ],
   "source": [
    "import cv2\n",
    "cv2.__version__"
   ]
  },
  {
   "cell_type": "code",
   "execution_count": 4,
   "id": "6eec35eb",
   "metadata": {
    "execution": {
     "iopub.execute_input": "2021-11-12T15:12:30.174948Z",
     "iopub.status.busy": "2021-11-12T15:12:30.174373Z",
     "iopub.status.idle": "2021-11-12T15:12:31.720934Z",
     "shell.execute_reply": "2021-11-12T15:12:31.721699Z",
     "shell.execute_reply.started": "2021-11-12T14:45:30.004576Z"
    },
    "papermill": {
     "duration": 1.602958,
     "end_time": "2021-11-12T15:12:31.721895",
     "exception": false,
     "start_time": "2021-11-12T15:12:30.118937",
     "status": "completed"
    },
    "tags": []
   },
   "outputs": [],
   "source": [
    "import os\n",
    "import numpy as np\n",
    "import pandas as pd\n",
    "from tqdm import tqdm\n",
    "import torch \n",
    "import torchvision\n",
    "import random\n",
    "\n",
    "random.seed(777)\n",
    "torch.manual_seed(777)\n",
    "torch.cuda.manual_seed_all(777)"
   ]
  },
  {
   "cell_type": "code",
   "execution_count": 5,
   "id": "217d54bc",
   "metadata": {
    "execution": {
     "iopub.execute_input": "2021-11-12T15:12:31.829632Z",
     "iopub.status.busy": "2021-11-12T15:12:31.829096Z",
     "iopub.status.idle": "2021-11-12T15:12:31.844955Z",
     "shell.execute_reply": "2021-11-12T15:12:31.845410Z",
     "shell.execute_reply.started": "2021-11-12T14:45:31.635354Z"
    },
    "papermill": {
     "duration": 0.07244,
     "end_time": "2021-11-12T15:12:31.845548",
     "exception": false,
     "start_time": "2021-11-12T15:12:31.773108",
     "status": "completed"
    },
    "tags": []
   },
   "outputs": [],
   "source": [
    "dataroot=\"/kaggle/input/2021-ai-w11-p1/\"\n",
    "csvpath=os.path.join(dataroot,\"Label2Names.csv\")\n",
    "df_data=pd.read_csv(csvpath,header=None)\n",
    "dataroottrain=os.path.join(dataroot,\"train_csv_v2\")\n",
    "dataroottest=os.path.join(dataroot,\"test_csv_v2\")"
   ]
  },
  {
   "cell_type": "code",
   "execution_count": 6,
   "id": "df982b9f",
   "metadata": {
    "execution": {
     "iopub.execute_input": "2021-11-12T15:12:31.961371Z",
     "iopub.status.busy": "2021-11-12T15:12:31.960584Z",
     "iopub.status.idle": "2021-11-12T15:12:31.962650Z",
     "shell.execute_reply": "2021-11-12T15:12:31.963064Z",
     "shell.execute_reply.started": "2021-11-12T14:45:37.550606Z"
    },
    "papermill": {
     "duration": 0.067105,
     "end_time": "2021-11-12T15:12:31.963198",
     "exception": false,
     "start_time": "2021-11-12T15:12:31.896093",
     "status": "completed"
    },
    "tags": []
   },
   "outputs": [],
   "source": [
    "import torch\n",
    "from torch.utils.data import Dataset\n",
    "from torch.utils.data import DataLoader\n",
    "\n",
    "class trainDataset(Dataset):\n",
    "    def __init__(self, dataroottrain):\n",
    "        \n",
    "        self.trainlabel=[]\n",
    "        self.trainpath=[]\n",
    "        for classname in tqdm(os.listdir(dataroottrain)):\n",
    "            ## class name to index\n",
    "            if classname ==\"BACKGROUND_Google\":\n",
    "                labelindex=102\n",
    "            else:\n",
    "                labelindex=(df_data.index[df_data[1]==classname]+1).tolist()[0]\n",
    "            \n",
    "            for csvname in os.listdir(os.path.join(dataroottrain,classname)):\n",
    "                self.trainlabel.append(labelindex-1)\n",
    "                ## 데이터 경로 저장 \n",
    "                csvpath=os.path.join(dataroottrain,classname,csvname)\n",
    "                self.trainpath.append(csvpath)\n",
    "\n",
    "    def __getitem__(self, idx):\n",
    "        ## index 에 해당하는 label 값 과 영상 데이터 받아오기 \n",
    "        csvpath=self.trainpath[idx]\n",
    "        label=self.trainlabel[idx]\n",
    "        ## 1D 데이터를 영상으로 변환 \n",
    "        img=np.array(pd.read_csv(csvpath)).reshape((256,256,3))\n",
    "        img=img.transpose((2,0,1))\n",
    "        ## numpy 데이터를 tensor 형태로 변환 \n",
    "        img=torch.from_numpy(img).float().cuda()\n",
    "        label=torch.tensor(label).cuda()\n",
    "        return img, label\n",
    "    \n",
    "    def __len__(self):\n",
    "        return len(self.trainpath)\n",
    "    \n",
    "class testDataset(Dataset):\n",
    "    def __init__(self, dataroottest):\n",
    "\n",
    "        self.testlabel=[]\n",
    "        self.testpath=[]\n",
    "        testsort=sorted(os.listdir(dataroottest))\n",
    "        for csvname in tqdm(testsort):\n",
    "            ## 영상 경로 저장 \n",
    "            csvpath=os.path.join(dataroottest,csvname)\n",
    "            self.testpath.append(csvpath)\n",
    "            self.testlabel.append(csvname)\n",
    "            \n",
    "    def __getitem__(self, idx):\n",
    "        csvpath=self.testpath[idx]\n",
    "        label=self.testlabel[idx]\n",
    "        ## 1D 데이터를 영상으로 변환 \n",
    "        img=np.array(pd.read_csv(csvpath)).reshape((256,256,3))\n",
    "        img=img.transpose((2,0,1))\n",
    "        ## numpy 데이터를 tensor 형태로 변환 \n",
    "        img=torch.from_numpy(img).float()\n",
    "\n",
    "        return img,label\n",
    "    \n",
    "    def __len__(self):\n",
    "        return len(self.testpath)"
   ]
  },
  {
   "cell_type": "code",
   "execution_count": 7,
   "id": "bc806210",
   "metadata": {
    "execution": {
     "iopub.execute_input": "2021-11-12T15:12:32.067942Z",
     "iopub.status.busy": "2021-11-12T15:12:32.067395Z",
     "iopub.status.idle": "2021-11-12T15:12:32.070899Z",
     "shell.execute_reply": "2021-11-12T15:12:32.070454Z",
     "shell.execute_reply.started": "2021-11-12T14:45:38.398548Z"
    },
    "papermill": {
     "duration": 0.057659,
     "end_time": "2021-11-12T15:12:32.071015",
     "exception": false,
     "start_time": "2021-11-12T15:12:32.013356",
     "status": "completed"
    },
    "tags": []
   },
   "outputs": [],
   "source": [
    "# import torchvision\n",
    "\n",
    "# transform_data = torchvision.transforms.Compose(\n",
    "#     [torchvision.transforms.Resize(224),\n",
    "#      torchvision.transforms.ToTensor(),\n",
    "#      torchvision.transforms.Normalize(mean=[0.485, 0.456, 0.406], std=[0.229, 0.224, 0.225]) ])"
   ]
  },
  {
   "cell_type": "code",
   "execution_count": 8,
   "id": "d4630bf4",
   "metadata": {
    "execution": {
     "iopub.execute_input": "2021-11-12T15:12:32.176284Z",
     "iopub.status.busy": "2021-11-12T15:12:32.175596Z",
     "iopub.status.idle": "2021-11-12T15:12:32.614269Z",
     "shell.execute_reply": "2021-11-12T15:12:32.614866Z",
     "shell.execute_reply.started": "2021-11-12T14:47:12.193983Z"
    },
    "papermill": {
     "duration": 0.493689,
     "end_time": "2021-11-12T15:12:32.615065",
     "exception": false,
     "start_time": "2021-11-12T15:12:32.121376",
     "status": "completed"
    },
    "tags": []
   },
   "outputs": [
    {
     "name": "stderr",
     "output_type": "stream",
     "text": [
      "100%|██████████| 102/102 [00:00<00:00, 283.27it/s]\n",
      "100%|██████████| 1712/1712 [00:00<00:00, 355653.71it/s]\n"
     ]
    }
   ],
   "source": [
    "train_data = trainDataset(dataroottrain)\n",
    "test_data = testDataset(dataroottest)\n",
    "train_loader = DataLoader(train_data, batch_size=16, shuffle=True)\n",
    "test_loader = DataLoader(test_data, batch_size=16, shuffle=False)\n",
    "\n",
    "n_batch = len(train_loader)"
   ]
  },
  {
   "cell_type": "code",
   "execution_count": 9,
   "id": "a812202f",
   "metadata": {
    "execution": {
     "iopub.execute_input": "2021-11-12T15:12:32.726477Z",
     "iopub.status.busy": "2021-11-12T15:12:32.725953Z",
     "iopub.status.idle": "2021-11-12T15:12:35.616142Z",
     "shell.execute_reply": "2021-11-12T15:12:35.615669Z",
     "shell.execute_reply.started": "2021-11-12T14:47:15.205222Z"
    },
    "papermill": {
     "duration": 2.947334,
     "end_time": "2021-11-12T15:12:35.616274",
     "exception": false,
     "start_time": "2021-11-12T15:12:32.668940",
     "status": "completed"
    },
    "tags": []
   },
   "outputs": [
    {
     "data": {
      "text/plain": [
       "torch.Size([3, 256, 256])"
      ]
     },
     "execution_count": 9,
     "metadata": {},
     "output_type": "execute_result"
    }
   ],
   "source": [
    "train_data[0][0] #img\n",
    "train_data[0][1].item() #label\n",
    "train_data[0][0].shape # [3, 256, 256]"
   ]
  },
  {
   "cell_type": "code",
   "execution_count": 10,
   "id": "5c4693c2",
   "metadata": {
    "execution": {
     "iopub.execute_input": "2021-11-12T15:12:35.737694Z",
     "iopub.status.busy": "2021-11-12T15:12:35.736931Z",
     "iopub.status.idle": "2021-11-12T15:14:01.724757Z",
     "shell.execute_reply": "2021-11-12T15:14:01.725253Z",
     "shell.execute_reply.started": "2021-11-12T14:47:18.308571Z"
    },
    "papermill": {
     "duration": 86.051222,
     "end_time": "2021-11-12T15:14:01.725410",
     "exception": false,
     "start_time": "2021-11-12T15:12:35.674188",
     "status": "completed"
    },
    "tags": []
   },
   "outputs": [
    {
     "data": {
      "text/plain": [
       "array([  0,   1,   2,   3,   4,   5,   6,   7,   8,   9,  10,  11,  12,\n",
       "        13,  14,  15,  16,  17,  18,  19,  20,  21,  22,  23,  24,  25,\n",
       "        26,  27,  28,  29,  30,  31,  32,  33,  34,  35,  36,  37,  38,\n",
       "        39,  40,  41,  42,  43,  44,  45,  46,  47,  48,  49,  50,  51,\n",
       "        52,  53,  54,  55,  56,  57,  58,  59,  60,  61,  62,  63,  64,\n",
       "        65,  66,  67,  68,  69,  70,  71,  72,  73,  74,  75,  76,  77,\n",
       "        78,  79,  80,  81,  82,  83,  84,  85,  86,  87,  88,  89,  90,\n",
       "        91,  92,  93,  94,  95,  96,  97,  98,  99, 100, 101])"
      ]
     },
     "execution_count": 10,
     "metadata": {},
     "output_type": "execute_result"
    }
   ],
   "source": [
    "l_label = []\n",
    "for i in range(len(train_data)):\n",
    "    l_label.append(train_data[i][1].item())\n",
    "np.unique(l_label)"
   ]
  },
  {
   "cell_type": "code",
   "execution_count": 11,
   "id": "645f2046",
   "metadata": {
    "execution": {
     "iopub.execute_input": "2021-11-12T15:14:01.838567Z",
     "iopub.status.busy": "2021-11-12T15:14:01.836964Z",
     "iopub.status.idle": "2021-11-12T15:14:01.839196Z",
     "shell.execute_reply": "2021-11-12T15:14:01.839606Z",
     "shell.execute_reply.started": "2021-11-12T14:48:40.364283Z"
    },
    "papermill": {
     "duration": 0.061012,
     "end_time": "2021-11-12T15:14:01.839734",
     "exception": false,
     "start_time": "2021-11-12T15:14:01.778722",
     "status": "completed"
    },
    "tags": []
   },
   "outputs": [],
   "source": [
    "def preprocess(X):\n",
    "    out = torchvision.transforms.Resize((224,224), torchvision.transforms.InterpolationMode.NEAREST)(X)\n",
    "    out = torchvision.transforms.Normalize(mean=[0.485, 0.456, 0.406], std=[0.229, 0.224, 0.225])(out)\n",
    "#     out = torchvision.transforms.Normalize((0.5, 0.5, 0.5), (0.5, 0.5, 0.5))(out)\n",
    "    return out"
   ]
  },
  {
   "cell_type": "code",
   "execution_count": 12,
   "id": "dee8ad58",
   "metadata": {
    "execution": {
     "iopub.execute_input": "2021-11-12T15:14:01.951098Z",
     "iopub.status.busy": "2021-11-12T15:14:01.950330Z",
     "iopub.status.idle": "2021-11-12T15:14:02.235685Z",
     "shell.execute_reply": "2021-11-12T15:14:02.236281Z",
     "shell.execute_reply.started": "2021-11-12T14:48:40.372184Z"
    },
    "papermill": {
     "duration": 0.343501,
     "end_time": "2021-11-12T15:14:02.236440",
     "exception": false,
     "start_time": "2021-11-12T15:14:01.892939",
     "status": "completed"
    },
    "tags": []
   },
   "outputs": [
    {
     "data": {
      "text/plain": [
       "<matplotlib.image.AxesImage at 0x7f127b150e50>"
      ]
     },
     "execution_count": 12,
     "metadata": {},
     "output_type": "execute_result"
    },
    {
     "data": {
      "image/png": "[encoded data removed]",
      "text/plain": [
       "<Figure size 432x288 with 1 Axes>"
      ]
     },
     "metadata": {
      "needs_background": "light"
     },
     "output_type": "display_data"
    }
   ],
   "source": [
    "import matplotlib.pyplot as plt\n",
    "tmp = torchvision.transforms.ToPILImage()(train_data[0][0].cpu())\n",
    "plt.imshow(np.asarray(tmp))"
   ]
  },
  {
   "cell_type": "code",
   "execution_count": 13,
   "id": "19259343",
   "metadata": {
    "execution": {
     "iopub.execute_input": "2021-11-12T15:14:02.404408Z",
     "iopub.status.busy": "2021-11-12T15:14:02.403653Z",
     "iopub.status.idle": "2021-11-12T15:14:02.683992Z",
     "shell.execute_reply": "2021-11-12T15:14:02.684424Z",
     "shell.execute_reply.started": "2021-11-12T14:38:02.042033Z"
    },
    "papermill": {
     "duration": 0.341968,
     "end_time": "2021-11-12T15:14:02.684575",
     "exception": false,
     "start_time": "2021-11-12T15:14:02.342607",
     "status": "completed"
    },
    "tags": []
   },
   "outputs": [
    {
     "data": {
      "text/plain": [
       "<matplotlib.image.AxesImage at 0x7f1278312850>"
      ]
     },
     "execution_count": 13,
     "metadata": {},
     "output_type": "execute_result"
    },
    {
     "data": {
      "image/png": "[encoded data removed]",
      "text/plain": [
       "<Figure size 432x288 with 1 Axes>"
      ]
     },
     "metadata": {
      "needs_background": "light"
     },
     "output_type": "display_data"
    }
   ],
   "source": [
    "tmp = torchvision.transforms.ToPILImage()(preprocess(train_data[0][0].cpu()))\n",
    "plt.imshow(np.asarray(tmp))"
   ]
  },
  {
   "cell_type": "markdown",
   "id": "77014a08",
   "metadata": {
    "papermill": {
     "duration": 0.062594,
     "end_time": "2021-11-12T15:14:02.809608",
     "exception": false,
     "start_time": "2021-11-12T15:14:02.747014",
     "status": "completed"
    },
    "tags": []
   },
   "source": [
    "# 학습"
   ]
  },
  {
   "cell_type": "code",
   "execution_count": 14,
   "id": "948c3eb1",
   "metadata": {
    "execution": {
     "iopub.execute_input": "2021-11-12T15:14:02.938077Z",
     "iopub.status.busy": "2021-11-12T15:14:02.937411Z",
     "iopub.status.idle": "2021-11-12T15:14:09.384871Z",
     "shell.execute_reply": "2021-11-12T15:14:09.385275Z",
     "shell.execute_reply.started": "2021-11-12T14:48:52.694261Z"
    },
    "papermill": {
     "duration": 6.514714,
     "end_time": "2021-11-12T15:14:09.385442",
     "exception": false,
     "start_time": "2021-11-12T15:14:02.870728",
     "status": "completed"
    },
    "tags": []
   },
   "outputs": [
    {
     "name": "stderr",
     "output_type": "stream",
     "text": [
      "Downloading: \"https://download.pytorch.org/models/resnet18-f37072fd.pth\" to /root/.cache/torch/hub/checkpoints/resnet18-f37072fd.pth\n"
     ]
    },
    {
     "data": {
      "application/vnd.jupyter.widget-view+json": {
       "model_id": "afaf0dba664f423793421ec90744543f",
       "version_major": 2,
       "version_minor": 0
      },
      "text/plain": [
       "  0%|          | 0.00/44.7M [00:00<?, ?B/s]"
      ]
     },
     "metadata": {},
     "output_type": "display_data"
    },
    {
     "name": "stdout",
     "output_type": "stream",
     "text": [
      "ResNet(\n",
      "  (conv1): Conv2d(3, 64, kernel_size=(7, 7), stride=(2, 2), padding=(3, 3), bias=False)\n",
      "  (bn1): BatchNorm2d(64, eps=1e-05, momentum=0.1, affine=True, track_running_stats=True)\n",
      "  (relu): ReLU(inplace=True)\n",
      "  (maxpool): MaxPool2d(kernel_size=3, stride=2, padding=1, dilation=1, ceil_mode=False)\n",
      "  (layer1): Sequential(\n",
      "    (0): BasicBlock(\n",
      "      (conv1): Conv2d(64, 64, kernel_size=(3, 3), stride=(1, 1), padding=(1, 1), bias=False)\n",
      "      (bn1): BatchNorm2d(64, eps=1e-05, momentum=0.1, affine=True, track_running_stats=True)\n",
      "      (relu): ReLU(inplace=True)\n",
      "      (conv2): Conv2d(64, 64, kernel_size=(3, 3), stride=(1, 1), padding=(1, 1), bias=False)\n",
      "      (bn2): BatchNorm2d(64, eps=1e-05, momentum=0.1, affine=True, track_running_stats=True)\n",
      "    )\n",
      "    (1): BasicBlock(\n",
      "      (conv1): Conv2d(64, 64, kernel_size=(3, 3), stride=(1, 1), padding=(1, 1), bias=False)\n",
      "      (bn1): BatchNorm2d(64, eps=1e-05, momentum=0.1, affine=True, track_running_stats=True)\n",
      "      (relu): ReLU(inplace=True)\n",
      "      (conv2): Conv2d(64, 64, kernel_size=(3, 3), stride=(1, 1), padding=(1, 1), bias=False)\n",
      "      (bn2): BatchNorm2d(64, eps=1e-05, momentum=0.1, affine=True, track_running_stats=True)\n",
      "    )\n",
      "  )\n",
      "  (layer2): Sequential(\n",
      "    (0): BasicBlock(\n",
      "      (conv1): Conv2d(64, 128, kernel_size=(3, 3), stride=(2, 2), padding=(1, 1), bias=False)\n",
      "      (bn1): BatchNorm2d(128, eps=1e-05, momentum=0.1, affine=True, track_running_stats=True)\n",
      "      (relu): ReLU(inplace=True)\n",
      "      (conv2): Conv2d(128, 128, kernel_size=(3, 3), stride=(1, 1), padding=(1, 1), bias=False)\n",
      "      (bn2): BatchNorm2d(128, eps=1e-05, momentum=0.1, affine=True, track_running_stats=True)\n",
      "      (downsample): Sequential(\n",
      "        (0): Conv2d(64, 128, kernel_size=(1, 1), stride=(2, 2), bias=False)\n",
      "        (1): BatchNorm2d(128, eps=1e-05, momentum=0.1, affine=True, track_running_stats=True)\n",
      "      )\n",
      "    )\n",
      "    (1): BasicBlock(\n",
      "      (conv1): Conv2d(128, 128, kernel_size=(3, 3), stride=(1, 1), padding=(1, 1), bias=False)\n",
      "      (bn1): BatchNorm2d(128, eps=1e-05, momentum=0.1, affine=True, track_running_stats=True)\n",
      "      (relu): ReLU(inplace=True)\n",
      "      (conv2): Conv2d(128, 128, kernel_size=(3, 3), stride=(1, 1), padding=(1, 1), bias=False)\n",
      "      (bn2): BatchNorm2d(128, eps=1e-05, momentum=0.1, affine=True, track_running_stats=True)\n",
      "    )\n",
      "  )\n",
      "  (layer3): Sequential(\n",
      "    (0): BasicBlock(\n",
      "      (conv1): Conv2d(128, 256, kernel_size=(3, 3), stride=(2, 2), padding=(1, 1), bias=False)\n",
      "      (bn1): BatchNorm2d(256, eps=1e-05, momentum=0.1, affine=True, track_running_stats=True)\n",
      "      (relu): ReLU(inplace=True)\n",
      "      (conv2): Conv2d(256, 256, kernel_size=(3, 3), stride=(1, 1), padding=(1, 1), bias=False)\n",
      "      (bn2): BatchNorm2d(256, eps=1e-05, momentum=0.1, affine=True, track_running_stats=True)\n",
      "      (downsample): Sequential(\n",
      "        (0): Conv2d(128, 256, kernel_size=(1, 1), stride=(2, 2), bias=False)\n",
      "        (1): BatchNorm2d(256, eps=1e-05, momentum=0.1, affine=True, track_running_stats=True)\n",
      "      )\n",
      "    )\n",
      "    (1): BasicBlock(\n",
      "      (conv1): Conv2d(256, 256, kernel_size=(3, 3), stride=(1, 1), padding=(1, 1), bias=False)\n",
      "      (bn1): BatchNorm2d(256, eps=1e-05, momentum=0.1, affine=True, track_running_stats=True)\n",
      "      (relu): ReLU(inplace=True)\n",
      "      (conv2): Conv2d(256, 256, kernel_size=(3, 3), stride=(1, 1), padding=(1, 1), bias=False)\n",
      "      (bn2): BatchNorm2d(256, eps=1e-05, momentum=0.1, affine=True, track_running_stats=True)\n",
      "    )\n",
      "  )\n",
      "  (layer4): Sequential(\n",
      "    (0): BasicBlock(\n",
      "      (conv1): Conv2d(256, 512, kernel_size=(3, 3), stride=(2, 2), padding=(1, 1), bias=False)\n",
      "      (bn1): BatchNorm2d(512, eps=1e-05, momentum=0.1, affine=True, track_running_stats=True)\n",
      "      (relu): ReLU(inplace=True)\n",
      "      (conv2): Conv2d(512, 512, kernel_size=(3, 3), stride=(1, 1), padding=(1, 1), bias=False)\n",
      "      (bn2): BatchNorm2d(512, eps=1e-05, momentum=0.1, affine=True, track_running_stats=True)\n",
      "      (downsample): Sequential(\n",
      "        (0): Conv2d(256, 512, kernel_size=(1, 1), stride=(2, 2), bias=False)\n",
      "        (1): BatchNorm2d(512, eps=1e-05, momentum=0.1, affine=True, track_running_stats=True)\n",
      "      )\n",
      "    )\n",
      "    (1): BasicBlock(\n",
      "      (conv1): Conv2d(512, 512, kernel_size=(3, 3), stride=(1, 1), padding=(1, 1), bias=False)\n",
      "      (bn1): BatchNorm2d(512, eps=1e-05, momentum=0.1, affine=True, track_running_stats=True)\n",
      "      (relu): ReLU(inplace=True)\n",
      "      (conv2): Conv2d(512, 512, kernel_size=(3, 3), stride=(1, 1), padding=(1, 1), bias=False)\n",
      "      (bn2): BatchNorm2d(512, eps=1e-05, momentum=0.1, affine=True, track_running_stats=True)\n",
      "    )\n",
      "  )\n",
      "  (avgpool): AdaptiveAvgPool2d(output_size=(1, 1))\n",
      "  (fc): Linear(in_features=512, out_features=1000, bias=True)\n",
      ")\n"
     ]
    }
   ],
   "source": [
    "# pretrained_model = torchvision.models.vgg19(pretrained = True).cuda()\n",
    "pretrained_model = torchvision.models.resnet18(pretrained = True).cuda()\n",
    "\n",
    "for param in pretrained_model.parameters():\n",
    "    param.requires_grad = False\n",
    "print(pretrained_model)"
   ]
  },
  {
   "cell_type": "code",
   "execution_count": 15,
   "id": "4a50055d",
   "metadata": {
    "execution": {
     "iopub.execute_input": "2021-11-12T15:14:09.516259Z",
     "iopub.status.busy": "2021-11-12T15:14:09.515507Z",
     "iopub.status.idle": "2021-11-12T15:14:09.525980Z",
     "shell.execute_reply": "2021-11-12T15:14:09.525533Z"
    },
    "papermill": {
     "duration": 0.078608,
     "end_time": "2021-11-12T15:14:09.526100",
     "exception": false,
     "start_time": "2021-11-12T15:14:09.447492",
     "status": "completed"
    },
    "tags": []
   },
   "outputs": [],
   "source": [
    "linear1 = torch.nn.Linear(1000, 256).cuda()\n",
    "linear2 = torch.nn.Linear(256, 128).cuda()\n",
    "linear3 = torch.nn.Linear(128, 102).cuda()\n",
    "\n",
    "torch.nn.init.xavier_normal_(linear1.weight)\n",
    "torch.nn.init.xavier_normal_(linear2.weight)\n",
    "torch.nn.init.xavier_normal_(linear3.weight)\n",
    "\n",
    "relu = torch.nn.ReLU()\n",
    "dropout = torch.nn.Dropout(p=0.2)\n",
    "\n",
    "model = torch.nn.Sequential(pretrained_model, #AvgPool,  \n",
    "                            linear1,relu, dropout,\n",
    "                            linear2, relu,dropout,\n",
    "                           linear3).cuda()"
   ]
  },
  {
   "cell_type": "code",
   "execution_count": 16,
   "id": "1bc05c5a",
   "metadata": {
    "execution": {
     "iopub.execute_input": "2021-11-12T15:14:09.658536Z",
     "iopub.status.busy": "2021-11-12T15:14:09.657905Z",
     "iopub.status.idle": "2021-11-12T16:51:06.774544Z",
     "shell.execute_reply": "2021-11-12T16:51:06.775009Z"
    },
    "papermill": {
     "duration": 5817.186409,
     "end_time": "2021-11-12T16:51:06.775157",
     "exception": false,
     "start_time": "2021-11-12T15:14:09.588748",
     "status": "completed"
    },
    "tags": []
   },
   "outputs": [
    {
     "name": "stdout",
     "output_type": "stream",
     "text": [
      "1 3.767024712637067\n",
      "2 2.112442341943582\n",
      "3 1.5577137886236112\n",
      "4 1.3388470492015283\n",
      "5 1.129792128611977\n",
      "6 0.9705571589681009\n",
      "7 0.9464046506521603\n",
      "8 0.9097136569519838\n",
      "9 0.7910328205131615\n",
      "10 0.7423803302614639\n",
      "11 0.6894207937875763\n",
      "12 0.679176273328873\n",
      "13 0.6218599247707365\n",
      "14 0.6443455084421051\n",
      "15 0.5782271148636937\n",
      "16 0.5649297077907249\n",
      "17 0.6197914546646643\n",
      "18 0.5095462692261208\n",
      "19 0.5106994135421701\n",
      "20 0.5199443667758411\n",
      "21 0.5125479758523094\n",
      "22 0.5487052495688355\n",
      "23 0.46742251864634454\n",
      "24 0.41335781751937856\n",
      "25 0.4781201149847523\n",
      "26 0.45396732312898774\n",
      "27 0.4809308233282839\n",
      "28 0.44336376477925415\n",
      "29 0.4290882999024082\n",
      "30 0.4314117020385311\n",
      "31 0.4569465671277915\n",
      "32 0.42288664783457836\n",
      "33 0.44819845477953396\n",
      "34 0.39063992236818496\n",
      "35 0.3720803958070367\n",
      "36 0.39939221481169324\n",
      "37 0.41468537794692867\n",
      "38 0.40932463968541316\n",
      "39 0.378184633475333\n",
      "40 0.45144082827391685\n",
      "41 0.40628403819937375\n",
      "42 0.4255409860209814\n",
      "43 0.3874239439804417\n",
      "44 0.40737381585131516\n",
      "45 0.2956944534480499\n",
      "46 0.29184119580691004\n",
      "47 0.4043044197193619\n",
      "48 0.3829169001734651\n",
      "49 0.38886709367458633\n",
      "50 0.3689815038657495\n",
      "51 0.36151729841852404\n",
      "52 0.4104645637210827\n",
      "53 0.3399260183844793\n",
      "54 0.33735781509434065\n",
      "55 0.34126440863959334\n",
      "56 0.3428060690039274\n",
      "57 0.34065032308080845\n",
      "58 0.32849411179449817\n",
      "59 0.3906906614114026\n",
      "60 0.3767797198512047\n",
      "61 0.38434273993637663\n",
      "62 0.34008543087192794\n",
      "63 0.3509070157700383\n",
      "64 0.341728838451066\n",
      "65 0.35917426168506\n",
      "66 0.35293905905353995\n",
      "67 0.33678148544792447\n",
      "68 0.335782843712271\n",
      "69 0.3182681759164249\n",
      "70 0.3273161448002308\n",
      "71 0.34793656863109845\n",
      "72 0.344419450731948\n",
      "73 0.3731499469934458\n",
      "74 0.29849708929638535\n",
      "75 0.3064857737740567\n",
      "76 0.3110389937543611\n",
      "77 0.34709638898887835\n",
      "78 0.34078173270216894\n",
      "79 0.3259678296047544\n",
      "80 0.3698587269144203\n",
      "81 0.27673480781140825\n",
      "82 0.279611551748341\n",
      "83 0.31574526546273773\n",
      "84 0.3174823263226851\n",
      "85 0.3029216170523341\n",
      "86 0.35788431933300063\n",
      "87 0.35000584837473525\n",
      "88 0.3369783161668162\n",
      "89 0.37935399095052463\n",
      "90 0.38745698242822374\n",
      "91 0.268492532924526\n",
      "92 0.31613807781574604\n",
      "93 0.3259532902910299\n",
      "94 0.3404271596817428\n",
      "95 0.26879347626929\n",
      "96 0.2743547316207848\n",
      "97 0.2947859886421611\n",
      "98 0.3391812807614656\n",
      "99 0.33957961526781827\n",
      "100 0.2984552486490581\n"
     ]
    }
   ],
   "source": [
    "loss = torch.nn.CrossEntropyLoss().cuda()\n",
    "optimizer = torch.optim.Adam(model.parameters(), lr = 1e-3)\n",
    "\n",
    "for epoch in range(100):\n",
    "    model.train()\n",
    "    avg_cost = 0\n",
    "    for data in train_loader:\n",
    "        #X, Y = data[0].cuda(), data[1].cuda()\n",
    "        X, Y = data[0], data[1]\n",
    "        h = model(preprocess(X))\n",
    "        cost = loss(h, Y)\n",
    "        \n",
    "        optimizer.zero_grad()\n",
    "        cost.backward()\n",
    "        optimizer.step()\n",
    "        avg_cost += cost.item()\n",
    "    print(epoch+1, avg_cost / n_batch)"
   ]
  },
  {
   "cell_type": "code",
   "execution_count": 17,
   "id": "3ddb3e48",
   "metadata": {
    "execution": {
     "iopub.execute_input": "2021-11-12T16:51:06.957781Z",
     "iopub.status.busy": "2021-11-12T16:51:06.957147Z",
     "iopub.status.idle": "2021-11-12T16:51:56.688231Z",
     "shell.execute_reply": "2021-11-12T16:51:56.687691Z"
    },
    "papermill": {
     "duration": 49.825184,
     "end_time": "2021-11-12T16:51:56.688363",
     "exception": false,
     "start_time": "2021-11-12T16:51:06.863179",
     "status": "completed"
    },
    "tags": []
   },
   "outputs": [],
   "source": [
    "y_pred = []\n",
    "with torch.no_grad():\n",
    "    model.eval()\n",
    "    for data in test_loader:\n",
    "        xx = data[0].cuda()\n",
    "        pred = torch.argmax(model(preprocess(xx)),1)\n",
    "        pred = pred.cpu().detach().numpy()\n",
    "        y_pred.extend(pred)\n",
    "        \n",
    "y_pred = np.array(y_pred)\n",
    "\n",
    "submit = pd.read_csv(\"/kaggle/input/2021-ai-w11-p1/submission.csv\")\n",
    "submit['Category'] = y_pred + 1\n",
    "submit.to_csv(\"submission1.csv\", mode =\"w\", index= False)"
   ]
  },
  {
   "cell_type": "code",
   "execution_count": null,
   "id": "a1d32910",
   "metadata": {
    "papermill": {
     "duration": 0.086066,
     "end_time": "2021-11-12T16:51:56.863891",
     "exception": false,
     "start_time": "2021-11-12T16:51:56.777825",
     "status": "completed"
    },
    "tags": []
   },
   "outputs": [],
   "source": []
  },
  {
   "cell_type": "code",
   "execution_count": 18,
   "id": "5aeb5053",
   "metadata": {
    "execution": {
     "iopub.execute_input": "2021-11-12T16:51:57.046472Z",
     "iopub.status.busy": "2021-11-12T16:51:57.045667Z",
     "iopub.status.idle": "2021-11-12T18:33:03.587769Z",
     "shell.execute_reply": "2021-11-12T18:33:03.588248Z"
    },
    "papermill": {
     "duration": 6066.637393,
     "end_time": "2021-11-12T18:33:03.588399",
     "exception": false,
     "start_time": "2021-11-12T16:51:56.951006",
     "status": "completed"
    },
    "tags": []
   },
   "outputs": [
    {
     "name": "stdout",
     "output_type": "stream",
     "text": [
      "1 3.7499433470269046\n",
      "2 2.1279157704363265\n",
      "3 1.5910231014713645\n",
      "4 1.2938408569122355\n",
      "5 1.0686925247622032\n",
      "6 0.993182482663542\n",
      "7 0.9037455443758518\n",
      "8 0.8144504334001491\n",
      "9 0.7741358682590848\n",
      "10 0.7667771013608823\n",
      "11 0.6711458998615853\n",
      "12 0.6636116151154662\n",
      "13 0.6074398669879884\n",
      "14 0.6445507147194197\n",
      "15 0.598627842652301\n",
      "16 0.5295495317744402\n",
      "17 0.5335360275736699\n",
      "18 0.5774091815692373\n",
      "19 0.5808098977043604\n",
      "20 0.49030918391266215\n",
      "21 0.43969312170520425\n",
      "22 0.4352410979166355\n",
      "23 0.47512110516739386\n",
      "24 0.5175290150897732\n",
      "25 0.44691826240644633\n",
      "26 0.39307228037311387\n",
      "27 0.46543673289124854\n",
      "28 0.4709411322255619\n",
      "29 0.4518676216963892\n",
      "30 0.417497701952622\n",
      "31 0.4020991270311545\n",
      "32 0.3996818966358357\n",
      "33 0.4018871029499375\n",
      "34 0.30020761570631294\n",
      "35 0.26875058057278994\n",
      "36 0.2263094884080298\n",
      "37 0.21534194356233152\n",
      "38 0.22708816065429951\n",
      "39 0.20226694335451612\n",
      "40 0.20411862904135583\n",
      "41 0.2124988939394825\n",
      "42 0.22181116078778965\n",
      "43 0.20489424404422607\n",
      "44 0.20787470775834058\n",
      "45 0.18505778509825177\n",
      "46 0.1269142018159073\n",
      "47 0.13287762050276797\n",
      "48 0.1570905230628341\n",
      "49 0.13147425565837997\n",
      "50 0.15716016971176336\n",
      "51 0.13476319658423108\n",
      "52 0.12067303303812575\n",
      "53 0.12285222483402929\n",
      "54 0.1533476135158859\n",
      "55 0.12374899621477198\n",
      "56 0.14566579341491584\n",
      "57 0.14609653931286934\n",
      "58 0.12178645912111581\n",
      "59 0.11384374206795655\n",
      "60 0.11326514040691411\n",
      "61 0.12408138146307124\n",
      "62 0.10942323053344201\n",
      "63 0.1120564302512624\n",
      "64 0.09670606812845033\n",
      "65 0.08475078990723735\n",
      "66 0.10345914294627316\n",
      "67 0.11123510650759272\n",
      "68 0.09000519042228916\n",
      "69 0.10030213882559262\n",
      "70 0.10516690607338812\n",
      "71 0.09008324241259895\n",
      "72 0.07356529789634199\n",
      "73 0.12505689000734796\n",
      "74 0.08877921919300509\n",
      "75 0.0868724194065938\n",
      "76 0.07991498374957473\n",
      "77 0.08071016497793455\n",
      "78 0.09261452189912234\n",
      "79 0.08067619439304963\n",
      "80 0.09754531563385171\n",
      "81 0.08614413012171458\n",
      "82 0.07504173041676647\n",
      "83 0.06821074519835217\n",
      "84 0.07131366139179818\n",
      "85 0.08090721516229375\n",
      "86 0.08750093425042375\n",
      "87 0.05947217720927256\n",
      "88 0.06791262540047664\n",
      "89 0.07651441415953286\n",
      "90 0.06643448921310362\n",
      "91 0.06744729706169512\n",
      "92 0.07412103395417564\n",
      "93 0.07319208178522747\n",
      "94 0.0853477904639135\n",
      "95 0.07597654908759448\n",
      "96 0.07401893219434896\n",
      "97 0.05129670889478651\n",
      "98 0.08334207234900266\n",
      "99 0.08061329257280174\n",
      "100 0.08012653567419648\n"
     ]
    }
   ],
   "source": [
    "torch.nn.init.xavier_normal_(linear1.weight)\n",
    "torch.nn.init.xavier_normal_(linear2.weight)\n",
    "torch.nn.init.xavier_normal_(linear3.weight)\n",
    "\n",
    "relu = torch.nn.ReLU()\n",
    "dropout = torch.nn.Dropout(p=0.2)\n",
    "\n",
    "model = torch.nn.Sequential(pretrained_model, #AvgPool,  \n",
    "                            linear1,relu, dropout,\n",
    "                            linear2, relu,dropout,\n",
    "                           linear3).cuda()\n",
    "\n",
    "loss = torch.nn.CrossEntropyLoss().cuda()\n",
    "optimizer = torch.optim.Adam(model.parameters(), lr = 1e-3)\n",
    "scheduler = torch.optim.lr_scheduler.ReduceLROnPlateau(optimizer, factor = 0.5)\n",
    "\n",
    "for epoch in range(100):\n",
    "    model.train()\n",
    "    avg_cost = 0\n",
    "    for data in train_loader:\n",
    "        #X, Y = data[0].cuda(), data[1].cuda()\n",
    "        X, Y = data[0], data[1]\n",
    "        h = model(preprocess(X))\n",
    "        cost = loss(h, Y)\n",
    "        \n",
    "        optimizer.zero_grad()\n",
    "        cost.backward()\n",
    "        optimizer.step()\n",
    "        avg_cost += cost.item()\n",
    "    print(epoch+1, avg_cost / n_batch)\n",
    "    \n",
    "    scheduler.step(cost)"
   ]
  },
  {
   "cell_type": "code",
   "execution_count": 19,
   "id": "2736c8bb",
   "metadata": {
    "execution": {
     "iopub.execute_input": "2021-11-12T18:33:03.819639Z",
     "iopub.status.busy": "2021-11-12T18:33:03.815922Z",
     "iopub.status.idle": "2021-11-12T18:33:39.762946Z",
     "shell.execute_reply": "2021-11-12T18:33:39.762398Z"
    },
    "papermill": {
     "duration": 36.062206,
     "end_time": "2021-11-12T18:33:39.763095",
     "exception": false,
     "start_time": "2021-11-12T18:33:03.700889",
     "status": "completed"
    },
    "tags": []
   },
   "outputs": [],
   "source": [
    "y_pred = []\n",
    "with torch.no_grad():\n",
    "    model.eval()\n",
    "    for data in test_loader:\n",
    "        xx = data[0].cuda()\n",
    "        pred = torch.argmax(model(preprocess(xx)),1)\n",
    "        pred = pred.cpu().detach().numpy()\n",
    "        y_pred.extend(pred)\n",
    "        \n",
    "y_pred = np.array(y_pred)\n",
    "\n",
    "submit = pd.read_csv(\"/kaggle/input/2021-ai-w11-p1/submission.csv\")\n",
    "submit['Category'] = y_pred + 1\n",
    "submit.to_csv(\"submission2.csv\", mode =\"w\", index= False)"
   ]
  },
  {
   "cell_type": "code",
   "execution_count": null,
   "id": "c03254a9",
   "metadata": {
    "papermill": {
     "duration": 0.113816,
     "end_time": "2021-11-12T18:33:39.991919",
     "exception": false,
     "start_time": "2021-11-12T18:33:39.878103",
     "status": "completed"
    },
    "tags": []
   },
   "outputs": [],
   "source": []
  },
  {
   "cell_type": "code",
   "execution_count": 20,
   "id": "6b68b003",
   "metadata": {
    "execution": {
     "iopub.execute_input": "2021-11-12T18:33:40.225791Z",
     "iopub.status.busy": "2021-11-12T18:33:40.225058Z",
     "iopub.status.idle": "2021-11-12T18:33:40.237365Z",
     "shell.execute_reply": "2021-11-12T18:33:40.236948Z",
     "shell.execute_reply.started": "2021-11-12T14:58:31.851735Z"
    },
    "papermill": {
     "duration": 0.132131,
     "end_time": "2021-11-12T18:33:40.237489",
     "exception": false,
     "start_time": "2021-11-12T18:33:40.105358",
     "status": "completed"
    },
    "tags": []
   },
   "outputs": [],
   "source": [
    "linear1 = torch.nn.Linear(1000, 512).cuda()\n",
    "linear2 = torch.nn.Linear(512, 512).cuda()\n",
    "linear4 = torch.nn.Linear(512, 128).cuda()\n",
    "linear5 = torch.nn.Linear(128, 128).cuda()\n",
    "linear3 = torch.nn.Linear(128, 102).cuda()\n",
    "\n",
    "\n",
    "torch.nn.init.xavier_normal_(linear1.weight)\n",
    "torch.nn.init.xavier_normal_(linear2.weight)\n",
    "torch.nn.init.xavier_normal_(linear3.weight)\n",
    "torch.nn.init.xavier_normal_(linear4.weight)\n",
    "torch.nn.init.xavier_normal_(linear5.weight)\n",
    "\n",
    "relu = torch.nn.ReLU()\n",
    "# AvgPool = torch.nn.AdaptiveAvgPool1d(512)\n",
    "dropout = torch.nn.Dropout(p=0.2)\n",
    "\n",
    "model = torch.nn.Sequential(pretrained_model, #AvgPool,  \n",
    "                            linear1,relu, dropout,\n",
    "                            linear2, relu,dropout,\n",
    "\n",
    "                            linear4, relu,dropout,\n",
    "                            linear5, relu,dropout,\n",
    "\n",
    "                           linear3).cuda()"
   ]
  },
  {
   "cell_type": "code",
   "execution_count": 21,
   "id": "e2906bb8",
   "metadata": {
    "execution": {
     "iopub.execute_input": "2021-11-12T18:33:40.470268Z",
     "iopub.status.busy": "2021-11-12T18:33:40.469629Z",
     "iopub.status.idle": "2021-11-12T20:14:42.756347Z",
     "shell.execute_reply": "2021-11-12T20:14:42.756792Z",
     "shell.execute_reply.started": "2021-11-12T14:58:34.871440Z"
    },
    "papermill": {
     "duration": 6062.406449,
     "end_time": "2021-11-12T20:14:42.756989",
     "exception": false,
     "start_time": "2021-11-12T18:33:40.350540",
     "status": "completed"
    },
    "tags": []
   },
   "outputs": [
    {
     "name": "stdout",
     "output_type": "stream",
     "text": [
      "1 4.376575668652852\n",
      "2 3.277958627169331\n",
      "3 2.62651685004433\n",
      "4 2.2534203163037696\n",
      "5 1.874758164708813\n",
      "6 1.7144703323331971\n",
      "7 1.4913478894159198\n",
      "8 1.3606736577736835\n",
      "9 1.2855851207859814\n",
      "10 1.1705698318158586\n",
      "11 1.168614718131721\n",
      "12 1.0649529835985352\n",
      "13 0.9987638307114443\n",
      "14 1.0010557503749926\n",
      "15 0.8661315191614752\n",
      "16 0.8830526456392059\n",
      "17 0.8832495856719712\n",
      "18 0.7863147100821758\n",
      "19 0.8278615289212515\n",
      "20 0.7555747060881307\n",
      "21 0.6915917332516983\n",
      "22 0.7146544127026573\n",
      "23 0.7390049505532564\n",
      "24 0.633550080897597\n",
      "25 0.708222065877635\n",
      "26 0.6152554748696275\n",
      "27 0.6269971980946139\n",
      "28 0.6543040835531428\n",
      "29 0.6677751014455376\n",
      "30 0.6196040608362333\n",
      "31 0.5585045442761233\n",
      "32 0.5617336685948734\n",
      "33 0.5739558718293362\n",
      "34 0.5671735153009649\n",
      "35 0.5287067538884003\n",
      "36 0.5756433811620809\n",
      "37 0.600675637627622\n",
      "38 0.4925451026016769\n",
      "39 0.6121103825571481\n",
      "40 0.5201566319738049\n",
      "41 0.5118148337399665\n",
      "42 0.4676244790753117\n",
      "43 0.4862070636736462\n",
      "44 0.45033444937022676\n",
      "45 0.47863323125663254\n",
      "46 0.4787348483174962\n",
      "47 0.4674152856969158\n",
      "48 0.4399630048198257\n",
      "49 0.4570714787502463\n",
      "50 0.49888191401563137\n",
      "51 0.5161347918055981\n",
      "52 0.4577463749871337\n",
      "53 0.4145435003635309\n",
      "54 0.45376998112381745\n",
      "55 0.4254725625417753\n",
      "56 0.39241984602146357\n",
      "57 0.4266389287889372\n",
      "58 0.4643435136774012\n",
      "59 0.41763998954820636\n",
      "60 0.4402525600404867\n",
      "61 0.46149274498141796\n",
      "62 0.44002376332324883\n",
      "63 0.4419879697034048\n",
      "64 0.4166372591056036\n",
      "65 0.3577398790803272\n",
      "66 0.4082449840255625\n",
      "67 0.4438626039606485\n",
      "68 0.4659227923242118\n",
      "69 0.3503539821613231\n",
      "70 0.5109366387841874\n",
      "71 0.4087204843197962\n",
      "72 0.42186596097074397\n",
      "73 0.4104072843680721\n",
      "74 0.3765137440232138\n",
      "75 0.32787622796483146\n",
      "76 0.44486802442255186\n",
      "77 0.4528713207388743\n",
      "78 0.29051292165786435\n",
      "79 0.38759834826426715\n",
      "80 0.4016741055167283\n",
      "81 0.3757487008241469\n",
      "82 0.3521638086859487\n",
      "83 0.42903679038363407\n",
      "84 0.40410034355530416\n",
      "85 0.3786327953604693\n",
      "86 0.42523686633884\n",
      "87 0.4046679086313816\n",
      "88 0.3570062081284959\n",
      "89 0.3555932029360018\n",
      "90 0.4600792156343232\n",
      "91 0.353927365823741\n",
      "92 0.44769513869800903\n",
      "93 0.40914546239923766\n",
      "94 0.3919733820827484\n",
      "95 0.3585163294234235\n",
      "96 0.423654528075834\n",
      "97 0.3704326176475661\n",
      "98 0.3024857169724176\n",
      "99 0.4720350340171535\n",
      "100 0.4038261788083825\n"
     ]
    }
   ],
   "source": [
    "loss = torch.nn.CrossEntropyLoss().cuda()\n",
    "optimizer = torch.optim.Adam(model.parameters(), lr = 1e-3)\n",
    "\n",
    "for epoch in range(100):\n",
    "    model.train()\n",
    "    avg_cost = 0\n",
    "    for data in train_loader:\n",
    "        #X, Y = data[0].cuda(), data[1].cuda()\n",
    "        X, Y = data[0], data[1]\n",
    "        h = model(preprocess(X))\n",
    "        cost = loss(h, Y)\n",
    "        \n",
    "        optimizer.zero_grad()\n",
    "        cost.backward()\n",
    "        optimizer.step()\n",
    "        avg_cost += cost.item()\n",
    "    print(epoch+1, avg_cost / n_batch)\n",
    "    \n"
   ]
  },
  {
   "cell_type": "code",
   "execution_count": 22,
   "id": "71961aa8",
   "metadata": {
    "execution": {
     "iopub.execute_input": "2021-11-12T20:14:43.040493Z",
     "iopub.status.busy": "2021-11-12T20:14:43.039635Z",
     "iopub.status.idle": "2021-11-12T20:15:15.912707Z",
     "shell.execute_reply": "2021-11-12T20:15:15.912216Z",
     "shell.execute_reply.started": "2021-11-12T04:16:38.818508Z"
    },
    "papermill": {
     "duration": 33.017312,
     "end_time": "2021-11-12T20:15:15.912862",
     "exception": false,
     "start_time": "2021-11-12T20:14:42.895550",
     "status": "completed"
    },
    "tags": []
   },
   "outputs": [],
   "source": [
    "y_pred = []\n",
    "with torch.no_grad():\n",
    "    model.eval()\n",
    "    for data in test_loader:\n",
    "        xx = data[0].cuda()\n",
    "        pred = torch.argmax(model(preprocess(xx)),1)\n",
    "        pred = pred.cpu().detach().numpy()\n",
    "        y_pred.extend(pred)\n",
    "        \n",
    "y_pred = np.array(y_pred)\n",
    "\n",
    "submit = pd.read_csv(\"/kaggle/input/2021-ai-w11-p1/submission.csv\")\n",
    "submit['Category'] = y_pred + 1\n",
    "submit.to_csv(\"submission3.csv\", mode =\"w\", index= False)"
   ]
  },
  {
   "cell_type": "code",
   "execution_count": null,
   "id": "1500f286",
   "metadata": {
    "execution": {
     "iopub.execute_input": "2021-11-12T04:18:48.887121Z",
     "iopub.status.busy": "2021-11-12T04:18:48.886860Z",
     "iopub.status.idle": "2021-11-12T04:18:48.903336Z",
     "shell.execute_reply": "2021-11-12T04:18:48.902642Z",
     "shell.execute_reply.started": "2021-11-12T04:18:48.887090Z"
    },
    "papermill": {
     "duration": 0.164549,
     "end_time": "2021-11-12T20:15:16.219564",
     "exception": false,
     "start_time": "2021-11-12T20:15:16.055015",
     "status": "completed"
    },
    "tags": []
   },
   "outputs": [],
   "source": []
  },
  {
   "cell_type": "code",
   "execution_count": 23,
   "id": "a133c95b",
   "metadata": {
    "execution": {
     "iopub.execute_input": "2021-11-12T20:15:16.542598Z",
     "iopub.status.busy": "2021-11-12T20:15:16.541685Z",
     "iopub.status.idle": "2021-11-12T21:56:04.765464Z",
     "shell.execute_reply": "2021-11-12T21:56:04.765926Z"
    },
    "papermill": {
     "duration": 6048.389557,
     "end_time": "2021-11-12T21:56:04.766081",
     "exception": false,
     "start_time": "2021-11-12T20:15:16.376524",
     "status": "completed"
    },
    "tags": []
   },
   "outputs": [
    {
     "name": "stdout",
     "output_type": "stream",
     "text": [
      "1 4.351960465312004\n",
      "2 3.1776655359814563\n",
      "3 2.499631065875292\n",
      "4 2.155936318139235\n",
      "5 1.8892600185548265\n",
      "6 1.6717538473506768\n",
      "7 1.482317680803438\n",
      "8 1.3632229088495176\n",
      "9 1.3095870148390532\n",
      "10 1.1925164740532637\n",
      "11 0.9483716348186135\n",
      "12 0.8429677901246274\n",
      "13 0.7366823525711274\n",
      "14 0.7422496307408437\n",
      "15 0.6640481452923268\n",
      "16 0.6571843499938647\n",
      "17 0.6238903205570144\n",
      "18 0.5308132536786919\n",
      "19 0.5526920847187284\n",
      "20 0.5320647192420438\n",
      "21 0.4271992458719372\n",
      "22 0.4074946309022683\n",
      "23 0.35897623938702355\n",
      "24 0.38325510238549515\n",
      "25 0.33098368588737986\n",
      "26 0.3397083188756369\n",
      "27 0.3103492273997593\n",
      "28 0.3240636458795052\n",
      "29 0.30750933130912017\n",
      "30 0.28982636210760876\n",
      "31 0.2681825278705219\n",
      "32 0.24327289802992405\n",
      "33 0.23419535746991946\n",
      "34 0.247780826241069\n",
      "35 0.22934120618629095\n",
      "36 0.24054891094419872\n",
      "37 0.21532471058192945\n",
      "38 0.21568235236190958\n",
      "39 0.22821166626332948\n",
      "40 0.2099380228391965\n",
      "41 0.20755135741759054\n",
      "42 0.211750430335087\n",
      "43 0.1900810980108266\n",
      "44 0.18066966249474112\n",
      "45 0.19055008843982554\n",
      "46 0.16146720247244653\n",
      "47 0.175452601800013\n",
      "48 0.18062225075573224\n",
      "49 0.17620073230439934\n",
      "50 0.15169642459356206\n",
      "51 0.1607281919198916\n",
      "52 0.16042846189869428\n",
      "53 0.2114489936972556\n",
      "54 0.16218517582092318\n",
      "55 0.16751090153782874\n",
      "56 0.1711699388585354\n",
      "57 0.16521063284168727\n",
      "58 0.15707828432035362\n",
      "59 0.1515863670501858\n",
      "60 0.14194631547889003\n",
      "61 0.15126173945585228\n",
      "62 0.1343380502476066\n",
      "63 0.13511462411285416\n",
      "64 0.1235098533582762\n",
      "65 0.147581979908864\n",
      "66 0.12613241305022407\n",
      "67 0.1501806026919136\n",
      "68 0.13587870992523676\n",
      "69 0.1272490670744446\n",
      "70 0.13937903589370157\n",
      "71 0.1437752839683526\n",
      "72 0.13638037982521686\n",
      "73 0.1577055106008629\n",
      "74 0.14168755380493772\n",
      "75 0.13290587292241676\n",
      "76 0.14123615030863826\n",
      "77 0.13308270096755828\n",
      "78 0.11959930547830784\n",
      "79 0.12664530267829832\n",
      "80 0.14463969024488202\n",
      "81 0.12786628449585655\n",
      "82 0.12312143444281294\n",
      "83 0.13955963840453478\n",
      "84 0.11159239055511232\n",
      "85 0.13129747351255597\n",
      "86 0.14476934521917428\n",
      "87 0.1319127555701319\n",
      "88 0.1391720512753333\n",
      "89 0.13391823565416416\n",
      "90 0.117187426513586\n",
      "91 0.1524214725153191\n",
      "92 0.1432901307589418\n",
      "93 0.1393490240728473\n",
      "94 0.14406956732174572\n",
      "95 0.1221364441090979\n",
      "96 0.1338117462964874\n",
      "97 0.1448059891918092\n",
      "98 0.14236137350841696\n",
      "99 0.13390989695562894\n",
      "100 0.14700710093021976\n"
     ]
    }
   ],
   "source": [
    "torch.nn.init.xavier_normal_(linear1.weight)\n",
    "torch.nn.init.xavier_normal_(linear2.weight)\n",
    "torch.nn.init.xavier_normal_(linear3.weight)\n",
    "torch.nn.init.xavier_normal_(linear4.weight)\n",
    "torch.nn.init.xavier_normal_(linear5.weight)\n",
    "\n",
    "relu = torch.nn.ReLU()\n",
    "# AvgPool = torch.nn.AdaptiveAvgPool1d(512)\n",
    "dropout = torch.nn.Dropout(p=0.2)\n",
    "\n",
    "model = torch.nn.Sequential(pretrained_model, #AvgPool,  \n",
    "                            linear1,relu, dropout,\n",
    "                            linear2, relu,dropout,\n",
    "\n",
    "                            linear4, relu,dropout,\n",
    "                            linear5, relu,dropout,\n",
    "\n",
    "                           linear3).cuda()\n",
    "\n",
    "loss = torch.nn.CrossEntropyLoss().cuda()\n",
    "optimizer = torch.optim.Adam(model.parameters(), lr = 1e-3)\n",
    "scheduler = torch.optim.lr_scheduler.StepLR(optimizer, step_size = 10, gamma = 0.5)\n",
    "# scheduler = torch.optim.lr_scheduler.ReduceLROnPlateau(optimizer, factor = 0.5)\n",
    "\n",
    "for epoch in range(100):\n",
    "    model.train()\n",
    "    avg_cost = 0\n",
    "    for data in train_loader:\n",
    "        #X, Y = data[0].cuda(), data[1].cuda()\n",
    "        X, Y = data[0], data[1]\n",
    "        h = model(preprocess(X))\n",
    "        cost = loss(h, Y)\n",
    "        \n",
    "        optimizer.zero_grad()\n",
    "        cost.backward()\n",
    "        optimizer.step()\n",
    "        avg_cost += cost.item()\n",
    "    print(epoch+1, avg_cost / n_batch)\n",
    "    \n",
    "    scheduler.step()"
   ]
  },
  {
   "cell_type": "code",
   "execution_count": 24,
   "id": "76cb94b2",
   "metadata": {
    "execution": {
     "iopub.execute_input": "2021-11-12T21:56:05.098130Z",
     "iopub.status.busy": "2021-11-12T21:56:05.097082Z",
     "iopub.status.idle": "2021-11-12T21:56:37.734385Z",
     "shell.execute_reply": "2021-11-12T21:56:37.734855Z"
    },
    "papermill": {
     "duration": 32.806278,
     "end_time": "2021-11-12T21:56:37.735040",
     "exception": false,
     "start_time": "2021-11-12T21:56:04.928762",
     "status": "completed"
    },
    "tags": []
   },
   "outputs": [],
   "source": [
    "y_pred = []\n",
    "with torch.no_grad():\n",
    "    model.eval()\n",
    "    for data in test_loader:\n",
    "        xx = data[0].cuda()\n",
    "        pred = torch.argmax(model(preprocess(xx)),1)\n",
    "        pred = pred.cpu().detach().numpy()\n",
    "        y_pred.extend(pred)\n",
    "        \n",
    "y_pred = np.array(y_pred)\n",
    "\n",
    "submit = pd.read_csv(\"/kaggle/input/2021-ai-w11-p1/submission.csv\")\n",
    "submit['Category'] = y_pred + 1\n",
    "submit.to_csv(\"submission4.csv\", mode =\"w\", index= False)"
   ]
  },
  {
   "cell_type": "code",
   "execution_count": null,
   "id": "cd5a0195",
   "metadata": {
    "papermill": {
     "duration": 0.167092,
     "end_time": "2021-11-12T21:56:38.065412",
     "exception": false,
     "start_time": "2021-11-12T21:56:37.898320",
     "status": "completed"
    },
    "tags": []
   },
   "outputs": [],
   "source": []
  },
  {
   "cell_type": "code",
   "execution_count": null,
   "id": "e3c8f119",
   "metadata": {
    "papermill": {
     "duration": 0.16457,
     "end_time": "2021-11-12T21:56:38.401267",
     "exception": false,
     "start_time": "2021-11-12T21:56:38.236697",
     "status": "completed"
    },
    "tags": []
   },
   "outputs": [],
   "source": []
  },
  {
   "cell_type": "code",
   "execution_count": null,
   "id": "28435729",
   "metadata": {
    "papermill": {
     "duration": 0.161942,
     "end_time": "2021-11-12T21:56:38.726539",
     "exception": false,
     "start_time": "2021-11-12T21:56:38.564597",
     "status": "completed"
    },
    "tags": []
   },
   "outputs": [],
   "source": []
  }
 ],
 "metadata": {
  "kernelspec": {
   "display_name": "Python 3",
   "language": "python",
   "name": "python3"
  },
  "language_info": {
   "codemirror_mode": {
    "name": "ipython",
    "version": 3
   },
   "file_extension": ".py",
   "mimetype": "text/x-python",
   "name": "python",
   "nbconvert_exporter": "python",
   "pygments_lexer": "ipython3",
   "version": "3.7.10"
  },
  "papermill": {
   "default_parameters": {},
   "duration": 24285.276186,
   "end_time": "2021-11-12T21:56:40.238948",
   "environment_variables": {},
   "exception": null,
   "input_path": "__notebook__.ipynb",
   "output_path": "__notebook__.ipynb",
   "parameters": {},
   "start_time": "2021-11-12T15:11:54.962762",
   "version": "2.3.3"
  },
  "widgets": {
   "application/vnd.jupyter.widget-state+json": {
    "state": {
     "4203cfed120242a5b4d4c2901ef3f925": {
      "model_module": "@jupyter-widgets/controls",
      "model_module_version": "1.5.0",
      "model_name": "ProgressStyleModel",
      "state": {
       "_model_module": "@jupyter-widgets/controls",
       "_model_module_version": "1.5.0",
       "_model_name": "ProgressStyleModel",
       "_view_count": null,
       "_view_module": "@jupyter-widgets/base",
       "_view_module_version": "1.2.0",
       "_view_name": "StyleView",
       "bar_color": null,
       "description_width": ""
      }
     },
     "7341440983b04cfeab87adfa81a0ea7c": {
      "model_module": "@jupyter-widgets/controls",
      "model_module_version": "1.5.0",
      "model_name": "DescriptionStyleModel",
      "state": {
       "_model_module": "@jupyter-widgets/controls",
       "_model_module_version": "1.5.0",
       "_model_name": "DescriptionStyleModel",
       "_view_count": null,
       "_view_module": "@jupyter-widgets/base",
       "_view_module_version": "1.2.0",
       "_view_name": "StyleView",
       "description_width": ""
      }
     },
     "8509569d2e014277a9748899b4ee4ca1": {
      "model_module": "@jupyter-widgets/controls",
      "model_module_version": "1.5.0",
      "model_name": "HTMLModel",
      "state": {
       "_dom_classes": [],
       "_model_module": "@jupyter-widgets/controls",
       "_model_module_version": "1.5.0",
       "_model_name": "HTMLModel",
       "_view_count": null,
       "_view_module": "@jupyter-widgets/controls",
       "_view_module_version": "1.5.0",
       "_view_name": "HTMLView",
       "description": "",
       "description_tooltip": null,
       "layout": "IPY_MODEL_8929e5866d784549a964a06193ca5045",
       "placeholder": "​",
       "style": "IPY_MODEL_b34f59c79b2841f3ae3f2a536ad2a4fd",
       "value": "100%"
      }
     },
     "8929e5866d784549a964a06193ca5045": {
      "model_module": "@jupyter-widgets/base",
      "model_module_version": "1.2.0",
      "model_name": "LayoutModel",
      "state": {
       "_model_module": "@jupyter-widgets/base",
       "_model_module_version": "1.2.0",
       "_model_name": "LayoutModel",
       "_view_count": null,
       "_view_module": "@jupyter-widgets/base",
       "_view_module_version": "1.2.0",
       "_view_name": "LayoutView",
       "align_content": null,
       "align_items": null,
       "align_self": null,
       "border": null,
       "bottom": null,
       "display": null,
       "flex": null,
       "flex_flow": null,
       "grid_area": null,
       "grid_auto_columns": null,
       "grid_auto_flow": null,
       "grid_auto_rows": null,
       "grid_column": null,
       "grid_gap": null,
       "grid_row": null,
       "grid_template_areas": null,
       "grid_template_columns": null,
       "grid_template_rows": null,
       "height": null,
       "justify_content": null,
       "justify_items": null,
       "left": null,
       "margin": null,
       "max_height": null,
       "max_width": null,
       "min_height": null,
       "min_width": null,
       "object_fit": null,
       "object_position": null,
       "order": null,
       "overflow": null,
       "overflow_x": null,
       "overflow_y": null,
       "padding": null,
       "right": null,
       "top": null,
       "visibility": null,
       "width": null
      }
     },
     "a937384d4f474e9884e095ea0feec786": {
      "model_module": "@jupyter-widgets/controls",
      "model_module_version": "1.5.0",
      "model_name": "HTMLModel",
      "state": {
       "_dom_classes": [],
       "_model_module": "@jupyter-widgets/controls",
       "_model_module_version": "1.5.0",
       "_model_name": "HTMLModel",
       "_view_count": null,
       "_view_module": "@jupyter-widgets/controls",
       "_view_module_version": "1.5.0",
       "_view_name": "HTMLView",
       "description": "",
       "description_tooltip": null,
       "layout": "IPY_MODEL_fec8074cf5084ddaa781a2ddb58bc032",
       "placeholder": "​",
       "style": "IPY_MODEL_7341440983b04cfeab87adfa81a0ea7c",
       "value": " 44.7M/44.7M [00:05&lt;00:00, 12.6MB/s]"
      }
     },
     "a963822a7c25443390465dd05f6ee579": {
      "model_module": "@jupyter-widgets/base",
      "model_module_version": "1.2.0",
      "model_name": "LayoutModel",
      "state": {
       "_model_module": "@jupyter-widgets/base",
       "_model_module_version": "1.2.0",
       "_model_name": "LayoutModel",
       "_view_count": null,
       "_view_module": "@jupyter-widgets/base",
       "_view_module_version": "1.2.0",
       "_view_name": "LayoutView",
       "align_content": null,
       "align_items": null,
       "align_self": null,
       "border": null,
       "bottom": null,
       "display": null,
       "flex": null,
       "flex_flow": null,
       "grid_area": null,
       "grid_auto_columns": null,
       "grid_auto_flow": null,
       "grid_auto_rows": null,
       "grid_column": null,
       "grid_gap": null,
       "grid_row": null,
       "grid_template_areas": null,
       "grid_template_columns": null,
       "grid_template_rows": null,
       "height": null,
       "justify_content": null,
       "justify_items": null,
       "left": null,
       "margin": null,
       "max_height": null,
       "max_width": null,
       "min_height": null,
       "min_width": null,
       "object_fit": null,
       "object_position": null,
       "order": null,
       "overflow": null,
       "overflow_x": null,
       "overflow_y": null,
       "padding": null,
       "right": null,
       "top": null,
       "visibility": null,
       "width": null
      }
     },
     "afaf0dba664f423793421ec90744543f": {
      "model_module": "@jupyter-widgets/controls",
      "model_module_version": "1.5.0",
      "model_name": "HBoxModel",
      "state": {
       "_dom_classes": [],
       "_model_module": "@jupyter-widgets/controls",
       "_model_module_version": "1.5.0",
       "_model_name": "HBoxModel",
       "_view_count": null,
       "_view_module": "@jupyter-widgets/controls",
       "_view_module_version": "1.5.0",
       "_view_name": "HBoxView",
       "box_style": "",
       "children": [
        "IPY_MODEL_8509569d2e014277a9748899b4ee4ca1",
        "IPY_MODEL_c4c41c72e66940bab2c435b0a6ffe0c5",
        "IPY_MODEL_a937384d4f474e9884e095ea0feec786"
       ],
       "layout": "IPY_MODEL_a963822a7c25443390465dd05f6ee579"
      }
     },
     "b17c0a0748954f35a32adebcaf075817": {
      "model_module": "@jupyter-widgets/base",
      "model_module_version": "1.2.0",
      "model_name": "LayoutModel",
      "state": {
       "_model_module": "@jupyter-widgets/base",
       "_model_module_version": "1.2.0",
       "_model_name": "LayoutModel",
       "_view_count": null,
       "_view_module": "@jupyter-widgets/base",
       "_view_module_version": "1.2.0",
       "_view_name": "LayoutView",
       "align_content": null,
       "align_items": null,
       "align_self": null,
       "border": null,
       "bottom": null,
       "display": null,
       "flex": null,
       "flex_flow": null,
       "grid_area": null,
       "grid_auto_columns": null,
       "grid_auto_flow": null,
       "grid_auto_rows": null,
       "grid_column": null,
       "grid_gap": null,
       "grid_row": null,
       "grid_template_areas": null,
       "grid_template_columns": null,
       "grid_template_rows": null,
       "height": null,
       "justify_content": null,
       "justify_items": null,
       "left": null,
       "margin": null,
       "max_height": null,
       "max_width": null,
       "min_height": null,
       "min_width": null,
       "object_fit": null,
       "object_position": null,
       "order": null,
       "overflow": null,
       "overflow_x": null,
       "overflow_y": null,
       "padding": null,
       "right": null,
       "top": null,
       "visibility": null,
       "width": null
      }
     },
     "b34f59c79b2841f3ae3f2a536ad2a4fd": {
      "model_module": "@jupyter-widgets/controls",
      "model_module_version": "1.5.0",
      "model_name": "DescriptionStyleModel",
      "state": {
       "_model_module": "@jupyter-widgets/controls",
       "_model_module_version": "1.5.0",
       "_model_name": "DescriptionStyleModel",
       "_view_count": null,
       "_view_module": "@jupyter-widgets/base",
       "_view_module_version": "1.2.0",
       "_view_name": "StyleView",
       "description_width": ""
      }
     },
     "c4c41c72e66940bab2c435b0a6ffe0c5": {
      "model_module": "@jupyter-widgets/controls",
      "model_module_version": "1.5.0",
      "model_name": "FloatProgressModel",
      "state": {
       "_dom_classes": [],
       "_model_module": "@jupyter-widgets/controls",
       "_model_module_version": "1.5.0",
       "_model_name": "FloatProgressModel",
       "_view_count": null,
       "_view_module": "@jupyter-widgets/controls",
       "_view_module_version": "1.5.0",
       "_view_name": "ProgressView",
       "bar_style": "success",
       "description": "",
       "description_tooltip": null,
       "layout": "IPY_MODEL_b17c0a0748954f35a32adebcaf075817",
       "max": 46830571.0,
       "min": 0.0,
       "orientation": "horizontal",
       "style": "IPY_MODEL_4203cfed120242a5b4d4c2901ef3f925",
       "value": 46830571.0
      }
     },
     "fec8074cf5084ddaa781a2ddb58bc032": {
      "model_module": "@jupyter-widgets/base",
      "model_module_version": "1.2.0",
      "model_name": "LayoutModel",
      "state": {
       "_model_module": "@jupyter-widgets/base",
       "_model_module_version": "1.2.0",
       "_model_name": "LayoutModel",
       "_view_count": null,
       "_view_module": "@jupyter-widgets/base",
       "_view_module_version": "1.2.0",
       "_view_name": "LayoutView",
       "align_content": null,
       "align_items": null,
       "align_self": null,
       "border": null,
       "bottom": null,
       "display": null,
       "flex": null,
       "flex_flow": null,
       "grid_area": null,
       "grid_auto_columns": null,
       "grid_auto_flow": null,
       "grid_auto_rows": null,
       "grid_column": null,
       "grid_gap": null,
       "grid_row": null,
       "grid_template_areas": null,
       "grid_template_columns": null,
       "grid_template_rows": null,
       "height": null,
       "justify_content": null,
       "justify_items": null,
       "left": null,
       "margin": null,
       "max_height": null,
       "max_width": null,
       "min_height": null,
       "min_width": null,
       "object_fit": null,
       "object_position": null,
       "order": null,
       "overflow": null,
       "overflow_x": null,
       "overflow_y": null,
       "padding": null,
       "right": null,
       "top": null,
       "visibility": null,
       "width": null
      }
     }
    },
    "version_major": 2,
    "version_minor": 0
   }
  }
 },
 "nbformat": 4,
 "nbformat_minor": 5
}
